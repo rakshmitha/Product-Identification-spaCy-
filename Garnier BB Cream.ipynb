{
 "cells": [
  {
   "cell_type": "markdown",
   "metadata": {},
   "source": [
    "### Load the package"
   ]
  },
  {
   "cell_type": "code",
   "execution_count": 1,
   "metadata": {},
   "outputs": [],
   "source": [
    "from __future__ import unicode_literals, print_function\n",
    "import plac\n",
    "import random\n",
    "from pathlib import Path\n",
    "import spacy\n",
    "from tqdm import tqdm \n",
    "import spacy\n",
    "from spellchecker import SpellChecker\n",
    "import re"
   ]
  },
  {
   "cell_type": "markdown",
   "metadata": {},
   "source": [
    "### Create a model"
   ]
  },
  {
   "cell_type": "code",
   "execution_count": 2,
   "metadata": {},
   "outputs": [],
   "source": [
    "nlp = spacy.load('en_core_web_md')"
   ]
  },
  {
   "cell_type": "markdown",
   "metadata": {},
   "source": [
    "### Training Input"
   ]
  },
  {
   "cell_type": "code",
   "execution_count": 3,
   "metadata": {},
   "outputs": [
    {
     "name": "stdout",
     "output_type": "stream",
     "text": [
      "25 33\n"
     ]
    }
   ],
   "source": [
    "s1=\"1.I absolutely love this BB cream. I have repurchased multiple bottles over the years. It’s a lovely formula which easily blends into the skin. It has a medium coverage and mattifies the skin. My skin looks good all day with this product and it improves my skins condition with use also! Great bonus that it has SPF 20. I have knocked a star off as the shade “light” must have recently been changed as it’s now too dark for my skin tone. I would say it’s more of a medium shade which is a shame.\"\n",
    "s1=s1.lower()\n",
    "s=r\"\\b(bb cream)\\b\"\n",
    "matches = re.search(s, s1)\n",
    "print(matches.start(),matches.end())"
   ]
  },
  {
   "cell_type": "code",
   "execution_count": 4,
   "metadata": {},
   "outputs": [
    {
     "name": "stdout",
     "output_type": "stream",
     "text": [
      "27 35\n"
     ]
    }
   ],
   "source": [
    "s2=\"2.I always use the garnier bb cream medium but the last one I bought the box and tube had changed. It’s much darker as well. Think might have to go lighter.\"\n",
    "s2=s2.lower()\n",
    "s=r\"\\b(bb cream)\\b\"\n",
    "matches = re.search(s, s2)\n",
    "print(matches.start(),matches.end())"
   ]
  },
  {
   "cell_type": "code",
   "execution_count": 5,
   "metadata": {},
   "outputs": [
    {
     "name": "stdout",
     "output_type": "stream",
     "text": [
      "105 113\n"
     ]
    }
   ],
   "source": [
    "s3=\"3.I picked this up today because it was on sale and was extremely disappointed. I have pale skin and the BB cream just looked straight up orange on me. Not at all what I was expecting given it's called light. It also goes on very streaky and patchy and has a very strong fragrance. Needless to say, I couldn't even leave the house with it on and removed it straight away, so I can't attest to the product's longevity. Worst base product I've ever tried.\"\n",
    "s3=s3.lower()\n",
    "s=r\"\\b(bb cream)\\b\"\n",
    "matches = re.search(s, s3)\n",
    "print(matches.start(),matches.end())"
   ]
  },
  {
   "cell_type": "code",
   "execution_count": 6,
   "metadata": {},
   "outputs": [
    {
     "data": {
      "text/plain": [
       "27"
      ]
     },
     "execution_count": 6,
     "metadata": {},
     "output_type": "execute_result"
    }
   ],
   "source": [
    "s4=\"4.I have bought several bb creams over the years and always been disappointed so wasn't expecting much from this. It does everything it promises, and I absolutely love it. I don't like wearing heavy makeup but don't have the best skin and this gives the perfect amount of coverage. Unlike many products that promise to mattify this actually does without drying out my skin and gives a lovely glow. A little goes a long way so I can tell this is going to last for ages. I have never felt so confident in how my skin looks and I will not be changing from this cream! Outperforms much more expensive formulas I've tried, absolute winner for me.\"\n",
    "s4=s4.lower()\n",
    "s2.find(\"bb cream\")"
   ]
  },
  {
   "cell_type": "code",
   "execution_count": 7,
   "metadata": {},
   "outputs": [
    {
     "name": "stdout",
     "output_type": "stream",
     "text": [
      "32 40\n"
     ]
    }
   ],
   "source": [
    "s5=\"5.this is my first time using a bb cream and honestly it’s great! i have slightly oily/combination skin and it mattifies my skin, but almost too much it looks quite dry. It evens my skin tone really really well as i have quite red face and it covers it well! Also, I’ve found that when applying with a damp beauty blender it becomes a tad patchy due to the water, but it blends really easily! I could only find the shades light and medium and being a fair/warm toned , blonde/brown hair, I’ve found that even the light shade hasn’t an orange undertone. I usually brighten it with a concealer, but it adds to the dryness.\"\n",
    "s5=s5.lower()\n",
    "s=r\"\\b(bb cream)\\b\"\n",
    "matches = re.search(s, s5)\n",
    "print(matches.start(),matches.end())"
   ]
  },
  {
   "cell_type": "code",
   "execution_count": 8,
   "metadata": {},
   "outputs": [
    {
     "name": "stdout",
     "output_type": "stream",
     "text": [
      "35 43\n"
     ]
    }
   ],
   "source": [
    "s6=\"6.My absolute favourite foundation/BB Cream! I have been using this for 3 years and have never strayed! It is the perfect natural base for your face - applied with a beauty blender gives a flawless look without being heavy and stays on all day with a primer and a bit of setting powder, light contour and blusher also sit nicely on top. It has a medium buildable coverage, honestly feel like it covers better than any other drugstore foundation I’ve used! Only negative is the shade range, however I have shades light and medium and mix them accordingly throughout the year to get my perfect colour! My skin has also improved since using this as it is non-clogging and has plenty of skin benefits, so you don't need to feel guilty about wearing it every day. The tube also lasts for ages (9+ months). Definitely recommend for oily/combination/blemish prone skin.\"\n",
    "s6=s6.lower()\n",
    "s=r\"\\b(bb cream)\\b\"\n",
    "matches = re.search(s, s6)\n",
    "print(matches.start(),matches.end())"
   ]
  },
  {
   "cell_type": "code",
   "execution_count": 9,
   "metadata": {},
   "outputs": [
    {
     "name": "stdout",
     "output_type": "stream",
     "text": [
      "55 63\n"
     ]
    }
   ],
   "source": [
    "s7=\"7.I switched a few months ago from the original garner BB cream to this version as my T-zone seems to have decided to be greasy and I was getting a few break-outs. This gives just enough coverage to tone down my red cheeks a bit but without looking like I have too heavy a face of make up on. Easy to use (and easy to remove at the end of the day) this has earned a permanent spot in my makeup bag!\"\n",
    "s7=s7.lower()\n",
    "s=r\"\\b(bb cream)\\b\"\n",
    "matches = re.search(s, s7)\n",
    "print(matches.start(),matches.end())"
   ]
  },
  {
   "cell_type": "code",
   "execution_count": 10,
   "metadata": {},
   "outputs": [
    {
     "name": "stdout",
     "output_type": "stream",
     "text": [
      "157 165\n"
     ]
    }
   ],
   "source": [
    "s8=\"8.Have been using this product for several weeks now and I love it. 47yrs old and was looking for something lighter for the summer and thought I would try a BB cream. I can't rate this product highly enough, I tend to use pricey foundation just because of my age and I don't have great skin but this BB cream gives me an even better finish, goes on smoothly, doesn't settle in lines (I do use a primer tho) last's all day with no shine and I just love the finish it gives. Don't be put off by the way it looks when first applied it's one of these products that takes about 10-15mins to settle but perfect after that. Buy it!\"\n",
    "s8=s8.lower()\n",
    "s=r\"\\b(bb cream)\\b\"\n",
    "matches = re.search(s, s8)\n",
    "print(matches.start(),matches.end())"
   ]
  },
  {
   "cell_type": "code",
   "execution_count": 11,
   "metadata": {},
   "outputs": [
    {
     "name": "stdout",
     "output_type": "stream",
     "text": [
      "530 538\n"
     ]
    }
   ],
   "source": [
    "s9=\"9.I bought this two days ago and I have used it twice and I am so, so pleased with it. I have combination skin but not many bb creams that are made for this skin type work very well - either they make me really oily or dry certain areas out. But this is perfect for me! I got it in medium even though I'm quite pale and it's wonderful. Doesn't dry my skin out or make my T-zone excessively oily like others. It gives a lovely, natural, even coverage and I have already had one compliment on my skin with using it. Because it is a bb cream it doesn't cover blemishes, so have a concealer at hand, but for a light, even coverage (gets rid of my redness) definitely give it a try!!!\"\n",
    "s9=s9.lower()\n",
    "s=r\"\\b(bb cream)\\b\"\n",
    "matches = re.search(s, s9)\n",
    "print(matches.start(),matches.end())"
   ]
  },
  {
   "cell_type": "code",
   "execution_count": 12,
   "metadata": {},
   "outputs": [
    {
     "name": "stdout",
     "output_type": "stream",
     "text": [
      "375 383\n"
     ]
    }
   ],
   "source": [
    "s10=\"10.Like many people I am constantly on the hunt for the perfect base. I spent years wearing really heavy foundation every day and now being 25 I want to look after my skin more and embrace being a little more natural. So, I was on the hunt for lighter coverage foundation/base. On a bit of a whim I bought this as its oil free and I get quite oily. I was sceptical as it's a bb cream and I thought that would be too light coverage to be honest. But it's amazing. I literally couldn't believe how nice my skin looked when I put this on. Even my boyfriend commented on it. It's a runny texture and I use a buffing brush to put it on and it's so quick and easy. It's not thick but it has good coverage. Definitely build-able and actually has a lot more coverage than expected. If you just want a tinted moisturiser type product I wouldn't say this is that, it's a little more coverage than that (which I love). It's a really good middle ground for me as not wearing a base isn't an option for me sadly. My only one negative is that it does rub off my nose quite easily as that's where I am most oily. I would like it to be a little more long lasting but honestly I'm okay with it because it makes me skin feel like it can breathe and I love the overall look far more than a thick foundation which also always rubs off my nose but looks worse! I just use the remains of the product on the brush to top up in the day and that's enough!\"\n",
    "s10=s10.lower()\n",
    "s=r\"\\b(bb cream)\\b\"\n",
    "matches = re.search(s, s10)\n",
    "print(matches.start(),matches.end())"
   ]
  },
  {
   "cell_type": "code",
   "execution_count": 13,
   "metadata": {},
   "outputs": [
    {
     "name": "stdout",
     "output_type": "stream",
     "text": [
      "32 40\n"
     ]
    }
   ],
   "source": [
    "s11=\"11.I usually use the Maybelline bb cream, but I decided to get this one instead. great coverage and it actually reduced my acne. would recommend it\"\n",
    "s11=s11.lower()\n",
    "s=r\"\\b(bb cream)\\b\"\n",
    "matches = re.search(s, s11)\n",
    "print(matches.start(),matches.end())"
   ]
  },
  {
   "cell_type": "code",
   "execution_count": 14,
   "metadata": {},
   "outputs": [
    {
     "name": "stdout",
     "output_type": "stream",
     "text": [
      "15 23\n"
     ]
    }
   ],
   "source": [
    "s12=\"12.I love this BB cream for combination skin, but with my pale complexion it only really suits me when I've got a tan (which just doesn't happen that often when you live in the UK!). Please introduce the extra light shade for this one as well!\"\n",
    "s12=s12.lower()\n",
    "s=r\"\\b(bb cream)\\b\"\n",
    "matches = re.search(s, s12)\n",
    "print(matches.start(),matches.end())"
   ]
  },
  {
   "cell_type": "code",
   "execution_count": 15,
   "metadata": {},
   "outputs": [
    {
     "data": {
      "text/plain": [
       "-1"
      ]
     },
     "execution_count": 15,
     "metadata": {},
     "output_type": "execute_result"
    }
   ],
   "source": [
    "s13=\"13.This product does what it says on the box to be fair, it does make your skin that little bit better without having to trowel foundation all over your face.\"\n",
    "s13=s13.lower()\n",
    "s13.find(\"bb cream\")"
   ]
  },
  {
   "cell_type": "code",
   "execution_count": 16,
   "metadata": {},
   "outputs": [
    {
     "data": {
      "text/plain": [
       "-1"
      ]
     },
     "execution_count": 16,
     "metadata": {},
     "output_type": "execute_result"
    }
   ],
   "source": [
    "s14=\"14.It does control oil for about 4 hours, after which I find I have to remove my oil with blotting papers and then use Rimmel Stay Matte to take a bit of the shine off my face.\"\n",
    "s14=s14.lower()\n",
    "s14.find(\"bb cream\")"
   ]
  },
  {
   "cell_type": "code",
   "execution_count": 17,
   "metadata": {},
   "outputs": [
    {
     "name": "stdout",
     "output_type": "stream",
     "text": [
      "736 744\n"
     ]
    }
   ],
   "source": [
    "s15=\"15.What I'm really disappointed with is the colour. This product is, unusually, on the yellow toned side, which normally complements my neutral undertones a lot better than standard pink based BB creams, but it's about 3 shades too dark for me, and there are no lighter shades than this available. I look like I've been tangoed when I wear it, and there's no way of blending it in around my chin line. As your face gets more oily, the colour does lighten up to complement your natural skin, but this can take all morning, and then by lunchtime, when it looks a normal colour, your face has become oily, so you feel like taking it off and reapplying. All of that hassle, and it doesn't completely hide your blemishes because it's only a BB cream anyway.... I'd rather get out a trusty foundation :( And I really wanted to make this work for me, as on the box it seemed too good to be true.\"\n",
    "s15=s15.lower()\n",
    "s=r\"\\b(bb cream)\\b\"\n",
    "matches = re.search(s, s15)\n",
    "print(matches.start(),matches.end())"
   ]
  },
  {
   "cell_type": "code",
   "execution_count": 18,
   "metadata": {},
   "outputs": [
    {
     "name": "stdout",
     "output_type": "stream",
     "text": [
      "20 28\n"
     ]
    }
   ],
   "source": [
    "s16=\"16.I thought that a BB Cream specifically for combination skin would work miracles. I am sad to say that it didn't. The colour of the product is good as my skin is quite tanned and the coverage was reasonable. However, this is where the good points end. The product is extremely runny so is messy to apply and it's difficult to keep a clean make up bag with this in it. It also transfers very easily from your face to your hands throughout the day, so pretty much everything I handled would end up with the product clinging to it. I have typical combination skin, but this product seems to have aggravated the worst traits. It clings to dry patches, and has created more patches where I wouldn't normally get dry skin e.g. around my nose and between my eyebrows. I have also experienced a lot more breakouts of spots than normal. The spots have been awful. They are big, angry and very sore and whereas if I don't touch or squeeze spots they will usually disappear on their own after a couple of days, when using this they lasted much longer and instead of covering the problem this product just seemed to make things much worse. It has also done nothing to prevent shine as my skin looked oily after just a couple of hours. I've given up on this BB Cream after less than a month and have had to go completely make up free for the past week to give my skin chance to calm down. I'm sure that this product suits lots of people but if you have combination skin that is also quite sensitive my advice would be to avoid it at all costs.\"\n",
    "s16=s16.lower()\n",
    "s=r\"\\b(bb cream)\\b\"\n",
    "matches = re.search(s, s16)\n",
    "print(matches.start(),matches.end())"
   ]
  },
  {
   "cell_type": "code",
   "execution_count": 19,
   "metadata": {},
   "outputs": [
    {
     "name": "stdout",
     "output_type": "stream",
     "text": [
      "260 268\n"
     ]
    }
   ],
   "source": [
    "s17=\"17.I've tried loads of BB creams trying to find one that actually works and does what it says! Every other one I've found says light but is actually orange. This Garnier one is actually a light colour! Yellow undertones so perfect for me. Great coverage for a BB cream, I'd even say better than some foundation's I've had in the past. And...... It's matte!!! No shine and no stickiness! The only thing I don't like about it is that the box says to apply it like you would a moisturiser. I'd advise to use a brush, it's a little bit hard to blend around the edges of your face and I find fingers make the cheeks look blotchy.\"\n",
    "s17=s17.lower()\n",
    "s=r\"\\b(bb cream)\\b\"\n",
    "matches = re.search(s, s17)\n",
    "print(matches.start(),matches.end())"
   ]
  },
  {
   "cell_type": "code",
   "execution_count": 20,
   "metadata": {},
   "outputs": [
    {
     "name": "stdout",
     "output_type": "stream",
     "text": [
      "289 297\n"
     ]
    }
   ],
   "source": [
    "s18=\"18.Quite disappointing, it doesn't blend well, it leaves my face looking waxy and orange and it makes my foundation look weird. Definitely not a good buy. I tried a little trick since I didn't want this to go to waste. I mixed some of my foundation in a little pot along with some of this BB cream and once applied, it looked a little better than on it's own, but still, If you are thinking about buying it, think twice. I wouldn't recommend it.\"\n",
    "s18=s18.lower()\n",
    "s=r\"\\b(bb cream)\\b\"\n",
    "matches = re.search(s, s18)\n",
    "print(matches.start(),matches.end())"
   ]
  },
  {
   "cell_type": "code",
   "execution_count": 21,
   "metadata": {},
   "outputs": [
    {
     "name": "stdout",
     "output_type": "stream",
     "text": [
      "462 470\n"
     ]
    }
   ],
   "source": [
    "s19=\"19.I normally use my Loreal True Match foundation every day, but it's safe to say I'll be switching to this! It has the same coverage as a foundation and evens out skin tone, but it feels just like skin on your face as if nothing's there! It hardly ever creases and lasts hours without fading away! Sometimes redness can show through after a few hours but if you use a good concealer there'll be no problem! I have normal skin but I'm oily in my t-zone, so this bb cream is perfect as it stays matte all day, and even longer if you use some powder\"\n",
    "s19=s19.lower()\n",
    "s=r\"\\b(bb cream)\\b\"\n",
    "matches = re.search(s, s19)\n",
    "print(matches.start(),matches.end())"
   ]
  },
  {
   "cell_type": "code",
   "execution_count": 22,
   "metadata": {},
   "outputs": [
    {
     "name": "stdout",
     "output_type": "stream",
     "text": [
      "20 28\n"
     ]
    }
   ],
   "source": [
    "s20=\"20.I've bought this bb cream several times as I love the dewy finish it gives me. The coverage isn't brilliant, but I use concealer too. Unfortunately, I'm looking for another bb cream next time though as I'm sick of it leaking all over my makeup bag. I'm not sure why it does that, I can only assume it's the screw top lid. If Garnier change it for a pump applicator I might consider buying it again.\"\n",
    "s20=s20.lower()\n",
    "s=r\"\\b(bb cream)\\b\"\n",
    "matches = re.search(s, s20)\n",
    "print(matches.start(),matches.end())"
   ]
  },
  {
   "cell_type": "markdown",
   "metadata": {},
   "source": [
    "### Training Data"
   ]
  },
  {
   "cell_type": "code",
   "execution_count": 23,
   "metadata": {},
   "outputs": [],
   "source": [
    "TRAIN_DATA = [\n",
    "    (s1, {\n",
    "        'entities': [(25, 33, 'Garnier BB Cream Miracle Skin Perfector')]\n",
    "    }),\n",
    "     (s2, {\n",
    "        'entities': [(27, 35, 'Garnier BB Cream Miracle Skin Perfector')]\n",
    "    }),\n",
    "    (s3, {\n",
    "        'entities': [(105, 113, 'Garnier BB Cream Miracle Skin Perfector')]\n",
    "    }),\n",
    "    (s4, {\n",
    "        'entities': [(27, 35, 'Garnier BB Cream Miracle Skin Perfector')]\n",
    "    }),\n",
    "    (s5, {\n",
    "        'entities': [(32, 40, 'Garnier BB Cream Miracle Skin Perfector')]\n",
    "    }),\n",
    "    (s6, {\n",
    "        'entities': [(35, 43, 'Garnier BB Cream Miracle Skin Perfector')]\n",
    "    }),\n",
    "    (s7, {\n",
    "        'entities': [(55, 63, 'Garnier BB Cream Miracle Skin Perfector')]\n",
    "    }),\n",
    "    (s8, {\n",
    "        'entities': [(157, 165, 'Garnier BB Cream Miracle Skin Perfector')]\n",
    "    }),\n",
    "    (s9, {\n",
    "        'entities': [(530, 538, 'Garnier BB Cream Miracle Skin Perfector')]\n",
    "    }),\n",
    "    (s10, {\n",
    "        'entities': [(375, 383, 'Garnier BB Cream Miracle Skin Perfector')]\n",
    "    }),\n",
    "    (s11, {\n",
    "        'entities': [(32, 40, 'Garnier BB Cream Miracle Skin Perfector')]\n",
    "    }),\n",
    "    (s12, {\n",
    "        'entities': [(15, 23, 'Garnier BB Cream Miracle Skin Perfector')]\n",
    "    }),\n",
    "    (s13, {\n",
    "        'entities': []\n",
    "    }),\n",
    "    (s14, {\n",
    "        'entities': []\n",
    "    }),\n",
    "    (s15, {\n",
    "        'entities': [(736, 744, 'Garnier BB Cream Miracle Skin Perfector')]\n",
    "    }),\n",
    "    (s16, {\n",
    "        'entities': [(20, 28, 'Garnier BB Cream Miracle Skin Perfector')]\n",
    "    }),\n",
    "    (s17, {\n",
    "        'entities': [(260, 268, 'Garnier BB Cream Miracle Skin Perfector')]\n",
    "    }),\n",
    "    (s18, {\n",
    "        'entities': [(289, 297, 'Garnier BB Cream Miracle Skin Perfector')]\n",
    "    }),\n",
    "    (s19, {\n",
    "        'entities': [(462, 470, 'Garnier BB Cream Miracle Skin Perfector')]\n",
    "    }),\n",
    "    (s20, {\n",
    "        'entities': [(20, 28, 'Garnier BB Cream Miracle Skin Perfector')]\n",
    "    })\n",
    "]"
   ]
  },
  {
   "cell_type": "markdown",
   "metadata": {},
   "source": [
    "### Define our variables"
   ]
  },
  {
   "cell_type": "code",
   "execution_count": 24,
   "metadata": {},
   "outputs": [],
   "source": [
    "model = None\n",
    "output_dir=Path(\"C:\\\\Users\\\\nithi\\\\Documents\\\\productNER\")\n",
    "n_iter=100"
   ]
  },
  {
   "cell_type": "markdown",
   "metadata": {},
   "source": [
    "### Load the model"
   ]
  },
  {
   "cell_type": "code",
   "execution_count": 25,
   "metadata": {},
   "outputs": [
    {
     "name": "stdout",
     "output_type": "stream",
     "text": [
      "Created blank 'en' model\n"
     ]
    }
   ],
   "source": [
    "if model is not None:\n",
    "    nlp = spacy.load(model)  \n",
    "    print(\"Loaded model '%s'\" % model)\n",
    "else:\n",
    "    nlp = spacy.blank('en')  \n",
    "    print(\"Created blank 'en' model\")"
   ]
  },
  {
   "cell_type": "markdown",
   "metadata": {},
   "source": [
    "### Set-up the NER pipeline"
   ]
  },
  {
   "cell_type": "code",
   "execution_count": 26,
   "metadata": {},
   "outputs": [],
   "source": [
    "if 'ner' not in nlp.pipe_names:\n",
    "    ner = nlp.create_pipe('ner')\n",
    "    nlp.add_pipe(ner, last=True)\n",
    "else:\n",
    "    ner = nlp.get_pipe('ner')"
   ]
  },
  {
   "cell_type": "markdown",
   "metadata": {},
   "source": [
    "### Train the recognizer"
   ]
  },
  {
   "cell_type": "code",
   "execution_count": 27,
   "metadata": {},
   "outputs": [
    {
     "name": "stderr",
     "output_type": "stream",
     "text": [
      "C:\\Users\\nithi\\Anaconda3\\lib\\site-packages\\spacy\\language.py:639: UserWarning: [W033] Training a new parser or NER using a model with no lexeme normalization table. This may degrade the performance of the model to some degree. If this is intentional or the language you're using doesn't have a normalization table, please ignore this warning. If this is surprising, make sure you have the spacy-lookups-data package installed. The languages with lexeme normalization tables are currently: da, de, el, en, id, lb, pt, ru, sr, ta, th.\n",
      "  **kwargs\n",
      " 45%|████▌     | 9/20 [00:00<00:01,  9.37it/s]C:\\Users\\nithi\\Anaconda3\\lib\\site-packages\\spacy\\language.py:482: UserWarning: [W030] Some entities could not be aligned in the text \"4.i have bought several bb creams over the years a...\" with entities \"[(27, 35, 'Garnier BB Cream Miracle Skin Perfector...\". Use `spacy.gold.biluo_tags_from_offsets(nlp.make_doc(text), entities)` to check the alignment. Misaligned entities ('-') will be ignored during training.\n",
      "  gold = GoldParse(doc, **gold)\n",
      "100%|██████████| 20/20 [00:02<00:00,  8.95it/s]\n"
     ]
    },
    {
     "name": "stdout",
     "output_type": "stream",
     "text": [
      "{'ner': 589.3447660801666}\n"
     ]
    },
    {
     "name": "stderr",
     "output_type": "stream",
     "text": [
      "100%|██████████| 20/20 [00:02<00:00,  8.13it/s]\n"
     ]
    },
    {
     "name": "stdout",
     "output_type": "stream",
     "text": [
      "{'ner': 32.114210651595656}\n"
     ]
    },
    {
     "name": "stderr",
     "output_type": "stream",
     "text": [
      "100%|██████████| 20/20 [00:02<00:00,  9.52it/s]\n"
     ]
    },
    {
     "name": "stdout",
     "output_type": "stream",
     "text": [
      "{'ner': 72.64862469443678}\n"
     ]
    },
    {
     "name": "stderr",
     "output_type": "stream",
     "text": [
      "100%|██████████| 20/20 [00:02<00:00,  9.57it/s]\n"
     ]
    },
    {
     "name": "stdout",
     "output_type": "stream",
     "text": [
      "{'ner': 34.41754774806183}\n"
     ]
    },
    {
     "name": "stderr",
     "output_type": "stream",
     "text": [
      "100%|██████████| 20/20 [00:02<00:00,  9.58it/s]\n"
     ]
    },
    {
     "name": "stdout",
     "output_type": "stream",
     "text": [
      "{'ner': 28.678026361156917}\n"
     ]
    },
    {
     "name": "stderr",
     "output_type": "stream",
     "text": [
      "100%|██████████| 20/20 [00:02<00:00,  8.29it/s]\n"
     ]
    },
    {
     "name": "stdout",
     "output_type": "stream",
     "text": [
      "{'ner': 16.383200480473153}\n"
     ]
    },
    {
     "name": "stderr",
     "output_type": "stream",
     "text": [
      "100%|██████████| 20/20 [00:02<00:00,  8.22it/s]\n"
     ]
    },
    {
     "name": "stdout",
     "output_type": "stream",
     "text": [
      "{'ner': 7.269500866883957}\n"
     ]
    },
    {
     "name": "stderr",
     "output_type": "stream",
     "text": [
      "100%|██████████| 20/20 [00:02<00:00,  8.63it/s]\n"
     ]
    },
    {
     "name": "stdout",
     "output_type": "stream",
     "text": [
      "{'ner': 17.50843113975566}\n"
     ]
    },
    {
     "name": "stderr",
     "output_type": "stream",
     "text": [
      "100%|██████████| 20/20 [00:02<00:00,  7.91it/s]\n"
     ]
    },
    {
     "name": "stdout",
     "output_type": "stream",
     "text": [
      "{'ner': 10.363887862553032}\n"
     ]
    },
    {
     "name": "stderr",
     "output_type": "stream",
     "text": [
      "100%|██████████| 20/20 [00:02<00:00,  8.97it/s]\n"
     ]
    },
    {
     "name": "stdout",
     "output_type": "stream",
     "text": [
      "{'ner': 8.890180188238046}\n"
     ]
    },
    {
     "name": "stderr",
     "output_type": "stream",
     "text": [
      "100%|██████████| 20/20 [00:02<00:00,  8.74it/s]\n"
     ]
    },
    {
     "name": "stdout",
     "output_type": "stream",
     "text": [
      "{'ner': 9.869146194820338}\n"
     ]
    },
    {
     "name": "stderr",
     "output_type": "stream",
     "text": [
      "100%|██████████| 20/20 [00:02<00:00,  7.66it/s]\n"
     ]
    },
    {
     "name": "stdout",
     "output_type": "stream",
     "text": [
      "{'ner': 6.675580337338882}\n"
     ]
    },
    {
     "name": "stderr",
     "output_type": "stream",
     "text": [
      "100%|██████████| 20/20 [00:02<00:00,  7.84it/s]\n"
     ]
    },
    {
     "name": "stdout",
     "output_type": "stream",
     "text": [
      "{'ner': 9.028862399030153}\n"
     ]
    },
    {
     "name": "stderr",
     "output_type": "stream",
     "text": [
      "100%|██████████| 20/20 [00:02<00:00,  8.40it/s]\n"
     ]
    },
    {
     "name": "stdout",
     "output_type": "stream",
     "text": [
      "{'ner': 3.054312161477098}\n"
     ]
    },
    {
     "name": "stderr",
     "output_type": "stream",
     "text": [
      "100%|██████████| 20/20 [00:02<00:00,  8.12it/s]\n"
     ]
    },
    {
     "name": "stdout",
     "output_type": "stream",
     "text": [
      "{'ner': 1.9538996488788873}\n"
     ]
    },
    {
     "name": "stderr",
     "output_type": "stream",
     "text": [
      "100%|██████████| 20/20 [00:02<00:00,  7.89it/s]\n"
     ]
    },
    {
     "name": "stdout",
     "output_type": "stream",
     "text": [
      "{'ner': 4.226835013293892}\n"
     ]
    },
    {
     "name": "stderr",
     "output_type": "stream",
     "text": [
      "100%|██████████| 20/20 [00:02<00:00,  8.17it/s]\n"
     ]
    },
    {
     "name": "stdout",
     "output_type": "stream",
     "text": [
      "{'ner': 0.018145873441107827}\n"
     ]
    },
    {
     "name": "stderr",
     "output_type": "stream",
     "text": [
      "100%|██████████| 20/20 [00:02<00:00,  7.87it/s]\n"
     ]
    },
    {
     "name": "stdout",
     "output_type": "stream",
     "text": [
      "{'ner': 3.9217531967465855}\n"
     ]
    },
    {
     "name": "stderr",
     "output_type": "stream",
     "text": [
      "100%|██████████| 20/20 [00:02<00:00,  8.03it/s]\n"
     ]
    },
    {
     "name": "stdout",
     "output_type": "stream",
     "text": [
      "{'ner': 5.076489267668267}\n"
     ]
    },
    {
     "name": "stderr",
     "output_type": "stream",
     "text": [
      "100%|██████████| 20/20 [00:02<00:00,  8.41it/s]\n"
     ]
    },
    {
     "name": "stdout",
     "output_type": "stream",
     "text": [
      "{'ner': 7.401935674991888}\n"
     ]
    },
    {
     "name": "stderr",
     "output_type": "stream",
     "text": [
      "100%|██████████| 20/20 [00:02<00:00,  8.30it/s]\n"
     ]
    },
    {
     "name": "stdout",
     "output_type": "stream",
     "text": [
      "{'ner': 0.1818643517486618}\n"
     ]
    },
    {
     "name": "stderr",
     "output_type": "stream",
     "text": [
      "100%|██████████| 20/20 [00:02<00:00,  7.18it/s]\n"
     ]
    },
    {
     "name": "stdout",
     "output_type": "stream",
     "text": [
      "{'ner': 2.235137453612941}\n"
     ]
    },
    {
     "name": "stderr",
     "output_type": "stream",
     "text": [
      "100%|██████████| 20/20 [00:02<00:00,  7.30it/s]\n"
     ]
    },
    {
     "name": "stdout",
     "output_type": "stream",
     "text": [
      "{'ner': 1.1314332006397478}\n"
     ]
    },
    {
     "name": "stderr",
     "output_type": "stream",
     "text": [
      "100%|██████████| 20/20 [00:02<00:00,  8.50it/s]\n"
     ]
    },
    {
     "name": "stdout",
     "output_type": "stream",
     "text": [
      "{'ner': 1.9988786080923957}\n"
     ]
    },
    {
     "name": "stderr",
     "output_type": "stream",
     "text": [
      "100%|██████████| 20/20 [00:02<00:00,  8.64it/s]\n"
     ]
    },
    {
     "name": "stdout",
     "output_type": "stream",
     "text": [
      "{'ner': 9.040355663229873e-05}\n"
     ]
    },
    {
     "name": "stderr",
     "output_type": "stream",
     "text": [
      "100%|██████████| 20/20 [00:02<00:00,  7.18it/s]\n"
     ]
    },
    {
     "name": "stdout",
     "output_type": "stream",
     "text": [
      "{'ner': 0.0016350877488211398}\n"
     ]
    },
    {
     "name": "stderr",
     "output_type": "stream",
     "text": [
      "100%|██████████| 20/20 [00:02<00:00,  7.24it/s]\n"
     ]
    },
    {
     "name": "stdout",
     "output_type": "stream",
     "text": [
      "{'ner': 0.009519101866382072}\n"
     ]
    },
    {
     "name": "stderr",
     "output_type": "stream",
     "text": [
      "100%|██████████| 20/20 [00:03<00:00,  6.64it/s]\n"
     ]
    },
    {
     "name": "stdout",
     "output_type": "stream",
     "text": [
      "{'ner': 2.008788859200534}\n"
     ]
    },
    {
     "name": "stderr",
     "output_type": "stream",
     "text": [
      "100%|██████████| 20/20 [00:02<00:00,  7.13it/s]\n"
     ]
    },
    {
     "name": "stdout",
     "output_type": "stream",
     "text": [
      "{'ner': 0.005034423753646539}\n"
     ]
    },
    {
     "name": "stderr",
     "output_type": "stream",
     "text": [
      "100%|██████████| 20/20 [00:02<00:00,  7.45it/s]\n"
     ]
    },
    {
     "name": "stdout",
     "output_type": "stream",
     "text": [
      "{'ner': 1.182078492223767e-06}\n"
     ]
    },
    {
     "name": "stderr",
     "output_type": "stream",
     "text": [
      "100%|██████████| 20/20 [00:02<00:00,  7.43it/s]\n"
     ]
    },
    {
     "name": "stdout",
     "output_type": "stream",
     "text": [
      "{'ner': 0.00016156925364284186}\n"
     ]
    },
    {
     "name": "stderr",
     "output_type": "stream",
     "text": [
      "100%|██████████| 20/20 [00:02<00:00,  6.98it/s]\n"
     ]
    },
    {
     "name": "stdout",
     "output_type": "stream",
     "text": [
      "{'ner': 0.004476864108326202}\n"
     ]
    },
    {
     "name": "stderr",
     "output_type": "stream",
     "text": [
      "100%|██████████| 20/20 [00:02<00:00,  6.96it/s]\n"
     ]
    },
    {
     "name": "stdout",
     "output_type": "stream",
     "text": [
      "{'ner': 3.613645627633949e-05}\n"
     ]
    },
    {
     "name": "stderr",
     "output_type": "stream",
     "text": [
      "100%|██████████| 20/20 [00:03<00:00,  6.30it/s]\n"
     ]
    },
    {
     "name": "stdout",
     "output_type": "stream",
     "text": [
      "{'ner': 0.4183163580392528}\n"
     ]
    },
    {
     "name": "stderr",
     "output_type": "stream",
     "text": [
      "100%|██████████| 20/20 [00:02<00:00,  6.85it/s]\n"
     ]
    },
    {
     "name": "stdout",
     "output_type": "stream",
     "text": [
      "{'ner': 0.7211903636013683}\n"
     ]
    },
    {
     "name": "stderr",
     "output_type": "stream",
     "text": [
      "100%|██████████| 20/20 [00:02<00:00,  6.86it/s]\n"
     ]
    },
    {
     "name": "stdout",
     "output_type": "stream",
     "text": [
      "{'ner': 0.006497742234505945}\n"
     ]
    },
    {
     "name": "stderr",
     "output_type": "stream",
     "text": [
      "100%|██████████| 20/20 [00:02<00:00,  6.79it/s]\n"
     ]
    },
    {
     "name": "stdout",
     "output_type": "stream",
     "text": [
      "{'ner': 3.0772775533555854}\n"
     ]
    },
    {
     "name": "stderr",
     "output_type": "stream",
     "text": [
      "100%|██████████| 20/20 [00:03<00:00,  6.55it/s]\n"
     ]
    },
    {
     "name": "stdout",
     "output_type": "stream",
     "text": [
      "{'ner': 5.287755503607279}\n"
     ]
    },
    {
     "name": "stderr",
     "output_type": "stream",
     "text": [
      "100%|██████████| 20/20 [00:03<00:00,  6.31it/s]\n"
     ]
    },
    {
     "name": "stdout",
     "output_type": "stream",
     "text": [
      "{'ner': 1.9692557563110824}\n"
     ]
    },
    {
     "name": "stderr",
     "output_type": "stream",
     "text": [
      "100%|██████████| 20/20 [00:03<00:00,  6.13it/s]\n"
     ]
    },
    {
     "name": "stdout",
     "output_type": "stream",
     "text": [
      "{'ner': 0.001366975352073398}\n"
     ]
    },
    {
     "name": "stderr",
     "output_type": "stream",
     "text": [
      "100%|██████████| 20/20 [00:03<00:00,  5.98it/s]\n"
     ]
    },
    {
     "name": "stdout",
     "output_type": "stream",
     "text": [
      "{'ner': 31.74294748362535}\n"
     ]
    },
    {
     "name": "stderr",
     "output_type": "stream",
     "text": [
      "100%|██████████| 20/20 [00:03<00:00,  6.06it/s]\n"
     ]
    },
    {
     "name": "stdout",
     "output_type": "stream",
     "text": [
      "{'ner': 1.084565606197219}\n"
     ]
    },
    {
     "name": "stderr",
     "output_type": "stream",
     "text": [
      "100%|██████████| 20/20 [00:03<00:00,  6.56it/s]\n"
     ]
    },
    {
     "name": "stdout",
     "output_type": "stream",
     "text": [
      "{'ner': 0.00015071056725095384}\n"
     ]
    },
    {
     "name": "stderr",
     "output_type": "stream",
     "text": [
      "100%|██████████| 20/20 [00:03<00:00,  5.74it/s]\n"
     ]
    },
    {
     "name": "stdout",
     "output_type": "stream",
     "text": [
      "{'ner': 0.002687900943287704}\n"
     ]
    },
    {
     "name": "stderr",
     "output_type": "stream",
     "text": [
      "100%|██████████| 20/20 [00:02<00:00,  8.29it/s]\n"
     ]
    },
    {
     "name": "stdout",
     "output_type": "stream",
     "text": [
      "{'ner': 0.001215823478296376}\n"
     ]
    },
    {
     "name": "stderr",
     "output_type": "stream",
     "text": [
      "100%|██████████| 20/20 [00:02<00:00,  6.80it/s]\n"
     ]
    },
    {
     "name": "stdout",
     "output_type": "stream",
     "text": [
      "{'ner': 1.0510825370618959e-05}\n"
     ]
    },
    {
     "name": "stderr",
     "output_type": "stream",
     "text": [
      "100%|██████████| 20/20 [00:03<00:00,  6.44it/s]\n"
     ]
    },
    {
     "name": "stdout",
     "output_type": "stream",
     "text": [
      "{'ner': 5.335106379988729e-07}\n"
     ]
    },
    {
     "name": "stderr",
     "output_type": "stream",
     "text": [
      "100%|██████████| 20/20 [00:03<00:00,  6.47it/s]\n"
     ]
    },
    {
     "name": "stdout",
     "output_type": "stream",
     "text": [
      "{'ner': 0.000178416313619889}\n"
     ]
    },
    {
     "name": "stderr",
     "output_type": "stream",
     "text": [
      "100%|██████████| 20/20 [00:03<00:00,  5.98it/s]\n"
     ]
    },
    {
     "name": "stdout",
     "output_type": "stream",
     "text": [
      "{'ner': 3.369206382715411e-08}\n"
     ]
    },
    {
     "name": "stderr",
     "output_type": "stream",
     "text": [
      "100%|██████████| 20/20 [00:03<00:00,  6.44it/s]\n"
     ]
    },
    {
     "name": "stdout",
     "output_type": "stream",
     "text": [
      "{'ner': 1.8270361756431877e-07}\n"
     ]
    },
    {
     "name": "stderr",
     "output_type": "stream",
     "text": [
      "100%|██████████| 20/20 [00:03<00:00,  6.24it/s]\n"
     ]
    },
    {
     "name": "stdout",
     "output_type": "stream",
     "text": [
      "{'ner': 3.3414319304025684e-09}\n"
     ]
    },
    {
     "name": "stderr",
     "output_type": "stream",
     "text": [
      "100%|██████████| 20/20 [00:02<00:00,  6.82it/s]\n"
     ]
    },
    {
     "name": "stdout",
     "output_type": "stream",
     "text": [
      "{'ner': 1.9225713637558136e-07}\n"
     ]
    },
    {
     "name": "stderr",
     "output_type": "stream",
     "text": [
      "100%|██████████| 20/20 [00:03<00:00,  6.51it/s]\n"
     ]
    },
    {
     "name": "stdout",
     "output_type": "stream",
     "text": [
      "{'ner': 4.69076715113524e-08}\n"
     ]
    },
    {
     "name": "stderr",
     "output_type": "stream",
     "text": [
      "100%|██████████| 20/20 [00:03<00:00,  6.45it/s]\n"
     ]
    },
    {
     "name": "stdout",
     "output_type": "stream",
     "text": [
      "{'ner': 3.7090643589639084e-07}\n"
     ]
    },
    {
     "name": "stderr",
     "output_type": "stream",
     "text": [
      "100%|██████████| 20/20 [00:03<00:00,  6.06it/s]\n"
     ]
    },
    {
     "name": "stdout",
     "output_type": "stream",
     "text": [
      "{'ner': 2.977021579340255e-08}\n"
     ]
    },
    {
     "name": "stderr",
     "output_type": "stream",
     "text": [
      "100%|██████████| 20/20 [00:03<00:00,  6.27it/s]\n"
     ]
    },
    {
     "name": "stdout",
     "output_type": "stream",
     "text": [
      "{'ner': 3.7515497435796305e-05}\n"
     ]
    },
    {
     "name": "stderr",
     "output_type": "stream",
     "text": [
      "100%|██████████| 20/20 [00:02<00:00,  6.91it/s]\n"
     ]
    },
    {
     "name": "stdout",
     "output_type": "stream",
     "text": [
      "{'ner': 3.978829114586384e-06}\n"
     ]
    },
    {
     "name": "stderr",
     "output_type": "stream",
     "text": [
      "100%|██████████| 20/20 [00:03<00:00,  6.19it/s]\n"
     ]
    },
    {
     "name": "stdout",
     "output_type": "stream",
     "text": [
      "{'ner': 1.2143242984496123e-07}\n"
     ]
    },
    {
     "name": "stderr",
     "output_type": "stream",
     "text": [
      "100%|██████████| 20/20 [00:03<00:00,  6.05it/s]\n"
     ]
    },
    {
     "name": "stdout",
     "output_type": "stream",
     "text": [
      "{'ner': 8.304575034493164e-06}\n"
     ]
    },
    {
     "name": "stderr",
     "output_type": "stream",
     "text": [
      "100%|██████████| 20/20 [00:03<00:00,  5.75it/s]\n"
     ]
    },
    {
     "name": "stdout",
     "output_type": "stream",
     "text": [
      "{'ner': 3.886880241101348e-06}\n"
     ]
    },
    {
     "name": "stderr",
     "output_type": "stream",
     "text": [
      "100%|██████████| 20/20 [00:03<00:00,  6.34it/s]\n"
     ]
    },
    {
     "name": "stdout",
     "output_type": "stream",
     "text": [
      "{'ner': 5.381241507962756e-05}\n"
     ]
    },
    {
     "name": "stderr",
     "output_type": "stream",
     "text": [
      "100%|██████████| 20/20 [00:03<00:00,  6.11it/s]\n"
     ]
    },
    {
     "name": "stdout",
     "output_type": "stream",
     "text": [
      "{'ner': 9.377147587889191e-07}\n"
     ]
    },
    {
     "name": "stderr",
     "output_type": "stream",
     "text": [
      "100%|██████████| 20/20 [00:03<00:00,  6.07it/s]\n"
     ]
    },
    {
     "name": "stdout",
     "output_type": "stream",
     "text": [
      "{'ner': 2.9549672164833546e-07}\n"
     ]
    },
    {
     "name": "stderr",
     "output_type": "stream",
     "text": [
      "100%|██████████| 20/20 [00:03<00:00,  5.82it/s]\n"
     ]
    },
    {
     "name": "stdout",
     "output_type": "stream",
     "text": [
      "{'ner': 0.3569370144260132}\n"
     ]
    },
    {
     "name": "stderr",
     "output_type": "stream",
     "text": [
      "100%|██████████| 20/20 [00:03<00:00,  5.91it/s]\n"
     ]
    },
    {
     "name": "stdout",
     "output_type": "stream",
     "text": [
      "{'ner': 7.219520123817117e-09}\n"
     ]
    },
    {
     "name": "stderr",
     "output_type": "stream",
     "text": [
      "100%|██████████| 20/20 [00:03<00:00,  6.39it/s]\n"
     ]
    },
    {
     "name": "stdout",
     "output_type": "stream",
     "text": [
      "{'ner': 7.552198687419998e-06}\n"
     ]
    },
    {
     "name": "stderr",
     "output_type": "stream",
     "text": [
      "100%|██████████| 20/20 [00:03<00:00,  6.22it/s]\n"
     ]
    },
    {
     "name": "stdout",
     "output_type": "stream",
     "text": [
      "{'ner': 2.966646616771344e-06}\n"
     ]
    },
    {
     "name": "stderr",
     "output_type": "stream",
     "text": [
      "100%|██████████| 20/20 [00:03<00:00,  6.29it/s]\n"
     ]
    },
    {
     "name": "stdout",
     "output_type": "stream",
     "text": [
      "{'ner': 2.5882878561316858e-05}\n"
     ]
    },
    {
     "name": "stderr",
     "output_type": "stream",
     "text": [
      "100%|██████████| 20/20 [00:04<00:00,  4.39it/s]\n"
     ]
    },
    {
     "name": "stdout",
     "output_type": "stream",
     "text": [
      "{'ner': 8.817940457642422e-10}\n"
     ]
    },
    {
     "name": "stderr",
     "output_type": "stream",
     "text": [
      "100%|██████████| 20/20 [00:04<00:00,  4.11it/s]\n"
     ]
    },
    {
     "name": "stdout",
     "output_type": "stream",
     "text": [
      "{'ner': 1.497523654189632e-09}\n"
     ]
    },
    {
     "name": "stderr",
     "output_type": "stream",
     "text": [
      "100%|██████████| 20/20 [00:03<00:00,  5.00it/s]\n"
     ]
    },
    {
     "name": "stdout",
     "output_type": "stream",
     "text": [
      "{'ner': 0.00011223609518657088}\n"
     ]
    },
    {
     "name": "stderr",
     "output_type": "stream",
     "text": [
      "100%|██████████| 20/20 [00:04<00:00,  4.94it/s]\n"
     ]
    },
    {
     "name": "stdout",
     "output_type": "stream",
     "text": [
      "{'ner': 8.545111513367698e-11}\n"
     ]
    },
    {
     "name": "stderr",
     "output_type": "stream",
     "text": [
      "100%|██████████| 20/20 [00:05<00:00,  3.61it/s]\n"
     ]
    },
    {
     "name": "stdout",
     "output_type": "stream",
     "text": [
      "{'ner': 3.46198262419225e-08}\n"
     ]
    },
    {
     "name": "stderr",
     "output_type": "stream",
     "text": [
      "100%|██████████| 20/20 [00:03<00:00,  5.41it/s]\n"
     ]
    },
    {
     "name": "stdout",
     "output_type": "stream",
     "text": [
      "{'ner': 1.2526063017290823e-05}\n"
     ]
    },
    {
     "name": "stderr",
     "output_type": "stream",
     "text": [
      "100%|██████████| 20/20 [00:03<00:00,  6.13it/s]\n"
     ]
    },
    {
     "name": "stdout",
     "output_type": "stream",
     "text": [
      "{'ner': 0.0008942284114818633}\n"
     ]
    },
    {
     "name": "stderr",
     "output_type": "stream",
     "text": [
      "100%|██████████| 20/20 [00:03<00:00,  5.49it/s]\n"
     ]
    },
    {
     "name": "stdout",
     "output_type": "stream",
     "text": [
      "{'ner': 1.029969100415639e-06}\n"
     ]
    },
    {
     "name": "stderr",
     "output_type": "stream",
     "text": [
      "100%|██████████| 20/20 [00:03<00:00,  5.80it/s]\n"
     ]
    },
    {
     "name": "stdout",
     "output_type": "stream",
     "text": [
      "{'ner': 0.07249261803952126}\n"
     ]
    },
    {
     "name": "stderr",
     "output_type": "stream",
     "text": [
      "100%|██████████| 20/20 [00:03<00:00,  5.58it/s]\n"
     ]
    },
    {
     "name": "stdout",
     "output_type": "stream",
     "text": [
      "{'ner': 6.26860494825426e-09}\n"
     ]
    },
    {
     "name": "stderr",
     "output_type": "stream",
     "text": [
      "100%|██████████| 20/20 [00:03<00:00,  5.57it/s]\n"
     ]
    },
    {
     "name": "stdout",
     "output_type": "stream",
     "text": [
      "{'ner': 1.1452576537389586e-11}\n"
     ]
    },
    {
     "name": "stderr",
     "output_type": "stream",
     "text": [
      "100%|██████████| 20/20 [00:03<00:00,  5.59it/s]\n"
     ]
    },
    {
     "name": "stdout",
     "output_type": "stream",
     "text": [
      "{'ner': 3.1082928469266514e-08}\n"
     ]
    },
    {
     "name": "stderr",
     "output_type": "stream",
     "text": [
      "100%|██████████| 20/20 [00:04<00:00,  4.78it/s]\n"
     ]
    },
    {
     "name": "stdout",
     "output_type": "stream",
     "text": [
      "{'ner': 5.382912148954111e-07}\n"
     ]
    },
    {
     "name": "stderr",
     "output_type": "stream",
     "text": [
      "100%|██████████| 20/20 [00:03<00:00,  5.00it/s]\n"
     ]
    },
    {
     "name": "stdout",
     "output_type": "stream",
     "text": [
      "{'ner': 4.595763309392155e-06}\n"
     ]
    },
    {
     "name": "stderr",
     "output_type": "stream",
     "text": [
      "100%|██████████| 20/20 [00:03<00:00,  5.36it/s]\n"
     ]
    },
    {
     "name": "stdout",
     "output_type": "stream",
     "text": [
      "{'ner': 4.297161494626844e-07}\n"
     ]
    },
    {
     "name": "stderr",
     "output_type": "stream",
     "text": [
      "100%|██████████| 20/20 [00:03<00:00,  5.26it/s]\n"
     ]
    },
    {
     "name": "stdout",
     "output_type": "stream",
     "text": [
      "{'ner': 2.666930977127961e-09}\n"
     ]
    },
    {
     "name": "stderr",
     "output_type": "stream",
     "text": [
      "100%|██████████| 20/20 [00:04<00:00,  4.80it/s]\n"
     ]
    },
    {
     "name": "stdout",
     "output_type": "stream",
     "text": [
      "{'ner': 5.788251749429945e-07}\n"
     ]
    },
    {
     "name": "stderr",
     "output_type": "stream",
     "text": [
      "100%|██████████| 20/20 [00:03<00:00,  5.25it/s]\n"
     ]
    },
    {
     "name": "stdout",
     "output_type": "stream",
     "text": [
      "{'ner': 6.6486721417919085e-09}\n"
     ]
    },
    {
     "name": "stderr",
     "output_type": "stream",
     "text": [
      "100%|██████████| 20/20 [00:03<00:00,  5.25it/s]\n"
     ]
    },
    {
     "name": "stdout",
     "output_type": "stream",
     "text": [
      "{'ner': 6.031517079366203e-10}\n"
     ]
    },
    {
     "name": "stderr",
     "output_type": "stream",
     "text": [
      "100%|██████████| 20/20 [00:04<00:00,  4.91it/s]\n"
     ]
    },
    {
     "name": "stdout",
     "output_type": "stream",
     "text": [
      "{'ner': 5.688815217701681e-09}\n"
     ]
    },
    {
     "name": "stderr",
     "output_type": "stream",
     "text": [
      "100%|██████████| 20/20 [00:03<00:00,  5.30it/s]\n"
     ]
    },
    {
     "name": "stdout",
     "output_type": "stream",
     "text": [
      "{'ner': 1.0827306745987656e-11}\n"
     ]
    },
    {
     "name": "stderr",
     "output_type": "stream",
     "text": [
      "100%|██████████| 20/20 [00:03<00:00,  5.15it/s]\n"
     ]
    },
    {
     "name": "stdout",
     "output_type": "stream",
     "text": [
      "{'ner': 2.4055425894476204e-10}\n"
     ]
    },
    {
     "name": "stderr",
     "output_type": "stream",
     "text": [
      "100%|██████████| 20/20 [00:03<00:00,  5.04it/s]\n"
     ]
    },
    {
     "name": "stdout",
     "output_type": "stream",
     "text": [
      "{'ner': 3.2610274620771484e-05}\n"
     ]
    },
    {
     "name": "stderr",
     "output_type": "stream",
     "text": [
      "100%|██████████| 20/20 [00:03<00:00,  5.17it/s]\n"
     ]
    },
    {
     "name": "stdout",
     "output_type": "stream",
     "text": [
      "{'ner': 4.61362289026627e-12}\n"
     ]
    },
    {
     "name": "stderr",
     "output_type": "stream",
     "text": [
      "100%|██████████| 20/20 [00:04<00:00,  4.93it/s]\n"
     ]
    },
    {
     "name": "stdout",
     "output_type": "stream",
     "text": [
      "{'ner': 3.299549337615847e-05}\n"
     ]
    },
    {
     "name": "stderr",
     "output_type": "stream",
     "text": [
      "100%|██████████| 20/20 [00:03<00:00,  5.03it/s]\n"
     ]
    },
    {
     "name": "stdout",
     "output_type": "stream",
     "text": [
      "{'ner': 7.057888683168304e-05}\n"
     ]
    },
    {
     "name": "stderr",
     "output_type": "stream",
     "text": [
      "100%|██████████| 20/20 [00:03<00:00,  5.11it/s]\n"
     ]
    },
    {
     "name": "stdout",
     "output_type": "stream",
     "text": [
      "{'ner': 0.00012001503471164358}\n"
     ]
    },
    {
     "name": "stderr",
     "output_type": "stream",
     "text": [
      "100%|██████████| 20/20 [00:03<00:00,  5.29it/s]\n"
     ]
    },
    {
     "name": "stdout",
     "output_type": "stream",
     "text": [
      "{'ner': 1.4100821146818879e-08}\n"
     ]
    },
    {
     "name": "stderr",
     "output_type": "stream",
     "text": [
      "100%|██████████| 20/20 [00:03<00:00,  5.19it/s]\n"
     ]
    },
    {
     "name": "stdout",
     "output_type": "stream",
     "text": [
      "{'ner': 3.2700671004031508e-06}\n"
     ]
    },
    {
     "name": "stderr",
     "output_type": "stream",
     "text": [
      "100%|██████████| 20/20 [00:03<00:00,  5.25it/s]\n"
     ]
    },
    {
     "name": "stdout",
     "output_type": "stream",
     "text": [
      "{'ner': 2.9130225731839708e-05}\n"
     ]
    },
    {
     "name": "stderr",
     "output_type": "stream",
     "text": [
      "100%|██████████| 20/20 [00:03<00:00,  5.34it/s]\n"
     ]
    },
    {
     "name": "stdout",
     "output_type": "stream",
     "text": [
      "{'ner': 2.142981759619795e-08}\n"
     ]
    },
    {
     "name": "stderr",
     "output_type": "stream",
     "text": [
      "100%|██████████| 20/20 [00:03<00:00,  5.32it/s]\n"
     ]
    },
    {
     "name": "stdout",
     "output_type": "stream",
     "text": [
      "{'ner': 9.648752383405615e-09}\n"
     ]
    }
   ],
   "source": [
    "for _, annotations in TRAIN_DATA:\n",
    "    for ent in annotations.get('entities'):\n",
    "        ner.add_label(ent[2])\n",
    "\n",
    "other_pipes = [pipe for pipe in nlp.pipe_names if pipe != 'ner']\n",
    "with nlp.disable_pipes(*other_pipes):\n",
    "    optimizer = nlp.begin_training()\n",
    "    for itn in range(n_iter):\n",
    "        random.shuffle(TRAIN_DATA)\n",
    "        losses = {}\n",
    "        for text, annotations in tqdm(TRAIN_DATA):\n",
    "            nlp.update(\n",
    "                [text],  \n",
    "                [annotations],  \n",
    "                drop=0.5,  \n",
    "                sgd=optimizer,\n",
    "                losses=losses)\n",
    "        print(losses)"
   ]
  },
  {
   "cell_type": "markdown",
   "metadata": {},
   "source": [
    "### Test the trained model"
   ]
  },
  {
   "cell_type": "code",
   "execution_count": 28,
   "metadata": {},
   "outputs": [
    {
     "name": "stdout",
     "output_type": "stream",
     "text": [
      "Entities [('bb cream', 'Garnier BB Cream Miracle Skin Perfector')]\n",
      "Tokens [('19.i', '', 2), ('normally', '', 2), ('use', '', 2), ('my', '', 2), ('loreal', '', 2), ('true', '', 2), ('match', '', 2), ('foundation', '', 2), ('every', '', 2), ('day', '', 2), (',', '', 2), ('but', '', 2), ('it', '', 2), (\"'s\", '', 2), ('safe', '', 2), ('to', '', 2), ('say', '', 2), ('i', '', 2), (\"'ll\", '', 2), ('be', '', 2), ('switching', '', 2), ('to', '', 2), ('this', '', 2), ('!', '', 2), ('it', '', 2), ('has', '', 2), ('the', '', 2), ('same', '', 2), ('coverage', '', 2), ('as', '', 2), ('a', '', 2), ('foundation', '', 2), ('and', '', 2), ('evens', '', 2), ('out', '', 2), ('skin', '', 2), ('tone', '', 2), (',', '', 2), ('but', '', 2), ('it', '', 2), ('feels', '', 2), ('just', '', 2), ('like', '', 2), ('skin', '', 2), ('on', '', 2), ('your', '', 2), ('face', '', 2), ('as', '', 2), ('if', '', 2), ('nothing', '', 2), (\"'s\", '', 2), ('there', '', 2), ('!', '', 2), ('it', '', 2), ('hardly', '', 2), ('ever', '', 2), ('creases', '', 2), ('and', '', 2), ('lasts', '', 2), ('hours', '', 2), ('without', '', 2), ('fading', '', 2), ('away', '', 2), ('!', '', 2), ('sometimes', '', 2), ('redness', '', 2), ('can', '', 2), ('show', '', 2), ('through', '', 2), ('after', '', 2), ('a', '', 2), ('few', '', 2), ('hours', '', 2), ('but', '', 2), ('if', '', 2), ('you', '', 2), ('use', '', 2), ('a', '', 2), ('good', '', 2), ('concealer', '', 2), ('there', '', 2), (\"'ll\", '', 2), ('be', '', 2), ('no', '', 2), ('problem', '', 2), ('!', '', 2), ('i', '', 2), ('have', '', 2), ('normal', '', 2), ('skin', '', 2), ('but', '', 2), ('i', '', 2), (\"'m\", '', 2), ('oily', '', 2), ('in', '', 2), ('my', '', 2), ('t', '', 2), ('-', '', 2), ('zone', '', 2), (',', '', 2), ('so', '', 2), ('this', '', 2), ('bb', 'Garnier BB Cream Miracle Skin Perfector', 3), ('cream', 'Garnier BB Cream Miracle Skin Perfector', 1), ('is', '', 2), ('perfect', '', 2), ('as', '', 2), ('it', '', 2), ('stays', '', 2), ('matte', '', 2), ('all', '', 2), ('day', '', 2), (',', '', 2), ('and', '', 2), ('even', '', 2), ('longer', '', 2), ('if', '', 2), ('you', '', 2), ('use', '', 2), ('some', '', 2), ('powder', '', 2)]\n",
      "Entities [('bb cream', 'Garnier BB Cream Miracle Skin Perfector')]\n",
      "Tokens [(\"17.i've\", '', 2), ('tried', '', 2), ('loads', '', 2), ('of', '', 2), ('bb', '', 2), ('creams', '', 2), ('trying', '', 2), ('to', '', 2), ('find', '', 2), ('one', '', 2), ('that', '', 2), ('actually', '', 2), ('works', '', 2), ('and', '', 2), ('does', '', 2), ('what', '', 2), ('it', '', 2), ('says', '', 2), ('!', '', 2), ('every', '', 2), ('other', '', 2), ('one', '', 2), ('i', '', 2), (\"'ve\", '', 2), ('found', '', 2), ('says', '', 2), ('light', '', 2), ('but', '', 2), ('is', '', 2), ('actually', '', 2), ('orange', '', 2), ('.', '', 2), ('this', '', 2), ('garnier', '', 2), ('one', '', 2), ('is', '', 2), ('actually', '', 2), ('a', '', 2), ('light', '', 2), ('colour', '', 2), ('!', '', 2), ('yellow', '', 2), ('undertones', '', 2), ('so', '', 2), ('perfect', '', 2), ('for', '', 2), ('me', '', 2), ('.', '', 2), ('great', '', 2), ('coverage', '', 2), ('for', '', 2), ('a', '', 2), ('bb', 'Garnier BB Cream Miracle Skin Perfector', 3), ('cream', 'Garnier BB Cream Miracle Skin Perfector', 1), (',', '', 2), ('i', '', 2), (\"'d\", '', 2), ('even', '', 2), ('say', '', 2), ('better', '', 2), ('than', '', 2), ('some', '', 2), ('foundation', '', 2), (\"'s\", '', 2), ('i', '', 2), (\"'ve\", '', 2), ('had', '', 2), ('in', '', 2), ('the', '', 2), ('past', '', 2), ('.', '', 2), ('and', '', 2), ('......', '', 2), ('it', '', 2), (\"'s\", '', 2), ('matte', '', 2), ('!', '', 2), ('!', '', 2), ('!', '', 2), ('no', '', 2), ('shine', '', 2), ('and', '', 2), ('no', '', 2), ('stickiness', '', 2), ('!', '', 2), ('the', '', 2), ('only', '', 2), ('thing', '', 2), ('i', '', 2), ('do', '', 2), (\"n't\", '', 2), ('like', '', 2), ('about', '', 2), ('it', '', 2), ('is', '', 2), ('that', '', 2), ('the', '', 2), ('box', '', 2), ('says', '', 2), ('to', '', 2), ('apply', '', 2), ('it', '', 2), ('like', '', 2), ('you', '', 2), ('would', '', 2), ('a', '', 2), ('moisturiser', '', 2), ('.', '', 2), ('i', '', 2), (\"'d\", '', 2), ('advise', '', 2), ('to', '', 2), ('use', '', 2), ('a', '', 2), ('brush', '', 2), (',', '', 2), ('it', '', 2), (\"'s\", '', 2), ('a', '', 2), ('little', '', 2), ('bit', '', 2), ('hard', '', 2), ('to', '', 2), ('blend', '', 2), ('around', '', 2), ('the', '', 2), ('edges', '', 2), ('of', '', 2), ('your', '', 2), ('face', '', 2), ('and', '', 2), ('i', '', 2), ('find', '', 2), ('fingers', '', 2), ('make', '', 2), ('the', '', 2), ('cheeks', '', 2), ('look', '', 2), ('blotchy', '', 2), ('.', '', 2)]\n",
      "Entities [('bb cream', 'Garnier BB Cream Miracle Skin Perfector')]\n",
      "Tokens [('8.have', '', 2), ('been', '', 2), ('using', '', 2), ('this', '', 2), ('product', '', 2), ('for', '', 2), ('several', '', 2), ('weeks', '', 2), ('now', '', 2), ('and', '', 2), ('i', '', 2), ('love', '', 2), ('it', '', 2), ('.', '', 2), ('47yrs', '', 2), ('old', '', 2), ('and', '', 2), ('was', '', 2), ('looking', '', 2), ('for', '', 2), ('something', '', 2), ('lighter', '', 2), ('for', '', 2), ('the', '', 2), ('summer', '', 2), ('and', '', 2), ('thought', '', 2), ('i', '', 2), ('would', '', 2), ('try', '', 2), ('a', '', 2), ('bb', 'Garnier BB Cream Miracle Skin Perfector', 3), ('cream', 'Garnier BB Cream Miracle Skin Perfector', 1), ('.', '', 2), ('i', '', 2), ('ca', '', 2), (\"n't\", '', 2), ('rate', '', 2), ('this', '', 2), ('product', '', 2), ('highly', '', 2), ('enough', '', 2), (',', '', 2), ('i', '', 2), ('tend', '', 2), ('to', '', 2), ('use', '', 2), ('pricey', '', 2), ('foundation', '', 2), ('just', '', 2), ('because', '', 2), ('of', '', 2), ('my', '', 2), ('age', '', 2), ('and', '', 2), ('i', '', 2), ('do', '', 2), (\"n't\", '', 2), ('have', '', 2), ('great', '', 2), ('skin', '', 2), ('but', '', 2), ('this', '', 2), ('bb', '', 2), ('cream', '', 2), ('gives', '', 2), ('me', '', 2), ('an', '', 2), ('even', '', 2), ('better', '', 2), ('finish', '', 2), (',', '', 2), ('goes', '', 2), ('on', '', 2), ('smoothly', '', 2), (',', '', 2), ('does', '', 2), (\"n't\", '', 2), ('settle', '', 2), ('in', '', 2), ('lines', '', 2), ('(', '', 2), ('i', '', 2), ('do', '', 2), ('use', '', 2), ('a', '', 2), ('primer', '', 2), ('tho', '', 2), (')', '', 2), ('last', '', 2), (\"'s\", '', 2), ('all', '', 2), ('day', '', 2), ('with', '', 2), ('no', '', 2), ('shine', '', 2), ('and', '', 2), ('i', '', 2), ('just', '', 2), ('love', '', 2), ('the', '', 2), ('finish', '', 2), ('it', '', 2), ('gives', '', 2), ('.', '', 2), ('do', '', 2), (\"n't\", '', 2), ('be', '', 2), ('put', '', 2), ('off', '', 2), ('by', '', 2), ('the', '', 2), ('way', '', 2), ('it', '', 2), ('looks', '', 2), ('when', '', 2), ('first', '', 2), ('applied', '', 2), ('it', '', 2), (\"'s\", '', 2), ('one', '', 2), ('of', '', 2), ('these', '', 2), ('products', '', 2), ('that', '', 2), ('takes', '', 2), ('about', '', 2), ('10', '', 2), ('-', '', 2), ('15mins', '', 2), ('to', '', 2), ('settle', '', 2), ('but', '', 2), ('perfect', '', 2), ('after', '', 2), ('that', '', 2), ('.', '', 2), ('buy', '', 2), ('it', '', 2), ('!', '', 2)]\n",
      "Entities []\n",
      "Tokens [('4.i', '', 2), ('have', '', 2), ('bought', '', 2), ('several', '', 2), ('bb', '', 2), ('creams', '', 2), ('over', '', 2), ('the', '', 2), ('years', '', 2), ('and', '', 2), ('always', '', 2), ('been', '', 2), ('disappointed', '', 2), ('so', '', 2), ('was', '', 2), (\"n't\", '', 2), ('expecting', '', 2), ('much', '', 2), ('from', '', 2), ('this', '', 2), ('.', '', 2), ('it', '', 2), ('does', '', 2), ('everything', '', 2), ('it', '', 2), ('promises', '', 2), (',', '', 2), ('and', '', 2), ('i', '', 2), ('absolutely', '', 2), ('love', '', 2), ('it', '', 2), ('.', '', 2), ('i', '', 2), ('do', '', 2), (\"n't\", '', 2), ('like', '', 2), ('wearing', '', 2), ('heavy', '', 2), ('makeup', '', 2), ('but', '', 2), ('do', '', 2), (\"n't\", '', 2), ('have', '', 2), ('the', '', 2), ('best', '', 2), ('skin', '', 2), ('and', '', 2), ('this', '', 2), ('gives', '', 2), ('the', '', 2), ('perfect', '', 2), ('amount', '', 2), ('of', '', 2), ('coverage', '', 2), ('.', '', 2), ('unlike', '', 2), ('many', '', 2), ('products', '', 2), ('that', '', 2), ('promise', '', 2), ('to', '', 2), ('mattify', '', 2), ('this', '', 2), ('actually', '', 2), ('does', '', 2), ('without', '', 2), ('drying', '', 2), ('out', '', 2), ('my', '', 2), ('skin', '', 2), ('and', '', 2), ('gives', '', 2), ('a', '', 2), ('lovely', '', 2), ('glow', '', 2), ('.', '', 2), ('a', '', 2), ('little', '', 2), ('goes', '', 2), ('a', '', 2), ('long', '', 2), ('way', '', 2), ('so', '', 2), ('i', '', 2), ('can', '', 2), ('tell', '', 2), ('this', '', 2), ('is', '', 2), ('going', '', 2), ('to', '', 2), ('last', '', 2), ('for', '', 2), ('ages', '', 2), ('.', '', 2), ('i', '', 2), ('have', '', 2), ('never', '', 2), ('felt', '', 2), ('so', '', 2), ('confident', '', 2), ('in', '', 2), ('how', '', 2), ('my', '', 2), ('skin', '', 2), ('looks', '', 2), ('and', '', 2), ('i', '', 2), ('will', '', 2), ('not', '', 2), ('be', '', 2), ('changing', '', 2), ('from', '', 2), ('this', '', 2), ('cream', '', 2), ('!', '', 2), ('outperforms', '', 2), ('much', '', 2), ('more', '', 2), ('expensive', '', 2), ('formulas', '', 2), ('i', '', 2), (\"'ve\", '', 2), ('tried', '', 2), (',', '', 2), ('absolute', '', 2), ('winner', '', 2), ('for', '', 2), ('me', '', 2), ('.', '', 2)]\n",
      "Entities [('bb cream', 'Garnier BB Cream Miracle Skin Perfector')]\n",
      "Tokens [('2.i', '', 2), ('always', '', 2), ('use', '', 2), ('the', '', 2), ('garnier', '', 2), ('bb', 'Garnier BB Cream Miracle Skin Perfector', 3), ('cream', 'Garnier BB Cream Miracle Skin Perfector', 1), ('medium', '', 2), ('but', '', 2), ('the', '', 2), ('last', '', 2), ('one', '', 2), ('i', '', 2), ('bought', '', 2), ('the', '', 2), ('box', '', 2), ('and', '', 2), ('tube', '', 2), ('had', '', 2), ('changed', '', 2), ('.', '', 2), ('it', '', 2), ('’s', '', 2), ('much', '', 2), ('darker', '', 2), ('as', '', 2), ('well', '', 2), ('.', '', 2), ('think', '', 2), ('might', '', 2), ('have', '', 2), ('to', '', 2), ('go', '', 2), ('lighter', '', 2), ('.', '', 2)]\n",
      "Entities [('bb cream', 'Garnier BB Cream Miracle Skin Perfector')]\n",
      "Tokens [('12.i', '', 2), ('love', '', 2), ('this', '', 2), ('bb', 'Garnier BB Cream Miracle Skin Perfector', 3), ('cream', 'Garnier BB Cream Miracle Skin Perfector', 1), ('for', '', 2), ('combination', '', 2), ('skin', '', 2), (',', '', 2), ('but', '', 2), ('with', '', 2), ('my', '', 2), ('pale', '', 2), ('complexion', '', 2), ('it', '', 2), ('only', '', 2), ('really', '', 2), ('suits', '', 2), ('me', '', 2), ('when', '', 2), ('i', '', 2), (\"'ve\", '', 2), ('got', '', 2), ('a', '', 2), ('tan', '', 2), ('(', '', 2), ('which', '', 2), ('just', '', 2), ('does', '', 2), (\"n't\", '', 2), ('happen', '', 2), ('that', '', 2), ('often', '', 2), ('when', '', 2), ('you', '', 2), ('live', '', 2), ('in', '', 2), ('the', '', 2), ('uk', '', 2), ('!', '', 2), (')', '', 2), ('.', '', 2), ('please', '', 2), ('introduce', '', 2), ('the', '', 2), ('extra', '', 2), ('light', '', 2), ('shade', '', 2), ('for', '', 2), ('this', '', 2), ('one', '', 2), ('as', '', 2), ('well', '', 2), ('!', '', 2)]\n",
      "Entities [('bb cream', 'Garnier BB Cream Miracle Skin Perfector')]\n",
      "Tokens [('6.my', '', 2), ('absolute', '', 2), ('favourite', '', 2), ('foundation', '', 2), ('/', '', 2), ('bb', 'Garnier BB Cream Miracle Skin Perfector', 3), ('cream', 'Garnier BB Cream Miracle Skin Perfector', 1), ('!', '', 2), ('i', '', 2), ('have', '', 2), ('been', '', 2), ('using', '', 2), ('this', '', 2), ('for', '', 2), ('3', '', 2), ('years', '', 2), ('and', '', 2), ('have', '', 2), ('never', '', 2), ('strayed', '', 2), ('!', '', 2), ('it', '', 2), ('is', '', 2), ('the', '', 2), ('perfect', '', 2), ('natural', '', 2), ('base', '', 2), ('for', '', 2), ('your', '', 2), ('face', '', 2), ('-', '', 2), ('applied', '', 2), ('with', '', 2), ('a', '', 2), ('beauty', '', 2), ('blender', '', 2), ('gives', '', 2), ('a', '', 2), ('flawless', '', 2), ('look', '', 2), ('without', '', 2), ('being', '', 2), ('heavy', '', 2), ('and', '', 2), ('stays', '', 2), ('on', '', 2), ('all', '', 2), ('day', '', 2), ('with', '', 2), ('a', '', 2), ('primer', '', 2), ('and', '', 2), ('a', '', 2), ('bit', '', 2), ('of', '', 2), ('setting', '', 2), ('powder', '', 2), (',', '', 2), ('light', '', 2), ('contour', '', 2), ('and', '', 2), ('blusher', '', 2), ('also', '', 2), ('sit', '', 2), ('nicely', '', 2), ('on', '', 2), ('top', '', 2), ('.', '', 2), ('it', '', 2), ('has', '', 2), ('a', '', 2), ('medium', '', 2), ('buildable', '', 2), ('coverage', '', 2), (',', '', 2), ('honestly', '', 2), ('feel', '', 2), ('like', '', 2), ('it', '', 2), ('covers', '', 2), ('better', '', 2), ('than', '', 2), ('any', '', 2), ('other', '', 2), ('drugstore', '', 2), ('foundation', '', 2), ('i', '', 2), ('’ve', '', 2), ('used', '', 2), ('!', '', 2), ('only', '', 2), ('negative', '', 2), ('is', '', 2), ('the', '', 2), ('shade', '', 2), ('range', '', 2), (',', '', 2), ('however', '', 2), ('i', '', 2), ('have', '', 2), ('shades', '', 2), ('light', '', 2), ('and', '', 2), ('medium', '', 2), ('and', '', 2), ('mix', '', 2), ('them', '', 2), ('accordingly', '', 2), ('throughout', '', 2), ('the', '', 2), ('year', '', 2), ('to', '', 2), ('get', '', 2), ('my', '', 2), ('perfect', '', 2), ('colour', '', 2), ('!', '', 2), ('my', '', 2), ('skin', '', 2), ('has', '', 2), ('also', '', 2), ('improved', '', 2), ('since', '', 2), ('using', '', 2), ('this', '', 2), ('as', '', 2), ('it', '', 2), ('is', '', 2), ('non', '', 2), ('-', '', 2), ('clogging', '', 2), ('and', '', 2), ('has', '', 2), ('plenty', '', 2), ('of', '', 2), ('skin', '', 2), ('benefits', '', 2), (',', '', 2), ('so', '', 2), ('you', '', 2), ('do', '', 2), (\"n't\", '', 2), ('need', '', 2), ('to', '', 2), ('feel', '', 2), ('guilty', '', 2), ('about', '', 2), ('wearing', '', 2), ('it', '', 2), ('every', '', 2), ('day', '', 2), ('.', '', 2), ('the', '', 2), ('tube', '', 2), ('also', '', 2), ('lasts', '', 2), ('for', '', 2), ('ages', '', 2), ('(', '', 2), ('9', '', 2), ('+', '', 2), ('months', '', 2), (')', '', 2), ('.', '', 2), ('definitely', '', 2), ('recommend', '', 2), ('for', '', 2), ('oily', '', 2), ('/', '', 2), ('combination', '', 2), ('/', '', 2), ('blemish', '', 2), ('prone', '', 2), ('skin', '', 2), ('.', '', 2)]\n",
      "Entities [('bb cream', 'Garnier BB Cream Miracle Skin Perfector')]\n",
      "Tokens [('3.i', '', 2), ('picked', '', 2), ('this', '', 2), ('up', '', 2), ('today', '', 2), ('because', '', 2), ('it', '', 2), ('was', '', 2), ('on', '', 2), ('sale', '', 2), ('and', '', 2), ('was', '', 2), ('extremely', '', 2), ('disappointed', '', 2), ('.', '', 2), ('i', '', 2), ('have', '', 2), ('pale', '', 2), ('skin', '', 2), ('and', '', 2), ('the', '', 2), ('bb', 'Garnier BB Cream Miracle Skin Perfector', 3), ('cream', 'Garnier BB Cream Miracle Skin Perfector', 1), ('just', '', 2), ('looked', '', 2), ('straight', '', 2), ('up', '', 2), ('orange', '', 2), ('on', '', 2), ('me', '', 2), ('.', '', 2), ('not', '', 2), ('at', '', 2), ('all', '', 2), ('what', '', 2), ('i', '', 2), ('was', '', 2), ('expecting', '', 2), ('given', '', 2), ('it', '', 2), (\"'s\", '', 2), ('called', '', 2), ('light', '', 2), ('.', '', 2), ('it', '', 2), ('also', '', 2), ('goes', '', 2), ('on', '', 2), ('very', '', 2), ('streaky', '', 2), ('and', '', 2), ('patchy', '', 2), ('and', '', 2), ('has', '', 2), ('a', '', 2), ('very', '', 2), ('strong', '', 2), ('fragrance', '', 2), ('.', '', 2), ('needless', '', 2), ('to', '', 2), ('say', '', 2), (',', '', 2), ('i', '', 2), ('could', '', 2), (\"n't\", '', 2), ('even', '', 2), ('leave', '', 2), ('the', '', 2), ('house', '', 2), ('with', '', 2), ('it', '', 2), ('on', '', 2), ('and', '', 2), ('removed', '', 2), ('it', '', 2), ('straight', '', 2), ('away', '', 2), (',', '', 2), ('so', '', 2), ('i', '', 2), ('ca', '', 2), (\"n't\", '', 2), ('attest', '', 2), ('to', '', 2), ('the', '', 2), ('product', '', 2), (\"'s\", '', 2), ('longevity', '', 2), ('.', '', 2), ('worst', '', 2), ('base', '', 2), ('product', '', 2), ('i', '', 2), (\"'ve\", '', 2), ('ever', '', 2), ('tried', '', 2), ('.', '', 2)]\n",
      "Entities [('bb cream', 'Garnier BB Cream Miracle Skin Perfector')]\n",
      "Tokens [('10.like', '', 2), ('many', '', 2), ('people', '', 2), ('i', '', 2), ('am', '', 2), ('constantly', '', 2), ('on', '', 2), ('the', '', 2), ('hunt', '', 2), ('for', '', 2), ('the', '', 2), ('perfect', '', 2), ('base', '', 2), ('.', '', 2), ('i', '', 2), ('spent', '', 2), ('years', '', 2), ('wearing', '', 2), ('really', '', 2), ('heavy', '', 2), ('foundation', '', 2), ('every', '', 2), ('day', '', 2), ('and', '', 2), ('now', '', 2), ('being', '', 2), ('25', '', 2), ('i', '', 2), ('want', '', 2), ('to', '', 2), ('look', '', 2), ('after', '', 2), ('my', '', 2), ('skin', '', 2), ('more', '', 2), ('and', '', 2), ('embrace', '', 2), ('being', '', 2), ('a', '', 2), ('little', '', 2), ('more', '', 2), ('natural', '', 2), ('.', '', 2), ('so', '', 2), (',', '', 2), ('i', '', 2), ('was', '', 2), ('on', '', 2), ('the', '', 2), ('hunt', '', 2), ('for', '', 2), ('lighter', '', 2), ('coverage', '', 2), ('foundation', '', 2), ('/', '', 2), ('base', '', 2), ('.', '', 2), ('on', '', 2), ('a', '', 2), ('bit', '', 2), ('of', '', 2), ('a', '', 2), ('whim', '', 2), ('i', '', 2), ('bought', '', 2), ('this', '', 2), ('as', '', 2), ('its', '', 2), ('oil', '', 2), ('free', '', 2), ('and', '', 2), ('i', '', 2), ('get', '', 2), ('quite', '', 2), ('oily', '', 2), ('.', '', 2), ('i', '', 2), ('was', '', 2), ('sceptical', '', 2), ('as', '', 2), ('it', '', 2), (\"'s\", '', 2), ('a', '', 2), ('bb', 'Garnier BB Cream Miracle Skin Perfector', 3), ('cream', 'Garnier BB Cream Miracle Skin Perfector', 1), ('and', '', 2), ('i', '', 2), ('thought', '', 2), ('that', '', 2), ('would', '', 2), ('be', '', 2), ('too', '', 2), ('light', '', 2), ('coverage', '', 2), ('to', '', 2), ('be', '', 2), ('honest', '', 2), ('.', '', 2), ('but', '', 2), ('it', '', 2), (\"'s\", '', 2), ('amazing', '', 2), ('.', '', 2), ('i', '', 2), ('literally', '', 2), ('could', '', 2), (\"n't\", '', 2), ('believe', '', 2), ('how', '', 2), ('nice', '', 2), ('my', '', 2), ('skin', '', 2), ('looked', '', 2), ('when', '', 2), ('i', '', 2), ('put', '', 2), ('this', '', 2), ('on', '', 2), ('.', '', 2), ('even', '', 2), ('my', '', 2), ('boyfriend', '', 2), ('commented', '', 2), ('on', '', 2), ('it', '', 2), ('.', '', 2), ('it', '', 2), (\"'s\", '', 2), ('a', '', 2), ('runny', '', 2), ('texture', '', 2), ('and', '', 2), ('i', '', 2), ('use', '', 2), ('a', '', 2), ('buffing', '', 2), ('brush', '', 2), ('to', '', 2), ('put', '', 2), ('it', '', 2), ('on', '', 2), ('and', '', 2), ('it', '', 2), (\"'s\", '', 2), ('so', '', 2), ('quick', '', 2), ('and', '', 2), ('easy', '', 2), ('.', '', 2), ('it', '', 2), (\"'s\", '', 2), ('not', '', 2), ('thick', '', 2), ('but', '', 2), ('it', '', 2), ('has', '', 2), ('good', '', 2), ('coverage', '', 2), ('.', '', 2), ('definitely', '', 2), ('build', '', 2), ('-', '', 2), ('able', '', 2), ('and', '', 2), ('actually', '', 2), ('has', '', 2), ('a', '', 2), ('lot', '', 2), ('more', '', 2), ('coverage', '', 2), ('than', '', 2), ('expected', '', 2), ('.', '', 2), ('if', '', 2), ('you', '', 2), ('just', '', 2), ('want', '', 2), ('a', '', 2), ('tinted', '', 2), ('moisturiser', '', 2), ('type', '', 2), ('product', '', 2), ('i', '', 2), ('would', '', 2), (\"n't\", '', 2), ('say', '', 2), ('this', '', 2), ('is', '', 2), ('that', '', 2), (',', '', 2), ('it', '', 2), (\"'s\", '', 2), ('a', '', 2), ('little', '', 2), ('more', '', 2), ('coverage', '', 2), ('than', '', 2), ('that', '', 2), ('(', '', 2), ('which', '', 2), ('i', '', 2), ('love', '', 2), (')', '', 2), ('.', '', 2), ('it', '', 2), (\"'s\", '', 2), ('a', '', 2), ('really', '', 2), ('good', '', 2), ('middle', '', 2), ('ground', '', 2), ('for', '', 2), ('me', '', 2), ('as', '', 2), ('not', '', 2), ('wearing', '', 2), ('a', '', 2), ('base', '', 2), ('is', '', 2), (\"n't\", '', 2), ('an', '', 2), ('option', '', 2), ('for', '', 2), ('me', '', 2), ('sadly', '', 2), ('.', '', 2), ('my', '', 2), ('only', '', 2), ('one', '', 2), ('negative', '', 2), ('is', '', 2), ('that', '', 2), ('it', '', 2), ('does', '', 2), ('rub', '', 2), ('off', '', 2), ('my', '', 2), ('nose', '', 2), ('quite', '', 2), ('easily', '', 2), ('as', '', 2), ('that', '', 2), (\"'s\", '', 2), ('where', '', 2), ('i', '', 2), ('am', '', 2), ('most', '', 2), ('oily', '', 2), ('.', '', 2), ('i', '', 2), ('would', '', 2), ('like', '', 2), ('it', '', 2), ('to', '', 2), ('be', '', 2), ('a', '', 2), ('little', '', 2), ('more', '', 2), ('long', '', 2), ('lasting', '', 2), ('but', '', 2), ('honestly', '', 2), ('i', '', 2), (\"'m\", '', 2), ('okay', '', 2), ('with', '', 2), ('it', '', 2), ('because', '', 2), ('it', '', 2), ('makes', '', 2), ('me', '', 2), ('skin', '', 2), ('feel', '', 2), ('like', '', 2), ('it', '', 2), ('can', '', 2), ('breathe', '', 2), ('and', '', 2), ('i', '', 2), ('love', '', 2), ('the', '', 2), ('overall', '', 2), ('look', '', 2), ('far', '', 2), ('more', '', 2), ('than', '', 2), ('a', '', 2), ('thick', '', 2), ('foundation', '', 2), ('which', '', 2), ('also', '', 2), ('always', '', 2), ('rubs', '', 2), ('off', '', 2), ('my', '', 2), ('nose', '', 2), ('but', '', 2), ('looks', '', 2), ('worse', '', 2), ('!', '', 2), ('i', '', 2), ('just', '', 2), ('use', '', 2), ('the', '', 2), ('remains', '', 2), ('of', '', 2), ('the', '', 2), ('product', '', 2), ('on', '', 2), ('the', '', 2), ('brush', '', 2), ('to', '', 2), ('top', '', 2), ('up', '', 2), ('in', '', 2), ('the', '', 2), ('day', '', 2), ('and', '', 2), ('that', '', 2), (\"'s\", '', 2), ('enough', '', 2), ('!', '', 2)]\n",
      "Entities [('bb cream', 'Garnier BB Cream Miracle Skin Perfector')]\n",
      "Tokens [('9.i', '', 2), ('bought', '', 2), ('this', '', 2), ('two', '', 2), ('days', '', 2), ('ago', '', 2), ('and', '', 2), ('i', '', 2), ('have', '', 2), ('used', '', 2), ('it', '', 2), ('twice', '', 2), ('and', '', 2), ('i', '', 2), ('am', '', 2), ('so', '', 2), (',', '', 2), ('so', '', 2), ('pleased', '', 2), ('with', '', 2), ('it', '', 2), ('.', '', 2), ('i', '', 2), ('have', '', 2), ('combination', '', 2), ('skin', '', 2), ('but', '', 2), ('not', '', 2), ('many', '', 2), ('bb', '', 2), ('creams', '', 2), ('that', '', 2), ('are', '', 2), ('made', '', 2), ('for', '', 2), ('this', '', 2), ('skin', '', 2), ('type', '', 2), ('work', '', 2), ('very', '', 2), ('well', '', 2), ('-', '', 2), ('either', '', 2), ('they', '', 2), ('make', '', 2), ('me', '', 2), ('really', '', 2), ('oily', '', 2), ('or', '', 2), ('dry', '', 2), ('certain', '', 2), ('areas', '', 2), ('out', '', 2), ('.', '', 2), ('but', '', 2), ('this', '', 2), ('is', '', 2), ('perfect', '', 2), ('for', '', 2), ('me', '', 2), ('!', '', 2), ('i', '', 2), ('got', '', 2), ('it', '', 2), ('in', '', 2), ('medium', '', 2), ('even', '', 2), ('though', '', 2), ('i', '', 2), (\"'m\", '', 2), ('quite', '', 2), ('pale', '', 2), ('and', '', 2), ('it', '', 2), (\"'s\", '', 2), ('wonderful', '', 2), ('.', '', 2), ('does', '', 2), (\"n't\", '', 2), ('dry', '', 2), ('my', '', 2), ('skin', '', 2), ('out', '', 2), ('or', '', 2), ('make', '', 2), ('my', '', 2), ('t', '', 2), ('-', '', 2), ('zone', '', 2), ('excessively', '', 2), ('oily', '', 2), ('like', '', 2), ('others', '', 2), ('.', '', 2), ('it', '', 2), ('gives', '', 2), ('a', '', 2), ('lovely', '', 2), (',', '', 2), ('natural', '', 2), (',', '', 2), ('even', '', 2), ('coverage', '', 2), ('and', '', 2), ('i', '', 2), ('have', '', 2), ('already', '', 2), ('had', '', 2), ('one', '', 2), ('compliment', '', 2), ('on', '', 2), ('my', '', 2), ('skin', '', 2), ('with', '', 2), ('using', '', 2), ('it', '', 2), ('.', '', 2), ('because', '', 2), ('it', '', 2), ('is', '', 2), ('a', '', 2), ('bb', 'Garnier BB Cream Miracle Skin Perfector', 3), ('cream', 'Garnier BB Cream Miracle Skin Perfector', 1), ('it', '', 2), ('does', '', 2), (\"n't\", '', 2), ('cover', '', 2), ('blemishes', '', 2), (',', '', 2), ('so', '', 2), ('have', '', 2), ('a', '', 2), ('concealer', '', 2), ('at', '', 2), ('hand', '', 2), (',', '', 2), ('but', '', 2), ('for', '', 2), ('a', '', 2), ('light', '', 2), (',', '', 2), ('even', '', 2), ('coverage', '', 2), ('(', '', 2), ('gets', '', 2), ('rid', '', 2), ('of', '', 2), ('my', '', 2), ('redness', '', 2), (')', '', 2), ('definitely', '', 2), ('give', '', 2), ('it', '', 2), ('a', '', 2), ('try', '', 2), ('!', '', 2), ('!', '', 2), ('!', '', 2)]\n",
      "Entities [('bb cream', 'Garnier BB Cream Miracle Skin Perfector')]\n",
      "Tokens [(\"20.i've\", '', 2), ('bought', '', 2), ('this', '', 2), ('bb', 'Garnier BB Cream Miracle Skin Perfector', 3), ('cream', 'Garnier BB Cream Miracle Skin Perfector', 1), ('several', '', 2), ('times', '', 2), ('as', '', 2), ('i', '', 2), ('love', '', 2), ('the', '', 2), ('dewy', '', 2), ('finish', '', 2), ('it', '', 2), ('gives', '', 2), ('me', '', 2), ('.', '', 2), ('the', '', 2), ('coverage', '', 2), ('is', '', 2), (\"n't\", '', 2), ('brilliant', '', 2), (',', '', 2), ('but', '', 2), ('i', '', 2), ('use', '', 2), ('concealer', '', 2), ('too', '', 2), ('.', '', 2), ('unfortunately', '', 2), (',', '', 2), ('i', '', 2), (\"'m\", '', 2), ('looking', '', 2), ('for', '', 2), ('another', '', 2), ('bb', '', 2), ('cream', '', 2), ('next', '', 2), ('time', '', 2), ('though', '', 2), ('as', '', 2), ('i', '', 2), (\"'m\", '', 2), ('sick', '', 2), ('of', '', 2), ('it', '', 2), ('leaking', '', 2), ('all', '', 2), ('over', '', 2), ('my', '', 2), ('makeup', '', 2), ('bag', '', 2), ('.', '', 2), ('i', '', 2), (\"'m\", '', 2), ('not', '', 2), ('sure', '', 2), ('why', '', 2), ('it', '', 2), ('does', '', 2), ('that', '', 2), (',', '', 2), ('i', '', 2), ('can', '', 2), ('only', '', 2), ('assume', '', 2), ('it', '', 2), (\"'s\", '', 2), ('the', '', 2), ('screw', '', 2), ('top', '', 2), ('lid', '', 2), ('.', '', 2), ('if', '', 2), ('garnier', '', 2), ('change', '', 2), ('it', '', 2), ('for', '', 2), ('a', '', 2), ('pump', '', 2), ('applicator', '', 2), ('i', '', 2), ('might', '', 2), ('consider', '', 2), ('buying', '', 2), ('it', '', 2), ('again', '', 2), ('.', '', 2)]\n",
      "Entities [('bb cream', 'Garnier BB Cream Miracle Skin Perfector')]\n",
      "Tokens [('5.this', '', 2), ('is', '', 2), ('my', '', 2), ('first', '', 2), ('time', '', 2), ('using', '', 2), ('a', '', 2), ('bb', 'Garnier BB Cream Miracle Skin Perfector', 3), ('cream', 'Garnier BB Cream Miracle Skin Perfector', 1), ('and', '', 2), ('honestly', '', 2), ('it', '', 2), ('’s', '', 2), ('great', '', 2), ('!', '', 2), ('i', '', 2), ('have', '', 2), ('slightly', '', 2), ('oily', '', 2), ('/', '', 2), ('combination', '', 2), ('skin', '', 2), ('and', '', 2), ('it', '', 2), ('mattifies', '', 2), ('my', '', 2), ('skin', '', 2), (',', '', 2), ('but', '', 2), ('almost', '', 2), ('too', '', 2), ('much', '', 2), ('it', '', 2), ('looks', '', 2), ('quite', '', 2), ('dry', '', 2), ('.', '', 2), ('it', '', 2), ('evens', '', 2), ('my', '', 2), ('skin', '', 2), ('tone', '', 2), ('really', '', 2), ('really', '', 2), ('well', '', 2), ('as', '', 2), ('i', '', 2), ('have', '', 2), ('quite', '', 2), ('red', '', 2), ('face', '', 2), ('and', '', 2), ('it', '', 2), ('covers', '', 2), ('it', '', 2), ('well', '', 2), ('!', '', 2), ('also', '', 2), (',', '', 2), ('i', '', 2), ('’ve', '', 2), ('found', '', 2), ('that', '', 2), ('when', '', 2), ('applying', '', 2), ('with', '', 2), ('a', '', 2), ('damp', '', 2), ('beauty', '', 2), ('blender', '', 2), ('it', '', 2), ('becomes', '', 2), ('a', '', 2), ('tad', '', 2), ('patchy', '', 2), ('due', '', 2), ('to', '', 2), ('the', '', 2), ('water', '', 2), (',', '', 2), ('but', '', 2), ('it', '', 2), ('blends', '', 2), ('really', '', 2), ('easily', '', 2), ('!', '', 2), ('i', '', 2), ('could', '', 2), ('only', '', 2), ('find', '', 2), ('the', '', 2), ('shades', '', 2), ('light', '', 2), ('and', '', 2), ('medium', '', 2), ('and', '', 2), ('being', '', 2), ('a', '', 2), ('fair', '', 2), ('/', '', 2), ('warm', '', 2), ('toned', '', 2), (',', '', 2), ('blonde', '', 2), ('/', '', 2), ('brown', '', 2), ('hair', '', 2), (',', '', 2), ('i', '', 2), ('’ve', '', 2), ('found', '', 2), ('that', '', 2), ('even', '', 2), ('the', '', 2), ('light', '', 2), ('shade', '', 2), ('has', '', 2), ('n’t', '', 2), ('an', '', 2), ('orange', '', 2), ('undertone', '', 2), ('.', '', 2), ('i', '', 2), ('usually', '', 2), ('brighten', '', 2), ('it', '', 2), ('with', '', 2), ('a', '', 2), ('concealer', '', 2), (',', '', 2), ('but', '', 2), ('it', '', 2), ('adds', '', 2), ('to', '', 2), ('the', '', 2), ('dryness', '', 2), ('.', '', 2)]\n",
      "Entities [('bb cream', 'Garnier BB Cream Miracle Skin Perfector')]\n",
      "Tokens [('16.i', '', 2), ('thought', '', 2), ('that', '', 2), ('a', '', 2), ('bb', 'Garnier BB Cream Miracle Skin Perfector', 3), ('cream', 'Garnier BB Cream Miracle Skin Perfector', 1), ('specifically', '', 2), ('for', '', 2), ('combination', '', 2), ('skin', '', 2), ('would', '', 2), ('work', '', 2), ('miracles', '', 2), ('.', '', 2), ('i', '', 2), ('am', '', 2), ('sad', '', 2), ('to', '', 2), ('say', '', 2), ('that', '', 2), ('it', '', 2), ('did', '', 2), (\"n't\", '', 2), ('.', '', 2), ('the', '', 2), ('colour', '', 2), ('of', '', 2), ('the', '', 2), ('product', '', 2), ('is', '', 2), ('good', '', 2), ('as', '', 2), ('my', '', 2), ('skin', '', 2), ('is', '', 2), ('quite', '', 2), ('tanned', '', 2), ('and', '', 2), ('the', '', 2), ('coverage', '', 2), ('was', '', 2), ('reasonable', '', 2), ('.', '', 2), ('however', '', 2), (',', '', 2), ('this', '', 2), ('is', '', 2), ('where', '', 2), ('the', '', 2), ('good', '', 2), ('points', '', 2), ('end', '', 2), ('.', '', 2), ('the', '', 2), ('product', '', 2), ('is', '', 2), ('extremely', '', 2), ('runny', '', 2), ('so', '', 2), ('is', '', 2), ('messy', '', 2), ('to', '', 2), ('apply', '', 2), ('and', '', 2), ('it', '', 2), (\"'s\", '', 2), ('difficult', '', 2), ('to', '', 2), ('keep', '', 2), ('a', '', 2), ('clean', '', 2), ('make', '', 2), ('up', '', 2), ('bag', '', 2), ('with', '', 2), ('this', '', 2), ('in', '', 2), ('it', '', 2), ('.', '', 2), ('it', '', 2), ('also', '', 2), ('transfers', '', 2), ('very', '', 2), ('easily', '', 2), ('from', '', 2), ('your', '', 2), ('face', '', 2), ('to', '', 2), ('your', '', 2), ('hands', '', 2), ('throughout', '', 2), ('the', '', 2), ('day', '', 2), (',', '', 2), ('so', '', 2), ('pretty', '', 2), ('much', '', 2), ('everything', '', 2), ('i', '', 2), ('handled', '', 2), ('would', '', 2), ('end', '', 2), ('up', '', 2), ('with', '', 2), ('the', '', 2), ('product', '', 2), ('clinging', '', 2), ('to', '', 2), ('it', '', 2), ('.', '', 2), ('i', '', 2), ('have', '', 2), ('typical', '', 2), ('combination', '', 2), ('skin', '', 2), (',', '', 2), ('but', '', 2), ('this', '', 2), ('product', '', 2), ('seems', '', 2), ('to', '', 2), ('have', '', 2), ('aggravated', '', 2), ('the', '', 2), ('worst', '', 2), ('traits', '', 2), ('.', '', 2), ('it', '', 2), ('clings', '', 2), ('to', '', 2), ('dry', '', 2), ('patches', '', 2), (',', '', 2), ('and', '', 2), ('has', '', 2), ('created', '', 2), ('more', '', 2), ('patches', '', 2), ('where', '', 2), ('i', '', 2), ('would', '', 2), (\"n't\", '', 2), ('normally', '', 2), ('get', '', 2), ('dry', '', 2), ('skin', '', 2), ('e.g.', '', 2), ('around', '', 2), ('my', '', 2), ('nose', '', 2), ('and', '', 2), ('between', '', 2), ('my', '', 2), ('eyebrows', '', 2), ('.', '', 2), ('i', '', 2), ('have', '', 2), ('also', '', 2), ('experienced', '', 2), ('a', '', 2), ('lot', '', 2), ('more', '', 2), ('breakouts', '', 2), ('of', '', 2), ('spots', '', 2), ('than', '', 2), ('normal', '', 2), ('.', '', 2), ('the', '', 2), ('spots', '', 2), ('have', '', 2), ('been', '', 2), ('awful', '', 2), ('.', '', 2), ('they', '', 2), ('are', '', 2), ('big', '', 2), (',', '', 2), ('angry', '', 2), ('and', '', 2), ('very', '', 2), ('sore', '', 2), ('and', '', 2), ('whereas', '', 2), ('if', '', 2), ('i', '', 2), ('do', '', 2), (\"n't\", '', 2), ('touch', '', 2), ('or', '', 2), ('squeeze', '', 2), ('spots', '', 2), ('they', '', 2), ('will', '', 2), ('usually', '', 2), ('disappear', '', 2), ('on', '', 2), ('their', '', 2), ('own', '', 2), ('after', '', 2), ('a', '', 2), ('couple', '', 2), ('of', '', 2), ('days', '', 2), (',', '', 2), ('when', '', 2), ('using', '', 2), ('this', '', 2), ('they', '', 2), ('lasted', '', 2), ('much', '', 2), ('longer', '', 2), ('and', '', 2), ('instead', '', 2), ('of', '', 2), ('covering', '', 2), ('the', '', 2), ('problem', '', 2), ('this', '', 2), ('product', '', 2), ('just', '', 2), ('seemed', '', 2), ('to', '', 2), ('make', '', 2), ('things', '', 2), ('much', '', 2), ('worse', '', 2), ('.', '', 2), ('it', '', 2), ('has', '', 2), ('also', '', 2), ('done', '', 2), ('nothing', '', 2), ('to', '', 2), ('prevent', '', 2), ('shine', '', 2), ('as', '', 2), ('my', '', 2), ('skin', '', 2), ('looked', '', 2), ('oily', '', 2), ('after', '', 2), ('just', '', 2), ('a', '', 2), ('couple', '', 2), ('of', '', 2), ('hours', '', 2), ('.', '', 2), ('i', '', 2), (\"'ve\", '', 2), ('given', '', 2), ('up', '', 2), ('on', '', 2), ('this', '', 2), ('bb', '', 2), ('cream', '', 2), ('after', '', 2), ('less', '', 2), ('than', '', 2), ('a', '', 2), ('month', '', 2), ('and', '', 2), ('have', '', 2), ('had', '', 2), ('to', '', 2), ('go', '', 2), ('completely', '', 2), ('make', '', 2), ('up', '', 2), ('free', '', 2), ('for', '', 2), ('the', '', 2), ('past', '', 2), ('week', '', 2), ('to', '', 2), ('give', '', 2), ('my', '', 2), ('skin', '', 2), ('chance', '', 2), ('to', '', 2), ('calm', '', 2), ('down', '', 2), ('.', '', 2), ('i', '', 2), (\"'m\", '', 2), ('sure', '', 2), ('that', '', 2), ('this', '', 2), ('product', '', 2), ('suits', '', 2), ('lots', '', 2), ('of', '', 2), ('people', '', 2), ('but', '', 2), ('if', '', 2), ('you', '', 2), ('have', '', 2), ('combination', '', 2), ('skin', '', 2), ('that', '', 2), ('is', '', 2), ('also', '', 2), ('quite', '', 2), ('sensitive', '', 2), ('my', '', 2), ('advice', '', 2), ('would', '', 2), ('be', '', 2), ('to', '', 2), ('avoid', '', 2), ('it', '', 2), ('at', '', 2), ('all', '', 2), ('costs', '', 2), ('.', '', 2)]\n",
      "Entities []\n",
      "Tokens [('13.this', '', 2), ('product', '', 2), ('does', '', 2), ('what', '', 2), ('it', '', 2), ('says', '', 2), ('on', '', 2), ('the', '', 2), ('box', '', 2), ('to', '', 2), ('be', '', 2), ('fair', '', 2), (',', '', 2), ('it', '', 2), ('does', '', 2), ('make', '', 2), ('your', '', 2), ('skin', '', 2), ('that', '', 2), ('little', '', 2), ('bit', '', 2), ('better', '', 2), ('without', '', 2), ('having', '', 2), ('to', '', 2), ('trowel', '', 2), ('foundation', '', 2), ('all', '', 2), ('over', '', 2), ('your', '', 2), ('face', '', 2), ('.', '', 2)]\n",
      "Entities [('bb cream', 'Garnier BB Cream Miracle Skin Perfector')]\n",
      "Tokens [('15.what', '', 2), ('i', '', 2), (\"'m\", '', 2), ('really', '', 2), ('disappointed', '', 2), ('with', '', 2), ('is', '', 2), ('the', '', 2), ('colour', '', 2), ('.', '', 2), ('this', '', 2), ('product', '', 2), ('is', '', 2), (',', '', 2), ('unusually', '', 2), (',', '', 2), ('on', '', 2), ('the', '', 2), ('yellow', '', 2), ('toned', '', 2), ('side', '', 2), (',', '', 2), ('which', '', 2), ('normally', '', 2), ('complements', '', 2), ('my', '', 2), ('neutral', '', 2), ('undertones', '', 2), ('a', '', 2), ('lot', '', 2), ('better', '', 2), ('than', '', 2), ('standard', '', 2), ('pink', '', 2), ('based', '', 2), ('bb', '', 2), ('creams', '', 2), (',', '', 2), ('but', '', 2), ('it', '', 2), (\"'s\", '', 2), ('about', '', 2), ('3', '', 2), ('shades', '', 2), ('too', '', 2), ('dark', '', 2), ('for', '', 2), ('me', '', 2), (',', '', 2), ('and', '', 2), ('there', '', 2), ('are', '', 2), ('no', '', 2), ('lighter', '', 2), ('shades', '', 2), ('than', '', 2), ('this', '', 2), ('available', '', 2), ('.', '', 2), ('i', '', 2), ('look', '', 2), ('like', '', 2), ('i', '', 2), (\"'ve\", '', 2), ('been', '', 2), ('tangoed', '', 2), ('when', '', 2), ('i', '', 2), ('wear', '', 2), ('it', '', 2), (',', '', 2), ('and', '', 2), ('there', '', 2), (\"'s\", '', 2), ('no', '', 2), ('way', '', 2), ('of', '', 2), ('blending', '', 2), ('it', '', 2), ('in', '', 2), ('around', '', 2), ('my', '', 2), ('chin', '', 2), ('line', '', 2), ('.', '', 2), ('as', '', 2), ('your', '', 2), ('face', '', 2), ('gets', '', 2), ('more', '', 2), ('oily', '', 2), (',', '', 2), ('the', '', 2), ('colour', '', 2), ('does', '', 2), ('lighten', '', 2), ('up', '', 2), ('to', '', 2), ('complement', '', 2), ('your', '', 2), ('natural', '', 2), ('skin', '', 2), (',', '', 2), ('but', '', 2), ('this', '', 2), ('can', '', 2), ('take', '', 2), ('all', '', 2), ('morning', '', 2), (',', '', 2), ('and', '', 2), ('then', '', 2), ('by', '', 2), ('lunchtime', '', 2), (',', '', 2), ('when', '', 2), ('it', '', 2), ('looks', '', 2), ('a', '', 2), ('normal', '', 2), ('colour', '', 2), (',', '', 2), ('your', '', 2), ('face', '', 2), ('has', '', 2), ('become', '', 2), ('oily', '', 2), (',', '', 2), ('so', '', 2), ('you', '', 2), ('feel', '', 2), ('like', '', 2), ('taking', '', 2), ('it', '', 2), ('off', '', 2), ('and', '', 2), ('reapplying', '', 2), ('.', '', 2), ('all', '', 2), ('of', '', 2), ('that', '', 2), ('hassle', '', 2), (',', '', 2), ('and', '', 2), ('it', '', 2), ('does', '', 2), (\"n't\", '', 2), ('completely', '', 2), ('hide', '', 2), ('your', '', 2), ('blemishes', '', 2), ('because', '', 2), ('it', '', 2), (\"'s\", '', 2), ('only', '', 2), ('a', '', 2), ('bb', 'Garnier BB Cream Miracle Skin Perfector', 3), ('cream', 'Garnier BB Cream Miracle Skin Perfector', 1), ('anyway', '', 2), ('....', '', 2), ('i', '', 2), (\"'d\", '', 2), ('rather', '', 2), ('get', '', 2), ('out', '', 2), ('a', '', 2), ('trusty', '', 2), ('foundation', '', 2), (':(', '', 2), ('and', '', 2), ('i', '', 2), ('really', '', 2), ('wanted', '', 2), ('to', '', 2), ('make', '', 2), ('this', '', 2), ('work', '', 2), ('for', '', 2), ('me', '', 2), (',', '', 2), ('as', '', 2), ('on', '', 2), ('the', '', 2), ('box', '', 2), ('it', '', 2), ('seemed', '', 2), ('too', '', 2), ('good', '', 2), ('to', '', 2), ('be', '', 2), ('true', '', 2), ('.', '', 2)]\n",
      "Entities []\n",
      "Tokens [('14.it', '', 2), ('does', '', 2), ('control', '', 2), ('oil', '', 2), ('for', '', 2), ('about', '', 2), ('4', '', 2), ('hours', '', 2), (',', '', 2), ('after', '', 2), ('which', '', 2), ('i', '', 2), ('find', '', 2), ('i', '', 2), ('have', '', 2), ('to', '', 2), ('remove', '', 2), ('my', '', 2), ('oil', '', 2), ('with', '', 2), ('blotting', '', 2), ('papers', '', 2), ('and', '', 2), ('then', '', 2), ('use', '', 2), ('rimmel', '', 2), ('stay', '', 2), ('matte', '', 2), ('to', '', 2), ('take', '', 2), ('a', '', 2), ('bit', '', 2), ('of', '', 2), ('the', '', 2), ('shine', '', 2), ('off', '', 2), ('my', '', 2), ('face', '', 2), ('.', '', 2)]\n",
      "Entities [('bb cream', 'Garnier BB Cream Miracle Skin Perfector')]\n",
      "Tokens [('11.i', '', 2), ('usually', '', 2), ('use', '', 2), ('the', '', 2), ('maybelline', '', 2), ('bb', 'Garnier BB Cream Miracle Skin Perfector', 3), ('cream', 'Garnier BB Cream Miracle Skin Perfector', 1), (',', '', 2), ('but', '', 2), ('i', '', 2), ('decided', '', 2), ('to', '', 2), ('get', '', 2), ('this', '', 2), ('one', '', 2), ('instead', '', 2), ('.', '', 2), ('great', '', 2), ('coverage', '', 2), ('and', '', 2), ('it', '', 2), ('actually', '', 2), ('reduced', '', 2), ('my', '', 2), ('acne', '', 2), ('.', '', 2), ('would', '', 2), ('recommend', '', 2), ('it', '', 2)]\n",
      "Entities [('bb cream', 'Garnier BB Cream Miracle Skin Perfector')]\n",
      "Tokens [('1.i', '', 2), ('absolutely', '', 2), ('love', '', 2), ('this', '', 2), ('bb', 'Garnier BB Cream Miracle Skin Perfector', 3), ('cream', 'Garnier BB Cream Miracle Skin Perfector', 1), ('.', '', 2), ('i', '', 2), ('have', '', 2), ('repurchased', '', 2), ('multiple', '', 2), ('bottles', '', 2), ('over', '', 2), ('the', '', 2), ('years', '', 2), ('.', '', 2), ('it', '', 2), ('’s', '', 2), ('a', '', 2), ('lovely', '', 2), ('formula', '', 2), ('which', '', 2), ('easily', '', 2), ('blends', '', 2), ('into', '', 2), ('the', '', 2), ('skin', '', 2), ('.', '', 2), ('it', '', 2), ('has', '', 2), ('a', '', 2), ('medium', '', 2), ('coverage', '', 2), ('and', '', 2), ('mattifies', '', 2), ('the', '', 2), ('skin', '', 2), ('.', '', 2), ('my', '', 2), ('skin', '', 2), ('looks', '', 2), ('good', '', 2), ('all', '', 2), ('day', '', 2), ('with', '', 2), ('this', '', 2), ('product', '', 2), ('and', '', 2), ('it', '', 2), ('improves', '', 2), ('my', '', 2), ('skins', '', 2), ('condition', '', 2), ('with', '', 2), ('use', '', 2), ('also', '', 2), ('!', '', 2), ('great', '', 2), ('bonus', '', 2), ('that', '', 2), ('it', '', 2), ('has', '', 2), ('spf', '', 2), ('20', '', 2), ('.', '', 2), ('i', '', 2), ('have', '', 2), ('knocked', '', 2), ('a', '', 2), ('star', '', 2), ('off', '', 2), ('as', '', 2), ('the', '', 2), ('shade', '', 2), ('“', '', 2), ('light', '', 2), ('”', '', 2), ('must', '', 2), ('have', '', 2), ('recently', '', 2), ('been', '', 2), ('changed', '', 2), ('as', '', 2), ('it', '', 2), ('’s', '', 2), ('now', '', 2), ('too', '', 2), ('dark', '', 2), ('for', '', 2), ('my', '', 2), ('skin', '', 2), ('tone', '', 2), ('.', '', 2), ('i', '', 2), ('would', '', 2), ('say', '', 2), ('it', '', 2), ('’s', '', 2), ('more', '', 2), ('of', '', 2), ('a', '', 2), ('medium', '', 2), ('shade', '', 2), ('which', '', 2), ('is', '', 2), ('a', '', 2), ('shame', '', 2), ('.', '', 2)]\n",
      "Entities [('bb cream', 'Garnier BB Cream Miracle Skin Perfector')]\n",
      "Tokens [('7.i', '', 2), ('switched', '', 2), ('a', '', 2), ('few', '', 2), ('months', '', 2), ('ago', '', 2), ('from', '', 2), ('the', '', 2), ('original', '', 2), ('garner', '', 2), ('bb', 'Garnier BB Cream Miracle Skin Perfector', 3), ('cream', 'Garnier BB Cream Miracle Skin Perfector', 1), ('to', '', 2), ('this', '', 2), ('version', '', 2), ('as', '', 2), ('my', '', 2), ('t', '', 2), ('-', '', 2), ('zone', '', 2), ('seems', '', 2), ('to', '', 2), ('have', '', 2), ('decided', '', 2), ('to', '', 2), ('be', '', 2), ('greasy', '', 2), ('and', '', 2), ('i', '', 2), ('was', '', 2), ('getting', '', 2), ('a', '', 2), ('few', '', 2), ('break', '', 2), ('-', '', 2), ('outs', '', 2), ('.', '', 2), ('this', '', 2), ('gives', '', 2), ('just', '', 2), ('enough', '', 2), ('coverage', '', 2), ('to', '', 2), ('tone', '', 2), ('down', '', 2), ('my', '', 2), ('red', '', 2), ('cheeks', '', 2), ('a', '', 2), ('bit', '', 2), ('but', '', 2), ('without', '', 2), ('looking', '', 2), ('like', '', 2), ('i', '', 2), ('have', '', 2), ('too', '', 2), ('heavy', '', 2), ('a', '', 2), ('face', '', 2), ('of', '', 2), ('make', '', 2), ('up', '', 2), ('on', '', 2), ('.', '', 2), ('easy', '', 2), ('to', '', 2), ('use', '', 2), ('(', '', 2), ('and', '', 2), ('easy', '', 2), ('to', '', 2), ('remove', '', 2), ('at', '', 2), ('the', '', 2), ('end', '', 2), ('of', '', 2), ('the', '', 2), ('day', '', 2), (')', '', 2), ('this', '', 2), ('has', '', 2), ('earned', '', 2), ('a', '', 2), ('permanent', '', 2), ('spot', '', 2), ('in', '', 2), ('my', '', 2), ('makeup', '', 2), ('bag', '', 2), ('!', '', 2)]\n",
      "Entities [('bb cream', 'Garnier BB Cream Miracle Skin Perfector')]\n",
      "Tokens [('18.quite', '', 2), ('disappointing', '', 2), (',', '', 2), ('it', '', 2), ('does', '', 2), (\"n't\", '', 2), ('blend', '', 2), ('well', '', 2), (',', '', 2), ('it', '', 2), ('leaves', '', 2), ('my', '', 2), ('face', '', 2), ('looking', '', 2), ('waxy', '', 2), ('and', '', 2), ('orange', '', 2), ('and', '', 2), ('it', '', 2), ('makes', '', 2), ('my', '', 2), ('foundation', '', 2), ('look', '', 2), ('weird', '', 2), ('.', '', 2), ('definitely', '', 2), ('not', '', 2), ('a', '', 2), ('good', '', 2), ('buy', '', 2), ('.', '', 2), ('i', '', 2), ('tried', '', 2), ('a', '', 2), ('little', '', 2), ('trick', '', 2), ('since', '', 2), ('i', '', 2), ('did', '', 2), (\"n't\", '', 2), ('want', '', 2), ('this', '', 2), ('to', '', 2), ('go', '', 2), ('to', '', 2), ('waste', '', 2), ('.', '', 2), ('i', '', 2), ('mixed', '', 2), ('some', '', 2), ('of', '', 2), ('my', '', 2), ('foundation', '', 2), ('in', '', 2), ('a', '', 2), ('little', '', 2), ('pot', '', 2), ('along', '', 2), ('with', '', 2), ('some', '', 2), ('of', '', 2), ('this', '', 2), ('bb', 'Garnier BB Cream Miracle Skin Perfector', 3), ('cream', 'Garnier BB Cream Miracle Skin Perfector', 1), ('and', '', 2), ('once', '', 2), ('applied', '', 2), (',', '', 2), ('it', '', 2), ('looked', '', 2), ('a', '', 2), ('little', '', 2), ('better', '', 2), ('than', '', 2), ('on', '', 2), ('it', '', 2), (\"'s\", '', 2), ('own', '', 2), (',', '', 2), ('but', '', 2), ('still', '', 2), (',', '', 2), ('if', '', 2), ('you', '', 2), ('are', '', 2), ('thinking', '', 2), ('about', '', 2), ('buying', '', 2), ('it', '', 2), (',', '', 2), ('think', '', 2), ('twice', '', 2), ('.', '', 2), ('i', '', 2), ('would', '', 2), (\"n't\", '', 2), ('recommend', '', 2), ('it', '', 2), ('.', '', 2)]\n"
     ]
    }
   ],
   "source": [
    "for text, _ in TRAIN_DATA:\n",
    "    doc = nlp(text)\n",
    "    print('Entities', [(ent.text, ent.label_) for ent in doc.ents])\n",
    "    print('Tokens', [(t.text, t.ent_type_, t.ent_iob) for t in doc])"
   ]
  },
  {
   "cell_type": "markdown",
   "metadata": {},
   "source": [
    "### Save the Model"
   ]
  },
  {
   "cell_type": "code",
   "execution_count": 29,
   "metadata": {},
   "outputs": [
    {
     "name": "stdout",
     "output_type": "stream",
     "text": [
      "Saved model to C:\\Users\\nithi\\Documents\\productNER\n"
     ]
    }
   ],
   "source": [
    "if output_dir is not None:\n",
    "    output_dir = Path(output_dir)\n",
    "    if not output_dir.exists():\n",
    "        output_dir.mkdir()\n",
    "    nlp.to_disk(output_dir)\n",
    "    print(\"Saved model to\", output_dir)        "
   ]
  },
  {
   "cell_type": "markdown",
   "metadata": {},
   "source": [
    "### Testing the saved model"
   ]
  },
  {
   "cell_type": "code",
   "execution_count": 29,
   "metadata": {},
   "outputs": [
    {
     "name": "stdout",
     "output_type": "stream",
     "text": [
      "Loading from C:\\Users\\nithi\\Documents\\productNER\n",
      "Entities [('bb cream', 'Garnier BB Cream Miracle Skin Perfector')]\n",
      "Tokens [('19.i', '', 2), ('normally', '', 2), ('use', '', 2), ('my', '', 2), ('loreal', '', 2), ('true', '', 2), ('match', '', 2), ('foundation', '', 2), ('every', '', 2), ('day', '', 2), (',', '', 2), ('but', '', 2), ('it', '', 2), (\"'s\", '', 2), ('safe', '', 2), ('to', '', 2), ('say', '', 2), ('i', '', 2), (\"'ll\", '', 2), ('be', '', 2), ('switching', '', 2), ('to', '', 2), ('this', '', 2), ('!', '', 2), ('it', '', 2), ('has', '', 2), ('the', '', 2), ('same', '', 2), ('coverage', '', 2), ('as', '', 2), ('a', '', 2), ('foundation', '', 2), ('and', '', 2), ('evens', '', 2), ('out', '', 2), ('skin', '', 2), ('tone', '', 2), (',', '', 2), ('but', '', 2), ('it', '', 2), ('feels', '', 2), ('just', '', 2), ('like', '', 2), ('skin', '', 2), ('on', '', 2), ('your', '', 2), ('face', '', 2), ('as', '', 2), ('if', '', 2), ('nothing', '', 2), (\"'s\", '', 2), ('there', '', 2), ('!', '', 2), ('it', '', 2), ('hardly', '', 2), ('ever', '', 2), ('creases', '', 2), ('and', '', 2), ('lasts', '', 2), ('hours', '', 2), ('without', '', 2), ('fading', '', 2), ('away', '', 2), ('!', '', 2), ('sometimes', '', 2), ('redness', '', 2), ('can', '', 2), ('show', '', 2), ('through', '', 2), ('after', '', 2), ('a', '', 2), ('few', '', 2), ('hours', '', 2), ('but', '', 2), ('if', '', 2), ('you', '', 2), ('use', '', 2), ('a', '', 2), ('good', '', 2), ('concealer', '', 2), ('there', '', 2), (\"'ll\", '', 2), ('be', '', 2), ('no', '', 2), ('problem', '', 2), ('!', '', 2), ('i', '', 2), ('have', '', 2), ('normal', '', 2), ('skin', '', 2), ('but', '', 2), ('i', '', 2), (\"'m\", '', 2), ('oily', '', 2), ('in', '', 2), ('my', '', 2), ('t', '', 2), ('-', '', 2), ('zone', '', 2), (',', '', 2), ('so', '', 2), ('this', '', 2), ('bb', 'Garnier BB Cream Miracle Skin Perfector', 3), ('cream', 'Garnier BB Cream Miracle Skin Perfector', 1), ('is', '', 2), ('perfect', '', 2), ('as', '', 2), ('it', '', 2), ('stays', '', 2), ('matte', '', 2), ('all', '', 2), ('day', '', 2), (',', '', 2), ('and', '', 2), ('even', '', 2), ('longer', '', 2), ('if', '', 2), ('you', '', 2), ('use', '', 2), ('some', '', 2), ('powder', '', 2)]\n",
      "\n",
      "Entities [('bb cream', 'Garnier BB Cream Miracle Skin Perfector')]\n",
      "Tokens [(\"17.i've\", '', 2), ('tried', '', 2), ('loads', '', 2), ('of', '', 2), ('bb', '', 2), ('creams', '', 2), ('trying', '', 2), ('to', '', 2), ('find', '', 2), ('one', '', 2), ('that', '', 2), ('actually', '', 2), ('works', '', 2), ('and', '', 2), ('does', '', 2), ('what', '', 2), ('it', '', 2), ('says', '', 2), ('!', '', 2), ('every', '', 2), ('other', '', 2), ('one', '', 2), ('i', '', 2), (\"'ve\", '', 2), ('found', '', 2), ('says', '', 2), ('light', '', 2), ('but', '', 2), ('is', '', 2), ('actually', '', 2), ('orange', '', 2), ('.', '', 2), ('this', '', 2), ('garnier', '', 2), ('one', '', 2), ('is', '', 2), ('actually', '', 2), ('a', '', 2), ('light', '', 2), ('colour', '', 2), ('!', '', 2), ('yellow', '', 2), ('undertones', '', 2), ('so', '', 2), ('perfect', '', 2), ('for', '', 2), ('me', '', 2), ('.', '', 2), ('great', '', 2), ('coverage', '', 2), ('for', '', 2), ('a', '', 2), ('bb', 'Garnier BB Cream Miracle Skin Perfector', 3), ('cream', 'Garnier BB Cream Miracle Skin Perfector', 1), (',', '', 2), ('i', '', 2), (\"'d\", '', 2), ('even', '', 2), ('say', '', 2), ('better', '', 2), ('than', '', 2), ('some', '', 2), ('foundation', '', 2), (\"'s\", '', 2), ('i', '', 2), (\"'ve\", '', 2), ('had', '', 2), ('in', '', 2), ('the', '', 2), ('past', '', 2), ('.', '', 2), ('and', '', 2), ('......', '', 2), ('it', '', 2), (\"'s\", '', 2), ('matte', '', 2), ('!', '', 2), ('!', '', 2), ('!', '', 2), ('no', '', 2), ('shine', '', 2), ('and', '', 2), ('no', '', 2), ('stickiness', '', 2), ('!', '', 2), ('the', '', 2), ('only', '', 2), ('thing', '', 2), ('i', '', 2), ('do', '', 2), (\"n't\", '', 2), ('like', '', 2), ('about', '', 2), ('it', '', 2), ('is', '', 2), ('that', '', 2), ('the', '', 2), ('box', '', 2), ('says', '', 2), ('to', '', 2), ('apply', '', 2), ('it', '', 2), ('like', '', 2), ('you', '', 2), ('would', '', 2), ('a', '', 2), ('moisturiser', '', 2), ('.', '', 2), ('i', '', 2), (\"'d\", '', 2), ('advise', '', 2), ('to', '', 2), ('use', '', 2), ('a', '', 2), ('brush', '', 2), (',', '', 2), ('it', '', 2), (\"'s\", '', 2), ('a', '', 2), ('little', '', 2), ('bit', '', 2), ('hard', '', 2), ('to', '', 2), ('blend', '', 2), ('around', '', 2), ('the', '', 2), ('edges', '', 2), ('of', '', 2), ('your', '', 2), ('face', '', 2), ('and', '', 2), ('i', '', 2), ('find', '', 2), ('fingers', '', 2), ('make', '', 2), ('the', '', 2), ('cheeks', '', 2), ('look', '', 2), ('blotchy', '', 2), ('.', '', 2)]\n",
      "\n",
      "Entities [('bb cream', 'Garnier BB Cream Miracle Skin Perfector')]\n",
      "Tokens [('8.have', '', 2), ('been', '', 2), ('using', '', 2), ('this', '', 2), ('product', '', 2), ('for', '', 2), ('several', '', 2), ('weeks', '', 2), ('now', '', 2), ('and', '', 2), ('i', '', 2), ('love', '', 2), ('it', '', 2), ('.', '', 2), ('47yrs', '', 2), ('old', '', 2), ('and', '', 2), ('was', '', 2), ('looking', '', 2), ('for', '', 2), ('something', '', 2), ('lighter', '', 2), ('for', '', 2), ('the', '', 2), ('summer', '', 2), ('and', '', 2), ('thought', '', 2), ('i', '', 2), ('would', '', 2), ('try', '', 2), ('a', '', 2), ('bb', 'Garnier BB Cream Miracle Skin Perfector', 3), ('cream', 'Garnier BB Cream Miracle Skin Perfector', 1), ('.', '', 2), ('i', '', 2), ('ca', '', 2), (\"n't\", '', 2), ('rate', '', 2), ('this', '', 2), ('product', '', 2), ('highly', '', 2), ('enough', '', 2), (',', '', 2), ('i', '', 2), ('tend', '', 2), ('to', '', 2), ('use', '', 2), ('pricey', '', 2), ('foundation', '', 2), ('just', '', 2), ('because', '', 2), ('of', '', 2), ('my', '', 2), ('age', '', 2), ('and', '', 2), ('i', '', 2), ('do', '', 2), (\"n't\", '', 2), ('have', '', 2), ('great', '', 2), ('skin', '', 2), ('but', '', 2), ('this', '', 2), ('bb', '', 2), ('cream', '', 2), ('gives', '', 2), ('me', '', 2), ('an', '', 2), ('even', '', 2), ('better', '', 2), ('finish', '', 2), (',', '', 2), ('goes', '', 2), ('on', '', 2), ('smoothly', '', 2), (',', '', 2), ('does', '', 2), (\"n't\", '', 2), ('settle', '', 2), ('in', '', 2), ('lines', '', 2), ('(', '', 2), ('i', '', 2), ('do', '', 2), ('use', '', 2), ('a', '', 2), ('primer', '', 2), ('tho', '', 2), (')', '', 2), ('last', '', 2), (\"'s\", '', 2), ('all', '', 2), ('day', '', 2), ('with', '', 2), ('no', '', 2), ('shine', '', 2), ('and', '', 2), ('i', '', 2), ('just', '', 2), ('love', '', 2), ('the', '', 2), ('finish', '', 2), ('it', '', 2), ('gives', '', 2), ('.', '', 2), ('do', '', 2), (\"n't\", '', 2), ('be', '', 2), ('put', '', 2), ('off', '', 2), ('by', '', 2), ('the', '', 2), ('way', '', 2), ('it', '', 2), ('looks', '', 2), ('when', '', 2), ('first', '', 2), ('applied', '', 2), ('it', '', 2), (\"'s\", '', 2), ('one', '', 2), ('of', '', 2), ('these', '', 2), ('products', '', 2), ('that', '', 2), ('takes', '', 2), ('about', '', 2), ('10', '', 2), ('-', '', 2), ('15mins', '', 2), ('to', '', 2), ('settle', '', 2), ('but', '', 2), ('perfect', '', 2), ('after', '', 2), ('that', '', 2), ('.', '', 2), ('buy', '', 2), ('it', '', 2), ('!', '', 2)]\n",
      "\n",
      "Entities []\n",
      "Tokens [('4.i', '', 2), ('have', '', 2), ('bought', '', 2), ('several', '', 2), ('bb', '', 2), ('creams', '', 2), ('over', '', 2), ('the', '', 2), ('years', '', 2), ('and', '', 2), ('always', '', 2), ('been', '', 2), ('disappointed', '', 2), ('so', '', 2), ('was', '', 2), (\"n't\", '', 2), ('expecting', '', 2), ('much', '', 2), ('from', '', 2), ('this', '', 2), ('.', '', 2), ('it', '', 2), ('does', '', 2), ('everything', '', 2), ('it', '', 2), ('promises', '', 2), (',', '', 2), ('and', '', 2), ('i', '', 2), ('absolutely', '', 2), ('love', '', 2), ('it', '', 2), ('.', '', 2), ('i', '', 2), ('do', '', 2), (\"n't\", '', 2), ('like', '', 2), ('wearing', '', 2), ('heavy', '', 2), ('makeup', '', 2), ('but', '', 2), ('do', '', 2), (\"n't\", '', 2), ('have', '', 2), ('the', '', 2), ('best', '', 2), ('skin', '', 2), ('and', '', 2), ('this', '', 2), ('gives', '', 2), ('the', '', 2), ('perfect', '', 2), ('amount', '', 2), ('of', '', 2), ('coverage', '', 2), ('.', '', 2), ('unlike', '', 2), ('many', '', 2), ('products', '', 2), ('that', '', 2), ('promise', '', 2), ('to', '', 2), ('mattify', '', 2), ('this', '', 2), ('actually', '', 2), ('does', '', 2), ('without', '', 2), ('drying', '', 2), ('out', '', 2), ('my', '', 2), ('skin', '', 2), ('and', '', 2), ('gives', '', 2), ('a', '', 2), ('lovely', '', 2), ('glow', '', 2), ('.', '', 2), ('a', '', 2), ('little', '', 2), ('goes', '', 2), ('a', '', 2), ('long', '', 2), ('way', '', 2), ('so', '', 2), ('i', '', 2), ('can', '', 2), ('tell', '', 2), ('this', '', 2), ('is', '', 2), ('going', '', 2), ('to', '', 2), ('last', '', 2), ('for', '', 2), ('ages', '', 2), ('.', '', 2), ('i', '', 2), ('have', '', 2), ('never', '', 2), ('felt', '', 2), ('so', '', 2), ('confident', '', 2), ('in', '', 2), ('how', '', 2), ('my', '', 2), ('skin', '', 2), ('looks', '', 2), ('and', '', 2), ('i', '', 2), ('will', '', 2), ('not', '', 2), ('be', '', 2), ('changing', '', 2), ('from', '', 2), ('this', '', 2), ('cream', '', 2), ('!', '', 2), ('outperforms', '', 2), ('much', '', 2), ('more', '', 2), ('expensive', '', 2), ('formulas', '', 2), ('i', '', 2), (\"'ve\", '', 2), ('tried', '', 2), (',', '', 2), ('absolute', '', 2), ('winner', '', 2), ('for', '', 2), ('me', '', 2), ('.', '', 2)]\n",
      "\n",
      "Entities [('bb cream', 'Garnier BB Cream Miracle Skin Perfector')]\n",
      "Tokens [('2.i', '', 2), ('always', '', 2), ('use', '', 2), ('the', '', 2), ('garnier', '', 2), ('bb', 'Garnier BB Cream Miracle Skin Perfector', 3), ('cream', 'Garnier BB Cream Miracle Skin Perfector', 1), ('medium', '', 2), ('but', '', 2), ('the', '', 2), ('last', '', 2), ('one', '', 2), ('i', '', 2), ('bought', '', 2), ('the', '', 2), ('box', '', 2), ('and', '', 2), ('tube', '', 2), ('had', '', 2), ('changed', '', 2), ('.', '', 2), ('it', '', 2), ('’s', '', 2), ('much', '', 2), ('darker', '', 2), ('as', '', 2), ('well', '', 2), ('.', '', 2), ('think', '', 2), ('might', '', 2), ('have', '', 2), ('to', '', 2), ('go', '', 2), ('lighter', '', 2), ('.', '', 2)]\n",
      "\n",
      "Entities [('bb cream', 'Garnier BB Cream Miracle Skin Perfector')]\n",
      "Tokens [('12.i', '', 2), ('love', '', 2), ('this', '', 2), ('bb', 'Garnier BB Cream Miracle Skin Perfector', 3), ('cream', 'Garnier BB Cream Miracle Skin Perfector', 1), ('for', '', 2), ('combination', '', 2), ('skin', '', 2), (',', '', 2), ('but', '', 2), ('with', '', 2), ('my', '', 2), ('pale', '', 2), ('complexion', '', 2), ('it', '', 2), ('only', '', 2), ('really', '', 2), ('suits', '', 2), ('me', '', 2), ('when', '', 2), ('i', '', 2), (\"'ve\", '', 2), ('got', '', 2), ('a', '', 2), ('tan', '', 2), ('(', '', 2), ('which', '', 2), ('just', '', 2), ('does', '', 2), (\"n't\", '', 2), ('happen', '', 2), ('that', '', 2), ('often', '', 2), ('when', '', 2), ('you', '', 2), ('live', '', 2), ('in', '', 2), ('the', '', 2), ('uk', '', 2), ('!', '', 2), (')', '', 2), ('.', '', 2), ('please', '', 2), ('introduce', '', 2), ('the', '', 2), ('extra', '', 2), ('light', '', 2), ('shade', '', 2), ('for', '', 2), ('this', '', 2), ('one', '', 2), ('as', '', 2), ('well', '', 2), ('!', '', 2)]\n",
      "\n",
      "Entities [('bb cream', 'Garnier BB Cream Miracle Skin Perfector')]\n",
      "Tokens [('6.my', '', 2), ('absolute', '', 2), ('favourite', '', 2), ('foundation', '', 2), ('/', '', 2), ('bb', 'Garnier BB Cream Miracle Skin Perfector', 3), ('cream', 'Garnier BB Cream Miracle Skin Perfector', 1), ('!', '', 2), ('i', '', 2), ('have', '', 2), ('been', '', 2), ('using', '', 2), ('this', '', 2), ('for', '', 2), ('3', '', 2), ('years', '', 2), ('and', '', 2), ('have', '', 2), ('never', '', 2), ('strayed', '', 2), ('!', '', 2), ('it', '', 2), ('is', '', 2), ('the', '', 2), ('perfect', '', 2), ('natural', '', 2), ('base', '', 2), ('for', '', 2), ('your', '', 2), ('face', '', 2), ('-', '', 2), ('applied', '', 2), ('with', '', 2), ('a', '', 2), ('beauty', '', 2), ('blender', '', 2), ('gives', '', 2), ('a', '', 2), ('flawless', '', 2), ('look', '', 2), ('without', '', 2), ('being', '', 2), ('heavy', '', 2), ('and', '', 2), ('stays', '', 2), ('on', '', 2), ('all', '', 2), ('day', '', 2), ('with', '', 2), ('a', '', 2), ('primer', '', 2), ('and', '', 2), ('a', '', 2), ('bit', '', 2), ('of', '', 2), ('setting', '', 2), ('powder', '', 2), (',', '', 2), ('light', '', 2), ('contour', '', 2), ('and', '', 2), ('blusher', '', 2), ('also', '', 2), ('sit', '', 2), ('nicely', '', 2), ('on', '', 2), ('top', '', 2), ('.', '', 2), ('it', '', 2), ('has', '', 2), ('a', '', 2), ('medium', '', 2), ('buildable', '', 2), ('coverage', '', 2), (',', '', 2), ('honestly', '', 2), ('feel', '', 2), ('like', '', 2), ('it', '', 2), ('covers', '', 2), ('better', '', 2), ('than', '', 2), ('any', '', 2), ('other', '', 2), ('drugstore', '', 2), ('foundation', '', 2), ('i', '', 2), ('’ve', '', 2), ('used', '', 2), ('!', '', 2), ('only', '', 2), ('negative', '', 2), ('is', '', 2), ('the', '', 2), ('shade', '', 2), ('range', '', 2), (',', '', 2), ('however', '', 2), ('i', '', 2), ('have', '', 2), ('shades', '', 2), ('light', '', 2), ('and', '', 2), ('medium', '', 2), ('and', '', 2), ('mix', '', 2), ('them', '', 2), ('accordingly', '', 2), ('throughout', '', 2), ('the', '', 2), ('year', '', 2), ('to', '', 2), ('get', '', 2), ('my', '', 2), ('perfect', '', 2), ('colour', '', 2), ('!', '', 2), ('my', '', 2), ('skin', '', 2), ('has', '', 2), ('also', '', 2), ('improved', '', 2), ('since', '', 2), ('using', '', 2), ('this', '', 2), ('as', '', 2), ('it', '', 2), ('is', '', 2), ('non', '', 2), ('-', '', 2), ('clogging', '', 2), ('and', '', 2), ('has', '', 2), ('plenty', '', 2), ('of', '', 2), ('skin', '', 2), ('benefits', '', 2), (',', '', 2), ('so', '', 2), ('you', '', 2), ('do', '', 2), (\"n't\", '', 2), ('need', '', 2), ('to', '', 2), ('feel', '', 2), ('guilty', '', 2), ('about', '', 2), ('wearing', '', 2), ('it', '', 2), ('every', '', 2), ('day', '', 2), ('.', '', 2), ('the', '', 2), ('tube', '', 2), ('also', '', 2), ('lasts', '', 2), ('for', '', 2), ('ages', '', 2), ('(', '', 2), ('9', '', 2), ('+', '', 2), ('months', '', 2), (')', '', 2), ('.', '', 2), ('definitely', '', 2), ('recommend', '', 2), ('for', '', 2), ('oily', '', 2), ('/', '', 2), ('combination', '', 2), ('/', '', 2), ('blemish', '', 2), ('prone', '', 2), ('skin', '', 2), ('.', '', 2)]\n",
      "\n",
      "Entities [('bb cream', 'Garnier BB Cream Miracle Skin Perfector')]\n",
      "Tokens [('3.i', '', 2), ('picked', '', 2), ('this', '', 2), ('up', '', 2), ('today', '', 2), ('because', '', 2), ('it', '', 2), ('was', '', 2), ('on', '', 2), ('sale', '', 2), ('and', '', 2), ('was', '', 2), ('extremely', '', 2), ('disappointed', '', 2), ('.', '', 2), ('i', '', 2), ('have', '', 2), ('pale', '', 2), ('skin', '', 2), ('and', '', 2), ('the', '', 2), ('bb', 'Garnier BB Cream Miracle Skin Perfector', 3), ('cream', 'Garnier BB Cream Miracle Skin Perfector', 1), ('just', '', 2), ('looked', '', 2), ('straight', '', 2), ('up', '', 2), ('orange', '', 2), ('on', '', 2), ('me', '', 2), ('.', '', 2), ('not', '', 2), ('at', '', 2), ('all', '', 2), ('what', '', 2), ('i', '', 2), ('was', '', 2), ('expecting', '', 2), ('given', '', 2), ('it', '', 2), (\"'s\", '', 2), ('called', '', 2), ('light', '', 2), ('.', '', 2), ('it', '', 2), ('also', '', 2), ('goes', '', 2), ('on', '', 2), ('very', '', 2), ('streaky', '', 2), ('and', '', 2), ('patchy', '', 2), ('and', '', 2), ('has', '', 2), ('a', '', 2), ('very', '', 2), ('strong', '', 2), ('fragrance', '', 2), ('.', '', 2), ('needless', '', 2), ('to', '', 2), ('say', '', 2), (',', '', 2), ('i', '', 2), ('could', '', 2), (\"n't\", '', 2), ('even', '', 2), ('leave', '', 2), ('the', '', 2), ('house', '', 2), ('with', '', 2), ('it', '', 2), ('on', '', 2), ('and', '', 2), ('removed', '', 2), ('it', '', 2), ('straight', '', 2), ('away', '', 2), (',', '', 2), ('so', '', 2), ('i', '', 2), ('ca', '', 2), (\"n't\", '', 2), ('attest', '', 2), ('to', '', 2), ('the', '', 2), ('product', '', 2), (\"'s\", '', 2), ('longevity', '', 2), ('.', '', 2), ('worst', '', 2), ('base', '', 2), ('product', '', 2), ('i', '', 2), (\"'ve\", '', 2), ('ever', '', 2), ('tried', '', 2), ('.', '', 2)]\n",
      "\n",
      "Entities [('bb cream', 'Garnier BB Cream Miracle Skin Perfector')]\n",
      "Tokens [('10.like', '', 2), ('many', '', 2), ('people', '', 2), ('i', '', 2), ('am', '', 2), ('constantly', '', 2), ('on', '', 2), ('the', '', 2), ('hunt', '', 2), ('for', '', 2), ('the', '', 2), ('perfect', '', 2), ('base', '', 2), ('.', '', 2), ('i', '', 2), ('spent', '', 2), ('years', '', 2), ('wearing', '', 2), ('really', '', 2), ('heavy', '', 2), ('foundation', '', 2), ('every', '', 2), ('day', '', 2), ('and', '', 2), ('now', '', 2), ('being', '', 2), ('25', '', 2), ('i', '', 2), ('want', '', 2), ('to', '', 2), ('look', '', 2), ('after', '', 2), ('my', '', 2), ('skin', '', 2), ('more', '', 2), ('and', '', 2), ('embrace', '', 2), ('being', '', 2), ('a', '', 2), ('little', '', 2), ('more', '', 2), ('natural', '', 2), ('.', '', 2), ('so', '', 2), (',', '', 2), ('i', '', 2), ('was', '', 2), ('on', '', 2), ('the', '', 2), ('hunt', '', 2), ('for', '', 2), ('lighter', '', 2), ('coverage', '', 2), ('foundation', '', 2), ('/', '', 2), ('base', '', 2), ('.', '', 2), ('on', '', 2), ('a', '', 2), ('bit', '', 2), ('of', '', 2), ('a', '', 2), ('whim', '', 2), ('i', '', 2), ('bought', '', 2), ('this', '', 2), ('as', '', 2), ('its', '', 2), ('oil', '', 2), ('free', '', 2), ('and', '', 2), ('i', '', 2), ('get', '', 2), ('quite', '', 2), ('oily', '', 2), ('.', '', 2), ('i', '', 2), ('was', '', 2), ('sceptical', '', 2), ('as', '', 2), ('it', '', 2), (\"'s\", '', 2), ('a', '', 2), ('bb', 'Garnier BB Cream Miracle Skin Perfector', 3), ('cream', 'Garnier BB Cream Miracle Skin Perfector', 1), ('and', '', 2), ('i', '', 2), ('thought', '', 2), ('that', '', 2), ('would', '', 2), ('be', '', 2), ('too', '', 2), ('light', '', 2), ('coverage', '', 2), ('to', '', 2), ('be', '', 2), ('honest', '', 2), ('.', '', 2), ('but', '', 2), ('it', '', 2), (\"'s\", '', 2), ('amazing', '', 2), ('.', '', 2), ('i', '', 2), ('literally', '', 2), ('could', '', 2), (\"n't\", '', 2), ('believe', '', 2), ('how', '', 2), ('nice', '', 2), ('my', '', 2), ('skin', '', 2), ('looked', '', 2), ('when', '', 2), ('i', '', 2), ('put', '', 2), ('this', '', 2), ('on', '', 2), ('.', '', 2), ('even', '', 2), ('my', '', 2), ('boyfriend', '', 2), ('commented', '', 2), ('on', '', 2), ('it', '', 2), ('.', '', 2), ('it', '', 2), (\"'s\", '', 2), ('a', '', 2), ('runny', '', 2), ('texture', '', 2), ('and', '', 2), ('i', '', 2), ('use', '', 2), ('a', '', 2), ('buffing', '', 2), ('brush', '', 2), ('to', '', 2), ('put', '', 2), ('it', '', 2), ('on', '', 2), ('and', '', 2), ('it', '', 2), (\"'s\", '', 2), ('so', '', 2), ('quick', '', 2), ('and', '', 2), ('easy', '', 2), ('.', '', 2), ('it', '', 2), (\"'s\", '', 2), ('not', '', 2), ('thick', '', 2), ('but', '', 2), ('it', '', 2), ('has', '', 2), ('good', '', 2), ('coverage', '', 2), ('.', '', 2), ('definitely', '', 2), ('build', '', 2), ('-', '', 2), ('able', '', 2), ('and', '', 2), ('actually', '', 2), ('has', '', 2), ('a', '', 2), ('lot', '', 2), ('more', '', 2), ('coverage', '', 2), ('than', '', 2), ('expected', '', 2), ('.', '', 2), ('if', '', 2), ('you', '', 2), ('just', '', 2), ('want', '', 2), ('a', '', 2), ('tinted', '', 2), ('moisturiser', '', 2), ('type', '', 2), ('product', '', 2), ('i', '', 2), ('would', '', 2), (\"n't\", '', 2), ('say', '', 2), ('this', '', 2), ('is', '', 2), ('that', '', 2), (',', '', 2), ('it', '', 2), (\"'s\", '', 2), ('a', '', 2), ('little', '', 2), ('more', '', 2), ('coverage', '', 2), ('than', '', 2), ('that', '', 2), ('(', '', 2), ('which', '', 2), ('i', '', 2), ('love', '', 2), (')', '', 2), ('.', '', 2), ('it', '', 2), (\"'s\", '', 2), ('a', '', 2), ('really', '', 2), ('good', '', 2), ('middle', '', 2), ('ground', '', 2), ('for', '', 2), ('me', '', 2), ('as', '', 2), ('not', '', 2), ('wearing', '', 2), ('a', '', 2), ('base', '', 2), ('is', '', 2), (\"n't\", '', 2), ('an', '', 2), ('option', '', 2), ('for', '', 2), ('me', '', 2), ('sadly', '', 2), ('.', '', 2), ('my', '', 2), ('only', '', 2), ('one', '', 2), ('negative', '', 2), ('is', '', 2), ('that', '', 2), ('it', '', 2), ('does', '', 2), ('rub', '', 2), ('off', '', 2), ('my', '', 2), ('nose', '', 2), ('quite', '', 2), ('easily', '', 2), ('as', '', 2), ('that', '', 2), (\"'s\", '', 2), ('where', '', 2), ('i', '', 2), ('am', '', 2), ('most', '', 2), ('oily', '', 2), ('.', '', 2), ('i', '', 2), ('would', '', 2), ('like', '', 2), ('it', '', 2), ('to', '', 2), ('be', '', 2), ('a', '', 2), ('little', '', 2), ('more', '', 2), ('long', '', 2), ('lasting', '', 2), ('but', '', 2), ('honestly', '', 2), ('i', '', 2), (\"'m\", '', 2), ('okay', '', 2), ('with', '', 2), ('it', '', 2), ('because', '', 2), ('it', '', 2), ('makes', '', 2), ('me', '', 2), ('skin', '', 2), ('feel', '', 2), ('like', '', 2), ('it', '', 2), ('can', '', 2), ('breathe', '', 2), ('and', '', 2), ('i', '', 2), ('love', '', 2), ('the', '', 2), ('overall', '', 2), ('look', '', 2), ('far', '', 2), ('more', '', 2), ('than', '', 2), ('a', '', 2), ('thick', '', 2), ('foundation', '', 2), ('which', '', 2), ('also', '', 2), ('always', '', 2), ('rubs', '', 2), ('off', '', 2), ('my', '', 2), ('nose', '', 2), ('but', '', 2), ('looks', '', 2), ('worse', '', 2), ('!', '', 2), ('i', '', 2), ('just', '', 2), ('use', '', 2), ('the', '', 2), ('remains', '', 2), ('of', '', 2), ('the', '', 2), ('product', '', 2), ('on', '', 2), ('the', '', 2), ('brush', '', 2), ('to', '', 2), ('top', '', 2), ('up', '', 2), ('in', '', 2), ('the', '', 2), ('day', '', 2), ('and', '', 2), ('that', '', 2), (\"'s\", '', 2), ('enough', '', 2), ('!', '', 2)]\n",
      "\n",
      "Entities [('bb cream', 'Garnier BB Cream Miracle Skin Perfector')]\n",
      "Tokens [('9.i', '', 2), ('bought', '', 2), ('this', '', 2), ('two', '', 2), ('days', '', 2), ('ago', '', 2), ('and', '', 2), ('i', '', 2), ('have', '', 2), ('used', '', 2), ('it', '', 2), ('twice', '', 2), ('and', '', 2), ('i', '', 2), ('am', '', 2), ('so', '', 2), (',', '', 2), ('so', '', 2), ('pleased', '', 2), ('with', '', 2), ('it', '', 2), ('.', '', 2), ('i', '', 2), ('have', '', 2), ('combination', '', 2), ('skin', '', 2), ('but', '', 2), ('not', '', 2), ('many', '', 2), ('bb', '', 2), ('creams', '', 2), ('that', '', 2), ('are', '', 2), ('made', '', 2), ('for', '', 2), ('this', '', 2), ('skin', '', 2), ('type', '', 2), ('work', '', 2), ('very', '', 2), ('well', '', 2), ('-', '', 2), ('either', '', 2), ('they', '', 2), ('make', '', 2), ('me', '', 2), ('really', '', 2), ('oily', '', 2), ('or', '', 2), ('dry', '', 2), ('certain', '', 2), ('areas', '', 2), ('out', '', 2), ('.', '', 2), ('but', '', 2), ('this', '', 2), ('is', '', 2), ('perfect', '', 2), ('for', '', 2), ('me', '', 2), ('!', '', 2), ('i', '', 2), ('got', '', 2), ('it', '', 2), ('in', '', 2), ('medium', '', 2), ('even', '', 2), ('though', '', 2), ('i', '', 2), (\"'m\", '', 2), ('quite', '', 2), ('pale', '', 2), ('and', '', 2), ('it', '', 2), (\"'s\", '', 2), ('wonderful', '', 2), ('.', '', 2), ('does', '', 2), (\"n't\", '', 2), ('dry', '', 2), ('my', '', 2), ('skin', '', 2), ('out', '', 2), ('or', '', 2), ('make', '', 2), ('my', '', 2), ('t', '', 2), ('-', '', 2), ('zone', '', 2), ('excessively', '', 2), ('oily', '', 2), ('like', '', 2), ('others', '', 2), ('.', '', 2), ('it', '', 2), ('gives', '', 2), ('a', '', 2), ('lovely', '', 2), (',', '', 2), ('natural', '', 2), (',', '', 2), ('even', '', 2), ('coverage', '', 2), ('and', '', 2), ('i', '', 2), ('have', '', 2), ('already', '', 2), ('had', '', 2), ('one', '', 2), ('compliment', '', 2), ('on', '', 2), ('my', '', 2), ('skin', '', 2), ('with', '', 2), ('using', '', 2), ('it', '', 2), ('.', '', 2), ('because', '', 2), ('it', '', 2), ('is', '', 2), ('a', '', 2), ('bb', 'Garnier BB Cream Miracle Skin Perfector', 3), ('cream', 'Garnier BB Cream Miracle Skin Perfector', 1), ('it', '', 2), ('does', '', 2), (\"n't\", '', 2), ('cover', '', 2), ('blemishes', '', 2), (',', '', 2), ('so', '', 2), ('have', '', 2), ('a', '', 2), ('concealer', '', 2), ('at', '', 2), ('hand', '', 2), (',', '', 2), ('but', '', 2), ('for', '', 2), ('a', '', 2), ('light', '', 2), (',', '', 2), ('even', '', 2), ('coverage', '', 2), ('(', '', 2), ('gets', '', 2), ('rid', '', 2), ('of', '', 2), ('my', '', 2), ('redness', '', 2), (')', '', 2), ('definitely', '', 2), ('give', '', 2), ('it', '', 2), ('a', '', 2), ('try', '', 2), ('!', '', 2), ('!', '', 2), ('!', '', 2)]\n",
      "\n",
      "Entities [('bb cream', 'Garnier BB Cream Miracle Skin Perfector'), ('bb cream', 'Garnier BB Cream Miracle Skin Perfector')]\n",
      "Tokens [(\"20.i've\", '', 2), ('bought', '', 2), ('this', '', 2), ('bb', 'Garnier BB Cream Miracle Skin Perfector', 3), ('cream', 'Garnier BB Cream Miracle Skin Perfector', 1), ('several', '', 2), ('times', '', 2), ('as', '', 2), ('i', '', 2), ('love', '', 2), ('the', '', 2), ('dewy', '', 2), ('finish', '', 2), ('it', '', 2), ('gives', '', 2), ('me', '', 2), ('.', '', 2), ('the', '', 2), ('coverage', '', 2), ('is', '', 2), (\"n't\", '', 2), ('brilliant', '', 2), (',', '', 2), ('but', '', 2), ('i', '', 2), ('use', '', 2), ('concealer', '', 2), ('too', '', 2), ('.', '', 2), ('unfortunately', '', 2), (',', '', 2), ('i', '', 2), (\"'m\", '', 2), ('looking', '', 2), ('for', '', 2), ('another', '', 2), ('bb', 'Garnier BB Cream Miracle Skin Perfector', 3), ('cream', 'Garnier BB Cream Miracle Skin Perfector', 1), ('next', '', 2), ('time', '', 2), ('though', '', 2), ('as', '', 2), ('i', '', 2), (\"'m\", '', 2), ('sick', '', 2), ('of', '', 2), ('it', '', 2), ('leaking', '', 2), ('all', '', 2), ('over', '', 2), ('my', '', 2), ('makeup', '', 2), ('bag', '', 2), ('.', '', 2), ('i', '', 2), (\"'m\", '', 2), ('not', '', 2), ('sure', '', 2), ('why', '', 2), ('it', '', 2), ('does', '', 2), ('that', '', 2), (',', '', 2), ('i', '', 2), ('can', '', 2), ('only', '', 2), ('assume', '', 2), ('it', '', 2), (\"'s\", '', 2), ('the', '', 2), ('screw', '', 2), ('top', '', 2), ('lid', '', 2), ('.', '', 2), ('if', '', 2), ('garnier', '', 2), ('change', '', 2), ('it', '', 2), ('for', '', 2), ('a', '', 2), ('pump', '', 2), ('applicator', '', 2), ('i', '', 2), ('might', '', 2), ('consider', '', 2), ('buying', '', 2), ('it', '', 2), ('again', '', 2), ('.', '', 2)]\n",
      "\n",
      "Entities [('bb cream', 'Garnier BB Cream Miracle Skin Perfector')]\n",
      "Tokens [('5.this', '', 2), ('is', '', 2), ('my', '', 2), ('first', '', 2), ('time', '', 2), ('using', '', 2), ('a', '', 2), ('bb', 'Garnier BB Cream Miracle Skin Perfector', 3), ('cream', 'Garnier BB Cream Miracle Skin Perfector', 1), ('and', '', 2), ('honestly', '', 2), ('it', '', 2), ('’s', '', 2), ('great', '', 2), ('!', '', 2), ('i', '', 2), ('have', '', 2), ('slightly', '', 2), ('oily', '', 2), ('/', '', 2), ('combination', '', 2), ('skin', '', 2), ('and', '', 2), ('it', '', 2), ('mattifies', '', 2), ('my', '', 2), ('skin', '', 2), (',', '', 2), ('but', '', 2), ('almost', '', 2), ('too', '', 2), ('much', '', 2), ('it', '', 2), ('looks', '', 2), ('quite', '', 2), ('dry', '', 2), ('.', '', 2), ('it', '', 2), ('evens', '', 2), ('my', '', 2), ('skin', '', 2), ('tone', '', 2), ('really', '', 2), ('really', '', 2), ('well', '', 2), ('as', '', 2), ('i', '', 2), ('have', '', 2), ('quite', '', 2), ('red', '', 2), ('face', '', 2), ('and', '', 2), ('it', '', 2), ('covers', '', 2), ('it', '', 2), ('well', '', 2), ('!', '', 2), ('also', '', 2), (',', '', 2), ('i', '', 2), ('’ve', '', 2), ('found', '', 2), ('that', '', 2), ('when', '', 2), ('applying', '', 2), ('with', '', 2), ('a', '', 2), ('damp', '', 2), ('beauty', '', 2), ('blender', '', 2), ('it', '', 2), ('becomes', '', 2), ('a', '', 2), ('tad', '', 2), ('patchy', '', 2), ('due', '', 2), ('to', '', 2), ('the', '', 2), ('water', '', 2), (',', '', 2), ('but', '', 2), ('it', '', 2), ('blends', '', 2), ('really', '', 2), ('easily', '', 2), ('!', '', 2), ('i', '', 2), ('could', '', 2), ('only', '', 2), ('find', '', 2), ('the', '', 2), ('shades', '', 2), ('light', '', 2), ('and', '', 2), ('medium', '', 2), ('and', '', 2), ('being', '', 2), ('a', '', 2), ('fair', '', 2), ('/', '', 2), ('warm', '', 2), ('toned', '', 2), (',', '', 2), ('blonde', '', 2), ('/', '', 2), ('brown', '', 2), ('hair', '', 2), (',', '', 2), ('i', '', 2), ('’ve', '', 2), ('found', '', 2), ('that', '', 2), ('even', '', 2), ('the', '', 2), ('light', '', 2), ('shade', '', 2), ('has', '', 2), ('n’t', '', 2), ('an', '', 2), ('orange', '', 2), ('undertone', '', 2), ('.', '', 2), ('i', '', 2), ('usually', '', 2), ('brighten', '', 2), ('it', '', 2), ('with', '', 2), ('a', '', 2), ('concealer', '', 2), (',', '', 2), ('but', '', 2), ('it', '', 2), ('adds', '', 2), ('to', '', 2), ('the', '', 2), ('dryness', '', 2), ('.', '', 2)]\n",
      "\n",
      "Entities [('bb cream', 'Garnier BB Cream Miracle Skin Perfector')]\n",
      "Tokens [('16.i', '', 2), ('thought', '', 2), ('that', '', 2), ('a', '', 2), ('bb', 'Garnier BB Cream Miracle Skin Perfector', 3), ('cream', 'Garnier BB Cream Miracle Skin Perfector', 1), ('specifically', '', 2), ('for', '', 2), ('combination', '', 2), ('skin', '', 2), ('would', '', 2), ('work', '', 2), ('miracles', '', 2), ('.', '', 2), ('i', '', 2), ('am', '', 2), ('sad', '', 2), ('to', '', 2), ('say', '', 2), ('that', '', 2), ('it', '', 2), ('did', '', 2), (\"n't\", '', 2), ('.', '', 2), ('the', '', 2), ('colour', '', 2), ('of', '', 2), ('the', '', 2), ('product', '', 2), ('is', '', 2), ('good', '', 2), ('as', '', 2), ('my', '', 2), ('skin', '', 2), ('is', '', 2), ('quite', '', 2), ('tanned', '', 2), ('and', '', 2), ('the', '', 2), ('coverage', '', 2), ('was', '', 2), ('reasonable', '', 2), ('.', '', 2), ('however', '', 2), (',', '', 2), ('this', '', 2), ('is', '', 2), ('where', '', 2), ('the', '', 2), ('good', '', 2), ('points', '', 2), ('end', '', 2), ('.', '', 2), ('the', '', 2), ('product', '', 2), ('is', '', 2), ('extremely', '', 2), ('runny', '', 2), ('so', '', 2), ('is', '', 2), ('messy', '', 2), ('to', '', 2), ('apply', '', 2), ('and', '', 2), ('it', '', 2), (\"'s\", '', 2), ('difficult', '', 2), ('to', '', 2), ('keep', '', 2), ('a', '', 2), ('clean', '', 2), ('make', '', 2), ('up', '', 2), ('bag', '', 2), ('with', '', 2), ('this', '', 2), ('in', '', 2), ('it', '', 2), ('.', '', 2), ('it', '', 2), ('also', '', 2), ('transfers', '', 2), ('very', '', 2), ('easily', '', 2), ('from', '', 2), ('your', '', 2), ('face', '', 2), ('to', '', 2), ('your', '', 2), ('hands', '', 2), ('throughout', '', 2), ('the', '', 2), ('day', '', 2), (',', '', 2), ('so', '', 2), ('pretty', '', 2), ('much', '', 2), ('everything', '', 2), ('i', '', 2), ('handled', '', 2), ('would', '', 2), ('end', '', 2), ('up', '', 2), ('with', '', 2), ('the', '', 2), ('product', '', 2), ('clinging', '', 2), ('to', '', 2), ('it', '', 2), ('.', '', 2), ('i', '', 2), ('have', '', 2), ('typical', '', 2), ('combination', '', 2), ('skin', '', 2), (',', '', 2), ('but', '', 2), ('this', '', 2), ('product', '', 2), ('seems', '', 2), ('to', '', 2), ('have', '', 2), ('aggravated', '', 2), ('the', '', 2), ('worst', '', 2), ('traits', '', 2), ('.', '', 2), ('it', '', 2), ('clings', '', 2), ('to', '', 2), ('dry', '', 2), ('patches', '', 2), (',', '', 2), ('and', '', 2), ('has', '', 2), ('created', '', 2), ('more', '', 2), ('patches', '', 2), ('where', '', 2), ('i', '', 2), ('would', '', 2), (\"n't\", '', 2), ('normally', '', 2), ('get', '', 2), ('dry', '', 2), ('skin', '', 2), ('e.g.', '', 2), ('around', '', 2), ('my', '', 2), ('nose', '', 2), ('and', '', 2), ('between', '', 2), ('my', '', 2), ('eyebrows', '', 2), ('.', '', 2), ('i', '', 2), ('have', '', 2), ('also', '', 2), ('experienced', '', 2), ('a', '', 2), ('lot', '', 2), ('more', '', 2), ('breakouts', '', 2), ('of', '', 2), ('spots', '', 2), ('than', '', 2), ('normal', '', 2), ('.', '', 2), ('the', '', 2), ('spots', '', 2), ('have', '', 2), ('been', '', 2), ('awful', '', 2), ('.', '', 2), ('they', '', 2), ('are', '', 2), ('big', '', 2), (',', '', 2), ('angry', '', 2), ('and', '', 2), ('very', '', 2), ('sore', '', 2), ('and', '', 2), ('whereas', '', 2), ('if', '', 2), ('i', '', 2), ('do', '', 2), (\"n't\", '', 2), ('touch', '', 2), ('or', '', 2), ('squeeze', '', 2), ('spots', '', 2), ('they', '', 2), ('will', '', 2), ('usually', '', 2), ('disappear', '', 2), ('on', '', 2), ('their', '', 2), ('own', '', 2), ('after', '', 2), ('a', '', 2), ('couple', '', 2), ('of', '', 2), ('days', '', 2), (',', '', 2), ('when', '', 2), ('using', '', 2), ('this', '', 2), ('they', '', 2), ('lasted', '', 2), ('much', '', 2), ('longer', '', 2), ('and', '', 2), ('instead', '', 2), ('of', '', 2), ('covering', '', 2), ('the', '', 2), ('problem', '', 2), ('this', '', 2), ('product', '', 2), ('just', '', 2), ('seemed', '', 2), ('to', '', 2), ('make', '', 2), ('things', '', 2), ('much', '', 2), ('worse', '', 2), ('.', '', 2), ('it', '', 2), ('has', '', 2), ('also', '', 2), ('done', '', 2), ('nothing', '', 2), ('to', '', 2), ('prevent', '', 2), ('shine', '', 2), ('as', '', 2), ('my', '', 2), ('skin', '', 2), ('looked', '', 2), ('oily', '', 2), ('after', '', 2), ('just', '', 2), ('a', '', 2), ('couple', '', 2), ('of', '', 2), ('hours', '', 2), ('.', '', 2), ('i', '', 2), (\"'ve\", '', 2), ('given', '', 2), ('up', '', 2), ('on', '', 2), ('this', '', 2), ('bb', '', 2), ('cream', '', 2), ('after', '', 2), ('less', '', 2), ('than', '', 2), ('a', '', 2), ('month', '', 2), ('and', '', 2), ('have', '', 2), ('had', '', 2), ('to', '', 2), ('go', '', 2), ('completely', '', 2), ('make', '', 2), ('up', '', 2), ('free', '', 2), ('for', '', 2), ('the', '', 2), ('past', '', 2), ('week', '', 2), ('to', '', 2), ('give', '', 2), ('my', '', 2), ('skin', '', 2), ('chance', '', 2), ('to', '', 2), ('calm', '', 2), ('down', '', 2), ('.', '', 2), ('i', '', 2), (\"'m\", '', 2), ('sure', '', 2), ('that', '', 2), ('this', '', 2), ('product', '', 2), ('suits', '', 2), ('lots', '', 2), ('of', '', 2), ('people', '', 2), ('but', '', 2), ('if', '', 2), ('you', '', 2), ('have', '', 2), ('combination', '', 2), ('skin', '', 2), ('that', '', 2), ('is', '', 2), ('also', '', 2), ('quite', '', 2), ('sensitive', '', 2), ('my', '', 2), ('advice', '', 2), ('would', '', 2), ('be', '', 2), ('to', '', 2), ('avoid', '', 2), ('it', '', 2), ('at', '', 2), ('all', '', 2), ('costs', '', 2), ('.', '', 2)]\n",
      "\n",
      "Entities []\n",
      "Tokens [('13.this', '', 2), ('product', '', 2), ('does', '', 2), ('what', '', 2), ('it', '', 2), ('says', '', 2), ('on', '', 2), ('the', '', 2), ('box', '', 2), ('to', '', 2), ('be', '', 2), ('fair', '', 2), (',', '', 2), ('it', '', 2), ('does', '', 2), ('make', '', 2), ('your', '', 2), ('skin', '', 2), ('that', '', 2), ('little', '', 2), ('bit', '', 2), ('better', '', 2), ('without', '', 2), ('having', '', 2), ('to', '', 2), ('trowel', '', 2), ('foundation', '', 2), ('all', '', 2), ('over', '', 2), ('your', '', 2), ('face', '', 2), ('.', '', 2)]\n",
      "\n",
      "Entities [('bb cream', 'Garnier BB Cream Miracle Skin Perfector')]\n",
      "Tokens [('15.what', '', 2), ('i', '', 2), (\"'m\", '', 2), ('really', '', 2), ('disappointed', '', 2), ('with', '', 2), ('is', '', 2), ('the', '', 2), ('colour', '', 2), ('.', '', 2), ('this', '', 2), ('product', '', 2), ('is', '', 2), (',', '', 2), ('unusually', '', 2), (',', '', 2), ('on', '', 2), ('the', '', 2), ('yellow', '', 2), ('toned', '', 2), ('side', '', 2), (',', '', 2), ('which', '', 2), ('normally', '', 2), ('complements', '', 2), ('my', '', 2), ('neutral', '', 2), ('undertones', '', 2), ('a', '', 2), ('lot', '', 2), ('better', '', 2), ('than', '', 2), ('standard', '', 2), ('pink', '', 2), ('based', '', 2), ('bb', '', 2), ('creams', '', 2), (',', '', 2), ('but', '', 2), ('it', '', 2), (\"'s\", '', 2), ('about', '', 2), ('3', '', 2), ('shades', '', 2), ('too', '', 2), ('dark', '', 2), ('for', '', 2), ('me', '', 2), (',', '', 2), ('and', '', 2), ('there', '', 2), ('are', '', 2), ('no', '', 2), ('lighter', '', 2), ('shades', '', 2), ('than', '', 2), ('this', '', 2), ('available', '', 2), ('.', '', 2), ('i', '', 2), ('look', '', 2), ('like', '', 2), ('i', '', 2), (\"'ve\", '', 2), ('been', '', 2), ('tangoed', '', 2), ('when', '', 2), ('i', '', 2), ('wear', '', 2), ('it', '', 2), (',', '', 2), ('and', '', 2), ('there', '', 2), (\"'s\", '', 2), ('no', '', 2), ('way', '', 2), ('of', '', 2), ('blending', '', 2), ('it', '', 2), ('in', '', 2), ('around', '', 2), ('my', '', 2), ('chin', '', 2), ('line', '', 2), ('.', '', 2), ('as', '', 2), ('your', '', 2), ('face', '', 2), ('gets', '', 2), ('more', '', 2), ('oily', '', 2), (',', '', 2), ('the', '', 2), ('colour', '', 2), ('does', '', 2), ('lighten', '', 2), ('up', '', 2), ('to', '', 2), ('complement', '', 2), ('your', '', 2), ('natural', '', 2), ('skin', '', 2), (',', '', 2), ('but', '', 2), ('this', '', 2), ('can', '', 2), ('take', '', 2), ('all', '', 2), ('morning', '', 2), (',', '', 2), ('and', '', 2), ('then', '', 2), ('by', '', 2), ('lunchtime', '', 2), (',', '', 2), ('when', '', 2), ('it', '', 2), ('looks', '', 2), ('a', '', 2), ('normal', '', 2), ('colour', '', 2), (',', '', 2), ('your', '', 2), ('face', '', 2), ('has', '', 2), ('become', '', 2), ('oily', '', 2), (',', '', 2), ('so', '', 2), ('you', '', 2), ('feel', '', 2), ('like', '', 2), ('taking', '', 2), ('it', '', 2), ('off', '', 2), ('and', '', 2), ('reapplying', '', 2), ('.', '', 2), ('all', '', 2), ('of', '', 2), ('that', '', 2), ('hassle', '', 2), (',', '', 2), ('and', '', 2), ('it', '', 2), ('does', '', 2), (\"n't\", '', 2), ('completely', '', 2), ('hide', '', 2), ('your', '', 2), ('blemishes', '', 2), ('because', '', 2), ('it', '', 2), (\"'s\", '', 2), ('only', '', 2), ('a', '', 2), ('bb', 'Garnier BB Cream Miracle Skin Perfector', 3), ('cream', 'Garnier BB Cream Miracle Skin Perfector', 1), ('anyway', '', 2), ('....', '', 2), ('i', '', 2), (\"'d\", '', 2), ('rather', '', 2), ('get', '', 2), ('out', '', 2), ('a', '', 2), ('trusty', '', 2), ('foundation', '', 2), (':(', '', 2), ('and', '', 2), ('i', '', 2), ('really', '', 2), ('wanted', '', 2), ('to', '', 2), ('make', '', 2), ('this', '', 2), ('work', '', 2), ('for', '', 2), ('me', '', 2), (',', '', 2), ('as', '', 2), ('on', '', 2), ('the', '', 2), ('box', '', 2), ('it', '', 2), ('seemed', '', 2), ('too', '', 2), ('good', '', 2), ('to', '', 2), ('be', '', 2), ('true', '', 2), ('.', '', 2)]\n",
      "\n",
      "Entities []\n",
      "Tokens [('14.it', '', 2), ('does', '', 2), ('control', '', 2), ('oil', '', 2), ('for', '', 2), ('about', '', 2), ('4', '', 2), ('hours', '', 2), (',', '', 2), ('after', '', 2), ('which', '', 2), ('i', '', 2), ('find', '', 2), ('i', '', 2), ('have', '', 2), ('to', '', 2), ('remove', '', 2), ('my', '', 2), ('oil', '', 2), ('with', '', 2), ('blotting', '', 2), ('papers', '', 2), ('and', '', 2), ('then', '', 2), ('use', '', 2), ('rimmel', '', 2), ('stay', '', 2), ('matte', '', 2), ('to', '', 2), ('take', '', 2), ('a', '', 2), ('bit', '', 2), ('of', '', 2), ('the', '', 2), ('shine', '', 2), ('off', '', 2), ('my', '', 2), ('face', '', 2), ('.', '', 2)]\n",
      "\n",
      "Entities [('bb cream', 'Garnier BB Cream Miracle Skin Perfector')]\n",
      "Tokens [('11.i', '', 2), ('usually', '', 2), ('use', '', 2), ('the', '', 2), ('maybelline', '', 2), ('bb', 'Garnier BB Cream Miracle Skin Perfector', 3), ('cream', 'Garnier BB Cream Miracle Skin Perfector', 1), (',', '', 2), ('but', '', 2), ('i', '', 2), ('decided', '', 2), ('to', '', 2), ('get', '', 2), ('this', '', 2), ('one', '', 2), ('instead', '', 2), ('.', '', 2), ('great', '', 2), ('coverage', '', 2), ('and', '', 2), ('it', '', 2), ('actually', '', 2), ('reduced', '', 2), ('my', '', 2), ('acne', '', 2), ('.', '', 2), ('would', '', 2), ('recommend', '', 2), ('it', '', 2)]\n",
      "\n",
      "Entities [('bb cream', 'Garnier BB Cream Miracle Skin Perfector')]\n",
      "Tokens [('1.i', '', 2), ('absolutely', '', 2), ('love', '', 2), ('this', '', 2), ('bb', 'Garnier BB Cream Miracle Skin Perfector', 3), ('cream', 'Garnier BB Cream Miracle Skin Perfector', 1), ('.', '', 2), ('i', '', 2), ('have', '', 2), ('repurchased', '', 2), ('multiple', '', 2), ('bottles', '', 2), ('over', '', 2), ('the', '', 2), ('years', '', 2), ('.', '', 2), ('it', '', 2), ('’s', '', 2), ('a', '', 2), ('lovely', '', 2), ('formula', '', 2), ('which', '', 2), ('easily', '', 2), ('blends', '', 2), ('into', '', 2), ('the', '', 2), ('skin', '', 2), ('.', '', 2), ('it', '', 2), ('has', '', 2), ('a', '', 2), ('medium', '', 2), ('coverage', '', 2), ('and', '', 2), ('mattifies', '', 2), ('the', '', 2), ('skin', '', 2), ('.', '', 2), ('my', '', 2), ('skin', '', 2), ('looks', '', 2), ('good', '', 2), ('all', '', 2), ('day', '', 2), ('with', '', 2), ('this', '', 2), ('product', '', 2), ('and', '', 2), ('it', '', 2), ('improves', '', 2), ('my', '', 2), ('skins', '', 2), ('condition', '', 2), ('with', '', 2), ('use', '', 2), ('also', '', 2), ('!', '', 2), ('great', '', 2), ('bonus', '', 2), ('that', '', 2), ('it', '', 2), ('has', '', 2), ('spf', '', 2), ('20', '', 2), ('.', '', 2), ('i', '', 2), ('have', '', 2), ('knocked', '', 2), ('a', '', 2), ('star', '', 2), ('off', '', 2), ('as', '', 2), ('the', '', 2), ('shade', '', 2), ('“', '', 2), ('light', '', 2), ('”', '', 2), ('must', '', 2), ('have', '', 2), ('recently', '', 2), ('been', '', 2), ('changed', '', 2), ('as', '', 2), ('it', '', 2), ('’s', '', 2), ('now', '', 2), ('too', '', 2), ('dark', '', 2), ('for', '', 2), ('my', '', 2), ('skin', '', 2), ('tone', '', 2), ('.', '', 2), ('i', '', 2), ('would', '', 2), ('say', '', 2), ('it', '', 2), ('’s', '', 2), ('more', '', 2), ('of', '', 2), ('a', '', 2), ('medium', '', 2), ('shade', '', 2), ('which', '', 2), ('is', '', 2), ('a', '', 2), ('shame', '', 2), ('.', '', 2)]\n",
      "\n",
      "Entities [('bb cream', 'Garnier BB Cream Miracle Skin Perfector')]\n",
      "Tokens [('7.i', '', 2), ('switched', '', 2), ('a', '', 2), ('few', '', 2), ('months', '', 2), ('ago', '', 2), ('from', '', 2), ('the', '', 2), ('original', '', 2), ('garner', '', 2), ('bb', 'Garnier BB Cream Miracle Skin Perfector', 3), ('cream', 'Garnier BB Cream Miracle Skin Perfector', 1), ('to', '', 2), ('this', '', 2), ('version', '', 2), ('as', '', 2), ('my', '', 2), ('t', '', 2), ('-', '', 2), ('zone', '', 2), ('seems', '', 2), ('to', '', 2), ('have', '', 2), ('decided', '', 2), ('to', '', 2), ('be', '', 2), ('greasy', '', 2), ('and', '', 2), ('i', '', 2), ('was', '', 2), ('getting', '', 2), ('a', '', 2), ('few', '', 2), ('break', '', 2), ('-', '', 2), ('outs', '', 2), ('.', '', 2), ('this', '', 2), ('gives', '', 2), ('just', '', 2), ('enough', '', 2), ('coverage', '', 2), ('to', '', 2), ('tone', '', 2), ('down', '', 2), ('my', '', 2), ('red', '', 2), ('cheeks', '', 2), ('a', '', 2), ('bit', '', 2), ('but', '', 2), ('without', '', 2), ('looking', '', 2), ('like', '', 2), ('i', '', 2), ('have', '', 2), ('too', '', 2), ('heavy', '', 2), ('a', '', 2), ('face', '', 2), ('of', '', 2), ('make', '', 2), ('up', '', 2), ('on', '', 2), ('.', '', 2), ('easy', '', 2), ('to', '', 2), ('use', '', 2), ('(', '', 2), ('and', '', 2), ('easy', '', 2), ('to', '', 2), ('remove', '', 2), ('at', '', 2), ('the', '', 2), ('end', '', 2), ('of', '', 2), ('the', '', 2), ('day', '', 2), (')', '', 2), ('this', '', 2), ('has', '', 2), ('earned', '', 2), ('a', '', 2), ('permanent', '', 2), ('spot', '', 2), ('in', '', 2), ('my', '', 2), ('makeup', '', 2), ('bag', '', 2), ('!', '', 2)]\n",
      "\n",
      "Entities [('bb cream', 'Garnier BB Cream Miracle Skin Perfector')]\n",
      "Tokens [('18.quite', '', 2), ('disappointing', '', 2), (',', '', 2), ('it', '', 2), ('does', '', 2), (\"n't\", '', 2), ('blend', '', 2), ('well', '', 2), (',', '', 2), ('it', '', 2), ('leaves', '', 2), ('my', '', 2), ('face', '', 2), ('looking', '', 2), ('waxy', '', 2), ('and', '', 2), ('orange', '', 2), ('and', '', 2), ('it', '', 2), ('makes', '', 2), ('my', '', 2), ('foundation', '', 2), ('look', '', 2), ('weird', '', 2), ('.', '', 2), ('definitely', '', 2), ('not', '', 2), ('a', '', 2), ('good', '', 2), ('buy', '', 2), ('.', '', 2), ('i', '', 2), ('tried', '', 2), ('a', '', 2), ('little', '', 2), ('trick', '', 2), ('since', '', 2), ('i', '', 2), ('did', '', 2), (\"n't\", '', 2), ('want', '', 2), ('this', '', 2), ('to', '', 2), ('go', '', 2), ('to', '', 2), ('waste', '', 2), ('.', '', 2), ('i', '', 2), ('mixed', '', 2), ('some', '', 2), ('of', '', 2), ('my', '', 2), ('foundation', '', 2), ('in', '', 2), ('a', '', 2), ('little', '', 2), ('pot', '', 2), ('along', '', 2), ('with', '', 2), ('some', '', 2), ('of', '', 2), ('this', '', 2), ('bb', 'Garnier BB Cream Miracle Skin Perfector', 3), ('cream', 'Garnier BB Cream Miracle Skin Perfector', 1), ('and', '', 2), ('once', '', 2), ('applied', '', 2), (',', '', 2), ('it', '', 2), ('looked', '', 2), ('a', '', 2), ('little', '', 2), ('better', '', 2), ('than', '', 2), ('on', '', 2), ('it', '', 2), (\"'s\", '', 2), ('own', '', 2), (',', '', 2), ('but', '', 2), ('still', '', 2), (',', '', 2), ('if', '', 2), ('you', '', 2), ('are', '', 2), ('thinking', '', 2), ('about', '', 2), ('buying', '', 2), ('it', '', 2), (',', '', 2), ('think', '', 2), ('twice', '', 2), ('.', '', 2), ('i', '', 2), ('would', '', 2), (\"n't\", '', 2), ('recommend', '', 2), ('it', '', 2), ('.', '', 2)]\n",
      "\n"
     ]
    }
   ],
   "source": [
    "print(\"Loading from\", output_dir)\n",
    "nlp2 = spacy.load(output_dir)\n",
    "for text, _ in TRAIN_DATA:\n",
    "    doc = nlp2(text)\n",
    "    print('Entities', [(ent.text, ent.label_) for ent in doc.ents])\n",
    "    print('Tokens', [(t.text, t.ent_type_, t.ent_iob) for t in doc])\n",
    "    print()"
   ]
  },
  {
   "cell_type": "markdown",
   "metadata": {},
   "source": [
    "### Test the model for user input"
   ]
  },
  {
   "cell_type": "code",
   "execution_count": 30,
   "metadata": {},
   "outputs": [
    {
     "name": "stdout",
     "output_type": "stream",
     "text": [
      "Entities [('bb cream', 'Garnier BB Cream Miracle Skin Perfector', 16, 24)]\n"
     ]
    }
   ],
   "source": [
    "def find(s):\n",
    "    doc = nlp2(s.lower())\n",
    "    res=[(ent.text, ent.label_,ent.start_char,ent.end_char) for ent in doc.ents]\n",
    "    if(len(res)>0):\n",
    "        print('Entities', res)\n",
    "    else:\n",
    "        print(\"Unable to identify the Product from the review!\")\n",
    "s=\"1.Having used a BB cream by a different brand I had to change as it was making my skin so shiny and greasy looking within hours of application. This one by Garnier is fab! It definitely blurs blemishes I have and makes my skin look healthy without using heavy foundation. It blends really easily into my skin and is my go to product every day for natural looking perfected skin.\"\n",
    "find(s)"
   ]
  },
  {
   "cell_type": "code",
   "execution_count": 31,
   "metadata": {},
   "outputs": [
    {
     "name": "stdout",
     "output_type": "stream",
     "text": [
      "Entities [('bb cream', 'Garnier BB Cream Miracle Skin Perfector', 7, 15)]\n"
     ]
    }
   ],
   "source": [
    "s=\"2.This bb cream is amazeballs I've always wanted to buy the Revlon photo ready bb cream but heard that it's very light coverage so I bought this one and never looked back. I first started using it with fingers but found it better to use with the real techniques expert face brush as it looked flawless and the coverage was just perfect. The finish of it is matte which is good as I'm an oily skin gal and the coverage is beautiful and not too heavy so definitely one to invest in, and an amazing price.\"\n",
    "find(s)"
   ]
  },
  {
   "cell_type": "code",
   "execution_count": 32,
   "metadata": {},
   "outputs": [
    {
     "name": "stdout",
     "output_type": "stream",
     "text": [
      "Unable to identify the Product from the review!\n"
     ]
    }
   ],
   "source": [
    "s=\"3.I have used the original of this product but didn't like it at all! This version is fantastic it covers as well as a foundation and makes your skin look flawless!\"\n",
    "find(s)"
   ]
  },
  {
   "cell_type": "code",
   "execution_count": 33,
   "metadata": {},
   "outputs": [
    {
     "name": "stdout",
     "output_type": "stream",
     "text": [
      "Unable to identify the Product from the review!\n"
     ]
    }
   ],
   "source": [
    "s=\"4.I really wanted to like this product; however, it was not as promised. I have oily skin and when applied the product made my skin seem oilier and even more shine. The packaging is poor meaning the cream goes everywhere. It does have a nice colour when first out on but that is the only advantage. \"\n",
    "find(s)"
   ]
  },
  {
   "cell_type": "code",
   "execution_count": 34,
   "metadata": {},
   "outputs": [
    {
     "name": "stdout",
     "output_type": "stream",
     "text": [
      "Unable to identify the Product from the review!\n"
     ]
    }
   ],
   "source": [
    "s=\"5.Bought this today and wanted to try it out straight away. It is sooooooo light on the skin and after about 5 mins it doesn't even feel like your wearing foundation! I have dry and oily skin but you couldn't tell when wearing this. It's coverage is amazing even with the tiniest amount. Will definatly be buying this again!!! Very happy! :D\"\n",
    "find(s)"
   ]
  }
 ],
 "metadata": {
  "kernelspec": {
   "display_name": "Python 3",
   "language": "python",
   "name": "python3"
  },
  "language_info": {
   "codemirror_mode": {
    "name": "ipython",
    "version": 3
   },
   "file_extension": ".py",
   "mimetype": "text/x-python",
   "name": "python",
   "nbconvert_exporter": "python",
   "pygments_lexer": "ipython3",
   "version": "3.7.4"
  }
 },
 "nbformat": 4,
 "nbformat_minor": 4
}

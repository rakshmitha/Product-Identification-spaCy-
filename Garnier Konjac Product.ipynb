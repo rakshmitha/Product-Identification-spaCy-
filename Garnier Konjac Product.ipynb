{
 "cells": [
  {
   "cell_type": "code",
   "execution_count": 1,
   "metadata": {},
   "outputs": [],
   "source": [
    "from __future__ import unicode_literals, print_function\n",
    "import plac\n",
    "import random\n",
    "from pathlib import Path\n",
    "import spacy\n",
    "from tqdm import tqdm \n",
    "import spacy\n",
    "from spellchecker import SpellChecker\n",
    "import re"
   ]
  },
  {
   "cell_type": "markdown",
   "metadata": {},
   "source": [
    "## Training"
   ]
  },
  {
   "cell_type": "code",
   "execution_count": 2,
   "metadata": {},
   "outputs": [],
   "source": [
    "nlp = spacy.load('en_core_web_md')"
   ]
  },
  {
   "cell_type": "code",
   "execution_count": 3,
   "metadata": {},
   "outputs": [],
   "source": [
    "s1=\"Have this to use along with the lemongrass gel wash.. A very good quality konjac that holds product well on the surface. It does a great job of thoroughly cleansing, also being small & soft enough to get in the crevices around the nose. Don’t be put off as though it thoroughly cleans the exfoliation is super gentle & left my skin really soft, smooth but also energised.\"\n",
    "s1=s1.lower()"
   ]
  },
  {
   "cell_type": "code",
   "execution_count": 4,
   "metadata": {},
   "outputs": [
    {
     "data": {
      "text/plain": [
       "74"
      ]
     },
     "execution_count": 4,
     "metadata": {},
     "output_type": "execute_result"
    }
   ],
   "source": [
    "s1.find(\"konjac\")"
   ]
  },
  {
   "cell_type": "code",
   "execution_count": 5,
   "metadata": {},
   "outputs": [
    {
     "data": {
      "text/plain": [
       "18"
      ]
     },
     "execution_count": 5,
     "metadata": {},
     "output_type": "execute_result"
    }
   ],
   "source": [
    "s2=\"I've never used a konjac sponge before, so I wasn’t expecting much. How wrong was I- it gently exfoliates when I use a foaming face wash with it. I don't like face scrubs as they make my face sore & so use a liquid exfoliant but as they have aha's, o can’t use them the summer so will be using this instead!! A great find that left my skin soft & radiant!!\"\n",
    "s2=s2.lower()\n",
    "s2.find(\"konjac\")"
   ]
  },
  {
   "cell_type": "code",
   "execution_count": 6,
   "metadata": {},
   "outputs": [
    {
     "data": {
      "text/plain": [
       "32"
      ]
     },
     "execution_count": 6,
     "metadata": {},
     "output_type": "execute_result"
    }
   ],
   "source": [
    "s3=\"I was really impressed with the konjac sponge. It exfoliated my skin and made it feel fresher and cleaner without feeling dry or ‘stripped’.\"\n",
    "s3=s3.lower()\n",
    "s3.find(\"konjac\")"
   ]
  },
  {
   "cell_type": "code",
   "execution_count": 7,
   "metadata": {},
   "outputs": [
    {
     "data": {
      "text/plain": [
       "9"
      ]
     },
     "execution_count": 7,
     "metadata": {},
     "output_type": "execute_result"
    }
   ],
   "source": [
    "s4=\"I use my konjac sponge with my lemongrass gel wash and it makes my face feel so clean and fresh, the shape of the sponge is perfect and it has a handy little string to hang it up which I loop over my fingers when using. I can see and feel how much my skin has been detoxed after washing. The sponge make the gel wash foam up lots too.\"\n",
    "s4=s4.lower()\n",
    "s4.find(\"konjac\")"
   ]
  },
  {
   "cell_type": "code",
   "execution_count": 8,
   "metadata": {},
   "outputs": [
    {
     "data": {
      "text/plain": [
       "7"
      ]
     },
     "execution_count": 8,
     "metadata": {},
     "output_type": "execute_result"
    }
   ],
   "source": [
    "s5=\"I love Konjac sponges generally and this one is no different. It helps provide my skin with gentle but effective daily exfoliation\"\n",
    "s5=s5.lower()\n",
    "s5.find(\"konjac\")"
   ]
  },
  {
   "cell_type": "code",
   "execution_count": 9,
   "metadata": {},
   "outputs": [
    {
     "data": {
      "text/plain": [
       "12"
      ]
     },
     "execution_count": 9,
     "metadata": {},
     "output_type": "execute_result"
    }
   ],
   "source": [
    "s6=\"I've used a konjac sponge in the past but it contained charcoal and I found it quite drying on my combination skin, so I was interested to see how this one worked out. I've used it without cleanser and with, to judge its effects. I find that without cleanser and just using water, the sponge still somehow manages to remove makeup like magic and produces a bubbly feeling (I'm guessing something to do with all the air in those hundreds of little holes?!). However, I also love using this with a foaming cleanser as it becomes super foamy and bubbly. I do find I then have to rinse the sponge several times and repeatedly wash my face to remove the cleanser thoroughly, but after this I feel really deeply cleansed and refreshed. The little string attached goes right through the inside of the sponge and is super helpful in hanging it up to dry between uses. I would definitely recommend this natural, bubbly little sponge!\"\n",
    "s6=s6.lower()\n",
    "s6.find(\"konjac\")"
   ]
  },
  {
   "cell_type": "code",
   "execution_count": 10,
   "metadata": {},
   "outputs": [
    {
     "data": {
      "text/plain": [
       "9"
      ]
     },
     "execution_count": 10,
     "metadata": {},
     "output_type": "execute_result"
    }
   ],
   "source": [
    "s7=\"When the Konjac Sponge arrives, it is very hard (it reminded me of a pumice stone). After soaking it for a few minutes in warm water it expands and becomes very squidgy. I have been using this with a gel cleaner which I massage onto my face using my hands and then go over it with the sponge which absorbs a lot of the product making it easier to rinse my face. I have found this to be a nice addition to my skincare routine - especially when I don't want to use a flannel - but I wouldn't consider it a must-have tool. I would also say that I didn't find it to have much of an exfoliating effect on my skin.\"\n",
    "s7=s7.lower()\n",
    "s7.find(\"konjac\")"
   ]
  },
  {
   "cell_type": "code",
   "execution_count": 11,
   "metadata": {},
   "outputs": [
    {
     "data": {
      "text/plain": [
       "20"
      ]
     },
     "execution_count": 11,
     "metadata": {},
     "output_type": "execute_result"
    }
   ],
   "source": [
    "s8=\"I have never used a konjac sponge, so I can't compare it other sponges.. but I didn't find it gave much exfoliation compared to my normal routine. This is something that is going to be dependent on your preferences, I like a harsh exfoliator both manual and chemical and while this only recommends to be use a few times a week - for me it is something I would use on the in between days my other products and not instead of.\"\n",
    "s8=s8.lower()\n",
    "s8.find(\"konjac\")"
   ]
  },
  {
   "cell_type": "code",
   "execution_count": 12,
   "metadata": {},
   "outputs": [
    {
     "data": {
      "text/plain": [
       "40"
      ]
     },
     "execution_count": 12,
     "metadata": {},
     "output_type": "execute_result"
    }
   ],
   "source": [
    "s9=\"I really loved and like Garnier Organic Konjac Botanical Cleansing Sponge , it make my skin felt very clean and smooth after use it, you could hand it up in the shower it is great design! Definitely recommend this product.\"\n",
    "s9=s9.lower()\n",
    "s9.find(\"konjac\")"
   ]
  },
  {
   "cell_type": "code",
   "execution_count": 13,
   "metadata": {},
   "outputs": [
    {
     "data": {
      "text/plain": [
       "233"
      ]
     },
     "execution_count": 13,
     "metadata": {},
     "output_type": "execute_result"
    }
   ],
   "source": [
    "s10=\"This is a good little sponge for everyday gentle cleansing-sometimes I use it with face wash, and sometimes just with water. It does smooth out my skin more than if I hadn't used it, but I can't see a difference in this to any other Konjac sponge on the market.\"\n",
    "s10=s10.lower()\n",
    "s10.find(\"konjac\")"
   ]
  },
  {
   "cell_type": "code",
   "execution_count": 14,
   "metadata": {},
   "outputs": [
    {
     "data": {
      "text/plain": [
       "10"
      ]
     },
     "execution_count": 14,
     "metadata": {},
     "output_type": "execute_result"
    }
   ],
   "source": [
    "s11=\"I use the Konjac Sponge with the Garnier Lemongrass detox gel wash and double cleanse. I normally find that my skin is very sensitive when it comes to washing my face with sponges, muslin clothes, flannels etc. I didn't experience any sensitivity or redness when washing my face with the Konjac sponge at all, which is quite the rarity. I use the sponge twice in the morning as I double cleanse and dependent on my evening regime a further two times. The sponge is very gentle on the face, just be sure to soak the sponge to soften it prior to use first. I'll definitely have to pick up another sponge once it's time to replace my current one\"\n",
    "s11=s11.lower()\n",
    "s11.find(\"konjac\")"
   ]
  },
  {
   "cell_type": "code",
   "execution_count": 15,
   "metadata": {},
   "outputs": [
    {
     "data": {
      "text/plain": [
       "27"
      ]
     },
     "execution_count": 15,
     "metadata": {},
     "output_type": "execute_result"
    }
   ],
   "source": [
    "s12=\"Not having ever heard of a konjac sponge before, I was keen to try this new product! It's absolutely fantastic! After soaking as instructed I used this on my skin and did a great job of cleaning my skin and also gently exfoliating. I will undoubtedly continue to use this product.\"\n",
    "s12=s12.lower()\n",
    "s12.find(\"konjac\")"
   ]
  },
  {
   "cell_type": "code",
   "execution_count": 16,
   "metadata": {},
   "outputs": [
    {
     "data": {
      "text/plain": [
       "9"
      ]
     },
     "execution_count": 16,
     "metadata": {},
     "output_type": "execute_result"
    }
   ],
   "source": [
    "s13=\"This was my first time using a konjac sponge and omg where have I been these are amazing they left my skin so soft and faded some Mark's from spots too I'm in love and will definitely be adding this to my beauty regime\"\n",
    "s13=s7.lower()\n",
    "s13.find(\"konjac\")"
   ]
  },
  {
   "cell_type": "code",
   "execution_count": 17,
   "metadata": {},
   "outputs": [
    {
     "data": {
      "text/plain": [
       "35"
      ]
     },
     "execution_count": 17,
     "metadata": {},
     "output_type": "execute_result"
    }
   ],
   "source": [
    "s14=\"This is the first time I have used Konjac Sponge and I am impressed with the results. It is gentle and non-abrasive on your skin making it smoother and shinier. It becomes soft after soaking and is very easy to use. It deeply cleanses and exfoliates dead skin making it radiant with a healthy glow.\"\n",
    "s14=s14.lower()\n",
    "s14.find(\"konjac\")"
   ]
  },
  {
   "cell_type": "code",
   "execution_count": 18,
   "metadata": {},
   "outputs": [
    {
     "data": {
      "text/plain": [
       "23"
      ]
     },
     "execution_count": 18,
     "metadata": {},
     "output_type": "execute_result"
    }
   ],
   "source": [
    "s15=\"I have been using this Konjac root cleansing sponge, initially it felt a little rough but quickly softened up leaving my skin feeling nice and smooth. \"\n",
    "s15=s15.lower()\n",
    "s15.find(\"konjac\")"
   ]
  },
  {
   "cell_type": "code",
   "execution_count": 19,
   "metadata": {},
   "outputs": [
    {
     "data": {
      "text/plain": [
       "28"
      ]
     },
     "execution_count": 19,
     "metadata": {},
     "output_type": "execute_result"
    }
   ],
   "source": [
    "s16=\"I really enjoyed using this konjac sponge. I found it to be a fun addition to my usual cleansing routine. It works excellently to gently exfoliate my skin and help prevent break outs. I would definitely recommend.\"\n",
    "s16=s16.lower()\n",
    "s16.find(\"konjac\")"
   ]
  },
  {
   "cell_type": "code",
   "execution_count": 20,
   "metadata": {},
   "outputs": [
    {
     "data": {
      "text/plain": [
       "27"
      ]
     },
     "execution_count": 20,
     "metadata": {},
     "output_type": "execute_result"
    }
   ],
   "source": [
    "s17=\"This easy to use polishing konjac sponge is great. It's a great way to cleanse my skin & my skin feels soft & looks glowing after use too.\"\n",
    "s17=s17.lower()\n",
    "s17.find(\"konjac\")"
   ]
  },
  {
   "cell_type": "code",
   "execution_count": 21,
   "metadata": {},
   "outputs": [
    {
     "data": {
      "text/plain": [
       "33"
      ]
     },
     "execution_count": 21,
     "metadata": {},
     "output_type": "execute_result"
    }
   ],
   "source": [
    "s18=\"These are lovely natural Garnier konjac root fiber sponge. Great new way to cleanse face and body. The sponge is wonderful very soft and suitable for all skin types, you don't need anything just add water. Konjac sponge gives a natural skincare and very gently skin exfoliating. Leaves my skin feeling soft and clean. Great for removing makeup really does what it claims. Highly recommend\"\n",
    "s18=s18.lower()\n",
    "s18.find(\"konjac\")"
   ]
  },
  {
   "cell_type": "code",
   "execution_count": 22,
   "metadata": {},
   "outputs": [
    {
     "data": {
      "text/plain": [
       "63"
      ]
     },
     "execution_count": 22,
     "metadata": {},
     "output_type": "execute_result"
    }
   ],
   "source": [
    "s19=\"I was really excited to try out this based on the reviews that konjac sponges have been getting. I Love the lemongrass face wash so thought together these products would be amazing. I have to say I don’t see any better results from using the sponge too. It has only been a few days so perhaps I am judging too soon but I wouldn’t be in a rush to buy another when this is done.\"\n",
    "s19=s19.lower()\n",
    "s19.find(\"konjac\")"
   ]
  },
  {
   "cell_type": "code",
   "execution_count": 23,
   "metadata": {},
   "outputs": [
    {
     "data": {
      "text/plain": [
       "20"
      ]
     },
     "execution_count": 23,
     "metadata": {},
     "output_type": "execute_result"
    }
   ],
   "source": [
    "s20=\"The Garnier Organic Konjac Sponge is quite possibly one of the best things I have used this year. It is made from 100% natural Konjac root which is known for its natural cleansing and exfoliating properties. It is easy to use simply wet the sponge under running water until it softens, squeezing out any excess water. I use the Garnier lemongrass detox with the Konjac sponge which leaves my skin feeling cleansed and smooth to the touch. Once you’re finished leave it somewhere to dry and use as often as you like.\"\n",
    "s20=s20.lower()\n",
    "s20.find(\"konjac\")"
   ]
  },
  {
   "cell_type": "code",
   "execution_count": 24,
   "metadata": {},
   "outputs": [],
   "source": [
    "TRAIN_DATA = [\n",
    "    (s1, {\n",
    "        'entities': [(74, 80, 'Garnier Organic Konjac Botanical Cleansing Sponge')]\n",
    "    }),\n",
    "     (s2, {\n",
    "        'entities': [(18, 24, 'Garnier Organic Konjac Botanical Cleansing Sponge')]\n",
    "    }),\n",
    "    (s3, {\n",
    "        'entities': [(32, 38, 'Garnier Organic Konjac Botanical Cleansing Sponge')]\n",
    "    }),\n",
    "    (s4, {\n",
    "        'entities': [(9, 15, 'Garnier Organic Konjac Botanical Cleansing Sponge')]\n",
    "    }),\n",
    "    (s5, {\n",
    "        'entities': [(7, 13, 'Garnier Organic Konjac Botanical Cleansing Sponge')]\n",
    "    }),\n",
    "    (s6, {\n",
    "        'entities': [(12, 18, 'Garnier Organic Konjac Botanical Cleansing Sponge')]\n",
    "    }),\n",
    "    (s7, {\n",
    "        'entities': [(9, 15, 'Garnier Organic Konjac Botanical Cleansing Sponge')]\n",
    "    }),\n",
    "    (s8, {\n",
    "        'entities': [(20, 26, 'Garnier Organic Konjac Botanical Cleansing Sponge')]\n",
    "    }),\n",
    "    (s9, {\n",
    "        'entities': [(40, 46, 'Garnier Organic Konjac Botanical Cleansing Sponge')]\n",
    "    }),\n",
    "    (s10, {\n",
    "        'entities': [(233, 239, 'Garnier Organic Konjac Botanical Cleansing Sponge')]\n",
    "    }),\n",
    "    (s11, {\n",
    "        'entities': [(10, 16, 'Garnier Organic Konjac Botanical Cleansing Sponge')]\n",
    "    }),\n",
    "    (s12, {\n",
    "        'entities': [(27, 33, 'Garnier Organic Konjac Botanical Cleansing Sponge')]\n",
    "    }),\n",
    "    (s13, {\n",
    "        'entities': [(9, 15, 'Garnier Organic Konjac Botanical Cleansing Sponge')]\n",
    "    }),\n",
    "    (s14, {\n",
    "        'entities': [(35, 41, 'Garnier Organic Konjac Botanical Cleansing Sponge')]\n",
    "    }),\n",
    "    (s15, {\n",
    "        'entities': [(23, 29, 'Garnier Organic Konjac Botanical Cleansing Sponge')]\n",
    "    }),\n",
    "    (s16, {\n",
    "        'entities': [(28, 34, 'Garnier Organic Konjac Botanical Cleansing Sponge')]\n",
    "    }),\n",
    "    (s17, {\n",
    "        'entities': [(27, 33, 'Garnier Organic Konjac Botanical Cleansing Sponge')]\n",
    "    }),\n",
    "    (s18, {\n",
    "        'entities': [(33, 39, 'Garnier Organic Konjac Botanical Cleansing Sponge')]\n",
    "    }),\n",
    "    (s19, {\n",
    "        'entities': [(63, 69, 'Garnier Organic Konjac Botanical Cleansing Sponge')]\n",
    "    }),\n",
    "    (s10, {\n",
    "        'entities': [(20, 26, 'Garnier Organic Konjac Botanical Cleansing Sponge')]\n",
    "    })\n",
    "]"
   ]
  },
  {
   "cell_type": "code",
   "execution_count": 25,
   "metadata": {},
   "outputs": [],
   "source": [
    "model = None\n",
    "output_dir=Path(\"C:\\\\Konjac NER\")\n",
    "n_iter=100"
   ]
  },
  {
   "cell_type": "code",
   "execution_count": 26,
   "metadata": {},
   "outputs": [
    {
     "name": "stdout",
     "output_type": "stream",
     "text": [
      "Created blank 'en' model\n"
     ]
    }
   ],
   "source": [
    "if model is not None:\n",
    "    nlp = spacy.load(model)  \n",
    "    print(\"Loaded model '%s'\" % model)\n",
    "else:\n",
    "    nlp = spacy.blank('en')  \n",
    "    print(\"Created blank 'en' model\")"
   ]
  },
  {
   "cell_type": "code",
   "execution_count": 27,
   "metadata": {},
   "outputs": [],
   "source": [
    "if 'ner' not in nlp.pipe_names:\n",
    "    ner = nlp.create_pipe('ner')\n",
    "    nlp.add_pipe(ner, last=True)\n",
    "else:\n",
    "    ner = nlp.get_pipe('ner')"
   ]
  },
  {
   "cell_type": "code",
   "execution_count": 28,
   "metadata": {},
   "outputs": [
    {
     "name": "stderr",
     "output_type": "stream",
     "text": [
      "C:\\ANACONDA\\lib\\site-packages\\spacy\\language.py:639: UserWarning: [W033] Training a new parser or NER using a model with no lexeme normalization table. This may degrade the performance of the model to some degree. If this is intentional or the language you're using doesn't have a normalization table, please ignore this warning. If this is surprising, make sure you have the spacy-lookups-data package installed. The languages with lexeme normalization tables are currently: da, de, el, en, id, lb, pt, ru, sr, ta, th.\n",
      "  **kwargs\n",
      " 70%|█████████████████████████████████████████████████████████▍                        | 14/20 [00:01<00:00, 11.51it/s]C:\\ANACONDA\\lib\\site-packages\\spacy\\language.py:482: UserWarning: [W030] Some entities could not be aligned in the text \"this is a good little sponge for everyday gentle c...\" with entities \"[(20, 26, 'Garnier Organic Konjac Botanical Cleans...\". Use `spacy.gold.biluo_tags_from_offsets(nlp.make_doc(text), entities)` to check the alignment. Misaligned entities ('-') will be ignored during training.\n",
      "  gold = GoldParse(doc, **gold)\n",
      "100%|██████████████████████████████████████████████████████████████████████████████████| 20/20 [00:01<00:00, 12.40it/s]\n",
      "  5%|████▏                                                                              | 1/20 [00:00<00:02,  8.64it/s]"
     ]
    },
    {
     "name": "stdout",
     "output_type": "stream",
     "text": [
      "{'ner': 397.7078007337203}\n"
     ]
    },
    {
     "name": "stderr",
     "output_type": "stream",
     "text": [
      "100%|██████████████████████████████████████████████████████████████████████████████████| 20/20 [00:01<00:00, 13.34it/s]\n",
      " 10%|████████▎                                                                          | 2/20 [00:00<00:01, 10.13it/s]"
     ]
    },
    {
     "name": "stdout",
     "output_type": "stream",
     "text": [
      "{'ner': 38.11108489496004}\n"
     ]
    },
    {
     "name": "stderr",
     "output_type": "stream",
     "text": [
      "100%|██████████████████████████████████████████████████████████████████████████████████| 20/20 [00:01<00:00, 13.06it/s]\n",
      " 10%|████████▎                                                                          | 2/20 [00:00<00:01, 16.04it/s]"
     ]
    },
    {
     "name": "stdout",
     "output_type": "stream",
     "text": [
      "{'ner': 123.97661716533617}\n"
     ]
    },
    {
     "name": "stderr",
     "output_type": "stream",
     "text": [
      "100%|██████████████████████████████████████████████████████████████████████████████████| 20/20 [00:01<00:00, 10.35it/s]\n",
      " 10%|████████▎                                                                          | 2/20 [00:00<00:01, 11.66it/s]"
     ]
    },
    {
     "name": "stdout",
     "output_type": "stream",
     "text": [
      "{'ner': 248.96945244209823}\n"
     ]
    },
    {
     "name": "stderr",
     "output_type": "stream",
     "text": [
      "100%|██████████████████████████████████████████████████████████████████████████████████| 20/20 [00:03<00:00,  6.41it/s]\n",
      "  5%|████▏                                                                              | 1/20 [00:00<00:03,  5.73it/s]"
     ]
    },
    {
     "name": "stdout",
     "output_type": "stream",
     "text": [
      "{'ner': 9.94266093032729}\n"
     ]
    },
    {
     "name": "stderr",
     "output_type": "stream",
     "text": [
      "100%|██████████████████████████████████████████████████████████████████████████████████| 20/20 [00:02<00:00,  9.59it/s]\n",
      "  5%|████▏                                                                              | 1/20 [00:00<00:02,  9.20it/s]"
     ]
    },
    {
     "name": "stdout",
     "output_type": "stream",
     "text": [
      "{'ner': 2.5258554966685067}\n"
     ]
    },
    {
     "name": "stderr",
     "output_type": "stream",
     "text": [
      "100%|██████████████████████████████████████████████████████████████████████████████████| 20/20 [00:02<00:00,  7.56it/s]\n",
      " 10%|████████▎                                                                          | 2/20 [00:00<00:01, 15.08it/s]"
     ]
    },
    {
     "name": "stdout",
     "output_type": "stream",
     "text": [
      "{'ner': 2.1945608870258044}\n"
     ]
    },
    {
     "name": "stderr",
     "output_type": "stream",
     "text": [
      "100%|██████████████████████████████████████████████████████████████████████████████████| 20/20 [00:02<00:00,  8.19it/s]\n",
      " 10%|████████▎                                                                          | 2/20 [00:00<00:01, 14.53it/s]"
     ]
    },
    {
     "name": "stdout",
     "output_type": "stream",
     "text": [
      "{'ner': 2.000552351676018}\n"
     ]
    },
    {
     "name": "stderr",
     "output_type": "stream",
     "text": [
      "100%|██████████████████████████████████████████████████████████████████████████████████| 20/20 [00:01<00:00, 12.31it/s]\n",
      "  5%|████▏                                                                              | 1/20 [00:00<00:02,  6.77it/s]"
     ]
    },
    {
     "name": "stdout",
     "output_type": "stream",
     "text": [
      "{'ner': 2.0173194495217714}\n"
     ]
    },
    {
     "name": "stderr",
     "output_type": "stream",
     "text": [
      "100%|██████████████████████████████████████████████████████████████████████████████████| 20/20 [00:02<00:00,  8.83it/s]\n",
      " 10%|████████▎                                                                          | 2/20 [00:00<00:01, 13.74it/s]"
     ]
    },
    {
     "name": "stdout",
     "output_type": "stream",
     "text": [
      "{'ner': 1.95150602370767}\n"
     ]
    },
    {
     "name": "stderr",
     "output_type": "stream",
     "text": [
      "100%|██████████████████████████████████████████████████████████████████████████████████| 20/20 [00:02<00:00,  7.32it/s]\n",
      "  5%|████▏                                                                              | 1/20 [00:00<00:02,  7.60it/s]"
     ]
    },
    {
     "name": "stdout",
     "output_type": "stream",
     "text": [
      "{'ner': 1.3322725648866172}\n"
     ]
    },
    {
     "name": "stderr",
     "output_type": "stream",
     "text": [
      "100%|██████████████████████████████████████████████████████████████████████████████████| 20/20 [00:02<00:00,  9.93it/s]\n",
      " 10%|████████▎                                                                          | 2/20 [00:00<00:01, 11.14it/s]"
     ]
    },
    {
     "name": "stdout",
     "output_type": "stream",
     "text": [
      "{'ner': 3.6447630099303785}\n"
     ]
    },
    {
     "name": "stderr",
     "output_type": "stream",
     "text": [
      "100%|██████████████████████████████████████████████████████████████████████████████████| 20/20 [00:01<00:00, 13.32it/s]\n",
      " 10%|████████▎                                                                          | 2/20 [00:00<00:01, 10.44it/s]"
     ]
    },
    {
     "name": "stdout",
     "output_type": "stream",
     "text": [
      "{'ner': 2.894615982682415}\n"
     ]
    },
    {
     "name": "stderr",
     "output_type": "stream",
     "text": [
      "100%|██████████████████████████████████████████████████████████████████████████████████| 20/20 [00:02<00:00,  8.31it/s]\n",
      " 10%|████████▎                                                                          | 2/20 [00:00<00:01, 14.53it/s]"
     ]
    },
    {
     "name": "stdout",
     "output_type": "stream",
     "text": [
      "{'ner': 2.1078847420940536}\n"
     ]
    },
    {
     "name": "stderr",
     "output_type": "stream",
     "text": [
      "100%|██████████████████████████████████████████████████████████████████████████████████| 20/20 [00:01<00:00, 12.74it/s]\n",
      " 10%|████████▎                                                                          | 2/20 [00:00<00:01, 12.15it/s]"
     ]
    },
    {
     "name": "stdout",
     "output_type": "stream",
     "text": [
      "{'ner': 3.8821815205944925}\n"
     ]
    },
    {
     "name": "stderr",
     "output_type": "stream",
     "text": [
      "100%|██████████████████████████████████████████████████████████████████████████████████| 20/20 [00:02<00:00,  9.34it/s]\n",
      "  5%|████▏                                                                              | 1/20 [00:00<00:02,  8.22it/s]"
     ]
    },
    {
     "name": "stdout",
     "output_type": "stream",
     "text": [
      "{'ner': 2.2305019649689193}\n"
     ]
    },
    {
     "name": "stderr",
     "output_type": "stream",
     "text": [
      "100%|██████████████████████████████████████████████████████████████████████████████████| 20/20 [00:01<00:00, 12.08it/s]\n",
      " 10%|████████▎                                                                          | 2/20 [00:00<00:01, 12.94it/s]"
     ]
    },
    {
     "name": "stdout",
     "output_type": "stream",
     "text": [
      "{'ner': 2.0604885808498894}\n"
     ]
    },
    {
     "name": "stderr",
     "output_type": "stream",
     "text": [
      "100%|██████████████████████████████████████████████████████████████████████████████████| 20/20 [00:02<00:00,  8.57it/s]\n",
      "  5%|████▏                                                                              | 1/20 [00:00<00:02,  9.37it/s]"
     ]
    },
    {
     "name": "stdout",
     "output_type": "stream",
     "text": [
      "{'ner': 2.827955332294008}\n"
     ]
    },
    {
     "name": "stderr",
     "output_type": "stream",
     "text": [
      "100%|██████████████████████████████████████████████████████████████████████████████████| 20/20 [00:02<00:00,  8.22it/s]\n",
      "  5%|████▏                                                                              | 1/20 [00:00<00:03,  6.15it/s]"
     ]
    },
    {
     "name": "stdout",
     "output_type": "stream",
     "text": [
      "{'ner': 4.016077123375249}\n"
     ]
    },
    {
     "name": "stderr",
     "output_type": "stream",
     "text": [
      "100%|██████████████████████████████████████████████████████████████████████████████████| 20/20 [00:02<00:00,  8.38it/s]\n",
      " 10%|████████▎                                                                          | 2/20 [00:00<00:01, 14.85it/s]"
     ]
    },
    {
     "name": "stdout",
     "output_type": "stream",
     "text": [
      "{'ner': 0.027092096593717096}\n"
     ]
    },
    {
     "name": "stderr",
     "output_type": "stream",
     "text": [
      "100%|██████████████████████████████████████████████████████████████████████████████████| 20/20 [00:01<00:00, 13.16it/s]\n",
      " 10%|████████▎                                                                          | 2/20 [00:00<00:01, 12.30it/s]"
     ]
    },
    {
     "name": "stdout",
     "output_type": "stream",
     "text": [
      "{'ner': 2.5221473904035343}\n"
     ]
    },
    {
     "name": "stderr",
     "output_type": "stream",
     "text": [
      "100%|██████████████████████████████████████████████████████████████████████████████████| 20/20 [00:02<00:00,  8.30it/s]\n",
      " 10%|████████▎                                                                          | 2/20 [00:00<00:01, 15.31it/s]"
     ]
    },
    {
     "name": "stdout",
     "output_type": "stream",
     "text": [
      "{'ner': 0.8120462748003859}\n"
     ]
    },
    {
     "name": "stderr",
     "output_type": "stream",
     "text": [
      "100%|██████████████████████████████████████████████████████████████████████████████████| 20/20 [00:01<00:00, 11.29it/s]\n",
      "  5%|████▏                                                                              | 1/20 [00:00<00:02,  7.21it/s]"
     ]
    },
    {
     "name": "stdout",
     "output_type": "stream",
     "text": [
      "{'ner': 1.606362954169846}\n"
     ]
    },
    {
     "name": "stderr",
     "output_type": "stream",
     "text": [
      "100%|██████████████████████████████████████████████████████████████████████████████████| 20/20 [00:02<00:00,  9.85it/s]\n",
      " 10%|████████▎                                                                          | 2/20 [00:00<00:01, 16.71it/s]"
     ]
    },
    {
     "name": "stdout",
     "output_type": "stream",
     "text": [
      "{'ner': 4.054495353884234}\n"
     ]
    },
    {
     "name": "stderr",
     "output_type": "stream",
     "text": [
      "100%|██████████████████████████████████████████████████████████████████████████████████| 20/20 [00:02<00:00,  8.51it/s]\n",
      " 10%|████████▎                                                                          | 2/20 [00:00<00:01, 10.61it/s]"
     ]
    },
    {
     "name": "stdout",
     "output_type": "stream",
     "text": [
      "{'ner': 2.000050848651907}\n"
     ]
    },
    {
     "name": "stderr",
     "output_type": "stream",
     "text": [
      "100%|██████████████████████████████████████████████████████████████████████████████████| 20/20 [00:01<00:00, 10.83it/s]\n",
      "  5%|████▏                                                                              | 1/20 [00:00<00:03,  5.22it/s]"
     ]
    },
    {
     "name": "stdout",
     "output_type": "stream",
     "text": [
      "{'ner': 3.996098061975612}\n"
     ]
    },
    {
     "name": "stderr",
     "output_type": "stream",
     "text": [
      "100%|██████████████████████████████████████████████████████████████████████████████████| 20/20 [00:02<00:00,  7.07it/s]\n",
      " 10%|████████▎                                                                          | 2/20 [00:00<00:01, 14.85it/s]"
     ]
    },
    {
     "name": "stdout",
     "output_type": "stream",
     "text": [
      "{'ner': 2.8178906881605097}\n"
     ]
    },
    {
     "name": "stderr",
     "output_type": "stream",
     "text": [
      "100%|██████████████████████████████████████████████████████████████████████████████████| 20/20 [00:01<00:00, 11.90it/s]\n",
      " 10%|████████▎                                                                          | 2/20 [00:00<00:01, 13.37it/s]"
     ]
    },
    {
     "name": "stdout",
     "output_type": "stream",
     "text": [
      "{'ner': 1.55631837667633}\n"
     ]
    },
    {
     "name": "stderr",
     "output_type": "stream",
     "text": [
      "100%|██████████████████████████████████████████████████████████████████████████████████| 20/20 [00:02<00:00,  7.70it/s]\n",
      " 10%|████████▎                                                                          | 2/20 [00:00<00:01, 10.18it/s]"
     ]
    },
    {
     "name": "stdout",
     "output_type": "stream",
     "text": [
      "{'ner': 2.0163033302387396}\n"
     ]
    },
    {
     "name": "stderr",
     "output_type": "stream",
     "text": [
      "100%|██████████████████████████████████████████████████████████████████████████████████| 20/20 [00:02<00:00,  9.50it/s]\n",
      "  5%|████▏                                                                              | 1/20 [00:00<00:02,  6.35it/s]"
     ]
    },
    {
     "name": "stdout",
     "output_type": "stream",
     "text": [
      "{'ner': 2.0657343660428142}\n"
     ]
    },
    {
     "name": "stderr",
     "output_type": "stream",
     "text": [
      "100%|██████████████████████████████████████████████████████████████████████████████████| 20/20 [00:02<00:00,  9.66it/s]\n",
      "  0%|                                                                                           | 0/20 [00:00<?, ?it/s]"
     ]
    },
    {
     "name": "stdout",
     "output_type": "stream",
     "text": [
      "{'ner': 1.999934498303764}\n"
     ]
    },
    {
     "name": "stderr",
     "output_type": "stream",
     "text": [
      "100%|██████████████████████████████████████████████████████████████████████████████████| 20/20 [00:02<00:00,  7.82it/s]\n",
      "  5%|████▏                                                                              | 1/20 [00:00<00:02,  8.80it/s]"
     ]
    },
    {
     "name": "stdout",
     "output_type": "stream",
     "text": [
      "{'ner': 2.6677363569824686}\n"
     ]
    },
    {
     "name": "stderr",
     "output_type": "stream",
     "text": [
      "100%|██████████████████████████████████████████████████████████████████████████████████| 20/20 [00:03<00:00,  6.20it/s]\n",
      "  5%|████▏                                                                              | 1/20 [00:00<00:03,  5.70it/s]"
     ]
    },
    {
     "name": "stdout",
     "output_type": "stream",
     "text": [
      "{'ner': 2.4095352089124455}\n"
     ]
    },
    {
     "name": "stderr",
     "output_type": "stream",
     "text": [
      "100%|██████████████████████████████████████████████████████████████████████████████████| 20/20 [00:01<00:00, 10.78it/s]\n",
      " 10%|████████▎                                                                          | 2/20 [00:00<00:01, 13.28it/s]"
     ]
    },
    {
     "name": "stdout",
     "output_type": "stream",
     "text": [
      "{'ner': 3.2493493806981237}\n"
     ]
    },
    {
     "name": "stderr",
     "output_type": "stream",
     "text": [
      "100%|██████████████████████████████████████████████████████████████████████████████████| 20/20 [00:01<00:00, 10.93it/s]\n",
      "  5%|████▏                                                                              | 1/20 [00:00<00:02,  7.37it/s]"
     ]
    },
    {
     "name": "stdout",
     "output_type": "stream",
     "text": [
      "{'ner': 1.4774088749636598}\n"
     ]
    },
    {
     "name": "stderr",
     "output_type": "stream",
     "text": [
      "100%|██████████████████████████████████████████████████████████████████████████████████| 20/20 [00:02<00:00,  7.79it/s]\n",
      "  5%|████▏                                                                              | 1/20 [00:00<00:02,  9.03it/s]"
     ]
    },
    {
     "name": "stdout",
     "output_type": "stream",
     "text": [
      "{'ner': 2.0117306610078787}\n"
     ]
    },
    {
     "name": "stderr",
     "output_type": "stream",
     "text": [
      "100%|██████████████████████████████████████████████████████████████████████████████████| 20/20 [00:02<00:00,  7.52it/s]\n",
      " 10%|████████▎                                                                          | 2/20 [00:00<00:01, 13.74it/s]"
     ]
    },
    {
     "name": "stdout",
     "output_type": "stream",
     "text": [
      "{'ner': 2.271146477387903}\n"
     ]
    },
    {
     "name": "stderr",
     "output_type": "stream",
     "text": [
      "100%|██████████████████████████████████████████████████████████████████████████████████| 20/20 [00:02<00:00,  7.42it/s]\n",
      " 10%|████████▎                                                                          | 2/20 [00:00<00:01, 10.90it/s]"
     ]
    },
    {
     "name": "stdout",
     "output_type": "stream",
     "text": [
      "{'ner': 3.699255573497815}\n"
     ]
    },
    {
     "name": "stderr",
     "output_type": "stream",
     "text": [
      "100%|██████████████████████████████████████████████████████████████████████████████████| 20/20 [00:02<00:00,  6.67it/s]\n",
      "  5%|████▏                                                                              | 1/20 [00:00<00:03,  5.54it/s]"
     ]
    },
    {
     "name": "stdout",
     "output_type": "stream",
     "text": [
      "{'ner': 2.0159608816233745}\n"
     ]
    },
    {
     "name": "stderr",
     "output_type": "stream",
     "text": [
      "100%|██████████████████████████████████████████████████████████████████████████████████| 20/20 [00:02<00:00,  8.11it/s]\n",
      " 10%|████████▎                                                                          | 2/20 [00:00<00:01, 12.15it/s]"
     ]
    },
    {
     "name": "stdout",
     "output_type": "stream",
     "text": [
      "{'ner': 3.856046345466193}\n"
     ]
    },
    {
     "name": "stderr",
     "output_type": "stream",
     "text": [
      "100%|██████████████████████████████████████████████████████████████████████████████████| 20/20 [00:02<00:00,  9.68it/s]\n",
      "  5%|████▏                                                                              | 1/20 [00:00<00:03,  5.54it/s]"
     ]
    },
    {
     "name": "stdout",
     "output_type": "stream",
     "text": [
      "{'ner': 2.680649166327419}\n"
     ]
    },
    {
     "name": "stderr",
     "output_type": "stream",
     "text": [
      "100%|██████████████████████████████████████████████████████████████████████████████████| 20/20 [00:02<00:00,  8.18it/s]\n",
      "  5%|████▏                                                                              | 1/20 [00:00<00:03,  6.11it/s]"
     ]
    },
    {
     "name": "stdout",
     "output_type": "stream",
     "text": [
      "{'ner': 1.9993106835142305}\n"
     ]
    },
    {
     "name": "stderr",
     "output_type": "stream",
     "text": [
      "100%|██████████████████████████████████████████████████████████████████████████████████| 20/20 [00:02<00:00,  7.31it/s]\n",
      " 10%|████████▎                                                                          | 2/20 [00:00<00:01, 11.08it/s]"
     ]
    },
    {
     "name": "stdout",
     "output_type": "stream",
     "text": [
      "{'ner': 1.9875489962622381}\n"
     ]
    },
    {
     "name": "stderr",
     "output_type": "stream",
     "text": [
      "100%|██████████████████████████████████████████████████████████████████████████████████| 20/20 [00:02<00:00,  7.85it/s]\n",
      "  0%|                                                                                           | 0/20 [00:00<?, ?it/s]"
     ]
    },
    {
     "name": "stdout",
     "output_type": "stream",
     "text": [
      "{'ner': 2.5776938902246536}\n"
     ]
    },
    {
     "name": "stderr",
     "output_type": "stream",
     "text": [
      "100%|██████████████████████████████████████████████████████████████████████████████████| 20/20 [00:03<00:00,  6.61it/s]\n",
      "  0%|                                                                                           | 0/20 [00:00<?, ?it/s]"
     ]
    },
    {
     "name": "stdout",
     "output_type": "stream",
     "text": [
      "{'ner': 3.58053636760269}\n"
     ]
    },
    {
     "name": "stderr",
     "output_type": "stream",
     "text": [
      "100%|██████████████████████████████████████████████████████████████████████████████████| 20/20 [00:02<00:00,  8.40it/s]\n",
      "  5%|████▏                                                                              | 1/20 [00:00<00:02,  9.28it/s]"
     ]
    },
    {
     "name": "stdout",
     "output_type": "stream",
     "text": [
      "{'ner': 2.7666498862424955}\n"
     ]
    },
    {
     "name": "stderr",
     "output_type": "stream",
     "text": [
      "100%|██████████████████████████████████████████████████████████████████████████████████| 20/20 [00:02<00:00,  9.03it/s]\n",
      "  5%|████▏                                                                              | 1/20 [00:00<00:03,  5.86it/s]"
     ]
    },
    {
     "name": "stdout",
     "output_type": "stream",
     "text": [
      "{'ner': 2.2255740789527008}\n"
     ]
    },
    {
     "name": "stderr",
     "output_type": "stream",
     "text": [
      "100%|██████████████████████████████████████████████████████████████████████████████████| 20/20 [00:02<00:00,  8.81it/s]\n",
      "  5%|████▏                                                                              | 1/20 [00:00<00:02,  9.20it/s]"
     ]
    },
    {
     "name": "stdout",
     "output_type": "stream",
     "text": [
      "{'ner': 1.394052513399152}\n"
     ]
    },
    {
     "name": "stderr",
     "output_type": "stream",
     "text": [
      "100%|██████████████████████████████████████████████████████████████████████████████████| 20/20 [00:02<00:00,  9.19it/s]\n",
      "  5%|████▏                                                                              | 1/20 [00:00<00:03,  6.23it/s]"
     ]
    },
    {
     "name": "stdout",
     "output_type": "stream",
     "text": [
      "{'ner': 0.5121540302384338}\n"
     ]
    },
    {
     "name": "stderr",
     "output_type": "stream",
     "text": [
      "100%|██████████████████████████████████████████████████████████████████████████████████| 20/20 [00:02<00:00,  8.35it/s]\n",
      "  5%|████▏                                                                              | 1/20 [00:00<00:02,  6.68it/s]"
     ]
    },
    {
     "name": "stdout",
     "output_type": "stream",
     "text": [
      "{'ner': 1.6854058150586997}\n"
     ]
    },
    {
     "name": "stderr",
     "output_type": "stream",
     "text": [
      "100%|██████████████████████████████████████████████████████████████████████████████████| 20/20 [00:02<00:00,  7.53it/s]\n",
      " 10%|████████▎                                                                          | 2/20 [00:00<00:01, 11.27it/s]"
     ]
    },
    {
     "name": "stdout",
     "output_type": "stream",
     "text": [
      "{'ner': 2.0000046413455395}\n"
     ]
    },
    {
     "name": "stderr",
     "output_type": "stream",
     "text": [
      "100%|██████████████████████████████████████████████████████████████████████████████████| 20/20 [00:03<00:00,  6.38it/s]\n",
      "  0%|                                                                                           | 0/20 [00:00<?, ?it/s]"
     ]
    },
    {
     "name": "stdout",
     "output_type": "stream",
     "text": [
      "{'ner': 3.9574500874429885}\n"
     ]
    },
    {
     "name": "stderr",
     "output_type": "stream",
     "text": [
      "100%|██████████████████████████████████████████████████████████████████████████████████| 20/20 [00:01<00:00, 10.13it/s]\n",
      " 10%|████████▎                                                                          | 2/20 [00:00<00:01, 11.80it/s]"
     ]
    },
    {
     "name": "stdout",
     "output_type": "stream",
     "text": [
      "{'ner': 1.9263062014717593}\n"
     ]
    },
    {
     "name": "stderr",
     "output_type": "stream",
     "text": [
      "100%|██████████████████████████████████████████████████████████████████████████████████| 20/20 [00:02<00:00,  8.42it/s]\n",
      "  0%|                                                                                           | 0/20 [00:00<?, ?it/s]"
     ]
    },
    {
     "name": "stdout",
     "output_type": "stream",
     "text": [
      "{'ner': 2.597752536881431}\n"
     ]
    },
    {
     "name": "stderr",
     "output_type": "stream",
     "text": [
      "100%|██████████████████████████████████████████████████████████████████████████████████| 20/20 [00:02<00:00,  9.58it/s]\n",
      "  5%|████▏                                                                              | 1/20 [00:00<00:03,  6.31it/s]"
     ]
    },
    {
     "name": "stdout",
     "output_type": "stream",
     "text": [
      "{'ner': 1.3531663025069722}\n"
     ]
    },
    {
     "name": "stderr",
     "output_type": "stream",
     "text": [
      "100%|██████████████████████████████████████████████████████████████████████████████████| 20/20 [00:02<00:00,  7.49it/s]\n",
      " 10%|████████▎                                                                          | 2/20 [00:00<00:01, 14.22it/s]"
     ]
    },
    {
     "name": "stdout",
     "output_type": "stream",
     "text": [
      "{'ner': 1.7839165596442024}\n"
     ]
    },
    {
     "name": "stderr",
     "output_type": "stream",
     "text": [
      "100%|██████████████████████████████████████████████████████████████████████████████████| 20/20 [00:02<00:00,  7.58it/s]\n",
      "  5%|████▏                                                                              | 1/20 [00:00<00:02,  8.22it/s]"
     ]
    },
    {
     "name": "stdout",
     "output_type": "stream",
     "text": [
      "{'ner': 3.9463972153692413}\n"
     ]
    },
    {
     "name": "stderr",
     "output_type": "stream",
     "text": [
      "100%|██████████████████████████████████████████████████████████████████████████████████| 20/20 [00:03<00:00,  6.43it/s]\n",
      "  5%|████▏                                                                              | 1/20 [00:00<00:03,  5.25it/s]"
     ]
    },
    {
     "name": "stdout",
     "output_type": "stream",
     "text": [
      "{'ner': 1.888666011039086}\n"
     ]
    },
    {
     "name": "stderr",
     "output_type": "stream",
     "text": [
      "100%|██████████████████████████████████████████████████████████████████████████████████| 20/20 [00:02<00:00,  9.08it/s]\n",
      "  5%|████▏                                                                              | 1/20 [00:00<00:02,  9.46it/s]"
     ]
    },
    {
     "name": "stdout",
     "output_type": "stream",
     "text": [
      "{'ner': 2.9552033552319688}\n"
     ]
    },
    {
     "name": "stderr",
     "output_type": "stream",
     "text": [
      "100%|██████████████████████████████████████████████████████████████████████████████████| 20/20 [00:01<00:00, 10.90it/s]\n",
      "  0%|                                                                                           | 0/20 [00:00<?, ?it/s]"
     ]
    },
    {
     "name": "stdout",
     "output_type": "stream",
     "text": [
      "{'ner': 2.0336680460436156}\n"
     ]
    },
    {
     "name": "stderr",
     "output_type": "stream",
     "text": [
      "100%|██████████████████████████████████████████████████████████████████████████████████| 20/20 [00:03<00:00,  6.12it/s]\n",
      " 10%|████████▎                                                                          | 2/20 [00:00<00:01, 11.73it/s]"
     ]
    },
    {
     "name": "stdout",
     "output_type": "stream",
     "text": [
      "{'ner': 3.9997995842909875}\n"
     ]
    },
    {
     "name": "stderr",
     "output_type": "stream",
     "text": [
      "100%|██████████████████████████████████████████████████████████████████████████████████| 20/20 [00:03<00:00,  6.19it/s]\n",
      "  0%|                                                                                           | 0/20 [00:00<?, ?it/s]"
     ]
    },
    {
     "name": "stdout",
     "output_type": "stream",
     "text": [
      "{'ner': 3.9993827871187944}\n"
     ]
    },
    {
     "name": "stderr",
     "output_type": "stream",
     "text": [
      "100%|██████████████████████████████████████████████████████████████████████████████████| 20/20 [00:02<00:00,  7.39it/s]\n",
      " 10%|████████▎                                                                          | 2/20 [00:00<00:01, 13.11it/s]"
     ]
    },
    {
     "name": "stdout",
     "output_type": "stream",
     "text": [
      "{'ner': 0.4304834755558334}\n"
     ]
    },
    {
     "name": "stderr",
     "output_type": "stream",
     "text": [
      "100%|██████████████████████████████████████████████████████████████████████████████████| 20/20 [00:02<00:00,  7.62it/s]\n",
      "  5%|████▏                                                                              | 1/20 [00:00<00:03,  5.66it/s]"
     ]
    },
    {
     "name": "stdout",
     "output_type": "stream",
     "text": [
      "{'ner': 2.2587745488867452}\n"
     ]
    },
    {
     "name": "stderr",
     "output_type": "stream",
     "text": [
      "100%|██████████████████████████████████████████████████████████████████████████████████| 20/20 [00:02<00:00,  7.49it/s]\n",
      " 10%|████████▎                                                                          | 2/20 [00:00<00:01, 11.80it/s]"
     ]
    },
    {
     "name": "stdout",
     "output_type": "stream",
     "text": [
      "{'ner': 2.000109920735067}\n"
     ]
    },
    {
     "name": "stderr",
     "output_type": "stream",
     "text": [
      "100%|██████████████████████████████████████████████████████████████████████████████████| 20/20 [00:02<00:00,  8.90it/s]\n",
      "  0%|                                                                                           | 0/20 [00:00<?, ?it/s]"
     ]
    },
    {
     "name": "stdout",
     "output_type": "stream",
     "text": [
      "{'ner': 4.58894349622268}\n"
     ]
    },
    {
     "name": "stderr",
     "output_type": "stream",
     "text": [
      "100%|██████████████████████████████████████████████████████████████████████████████████| 20/20 [00:03<00:00,  6.42it/s]\n",
      "  0%|                                                                                           | 0/20 [00:00<?, ?it/s]"
     ]
    },
    {
     "name": "stdout",
     "output_type": "stream",
     "text": [
      "{'ner': 5.359259632370635}\n"
     ]
    },
    {
     "name": "stderr",
     "output_type": "stream",
     "text": [
      "100%|██████████████████████████████████████████████████████████████████████████████████| 20/20 [00:02<00:00,  8.06it/s]\n",
      "  5%|████▏                                                                              | 1/20 [00:00<00:02,  8.57it/s]"
     ]
    },
    {
     "name": "stdout",
     "output_type": "stream",
     "text": [
      "{'ner': 3.999511803590753}\n"
     ]
    },
    {
     "name": "stderr",
     "output_type": "stream",
     "text": [
      "100%|██████████████████████████████████████████████████████████████████████████████████| 20/20 [00:02<00:00,  7.39it/s]\n",
      "  5%|████▏                                                                              | 1/20 [00:00<00:02,  8.36it/s]"
     ]
    },
    {
     "name": "stdout",
     "output_type": "stream",
     "text": [
      "{'ner': 0.0011742355918946982}\n"
     ]
    },
    {
     "name": "stderr",
     "output_type": "stream",
     "text": [
      "100%|██████████████████████████████████████████████████████████████████████████████████| 20/20 [00:03<00:00,  5.39it/s]\n",
      "  5%|████▏                                                                              | 1/20 [00:00<00:02,  9.37it/s]"
     ]
    },
    {
     "name": "stdout",
     "output_type": "stream",
     "text": [
      "{'ner': 0.5770389664087499}\n"
     ]
    },
    {
     "name": "stderr",
     "output_type": "stream",
     "text": [
      "100%|██████████████████████████████████████████████████████████████████████████████████| 20/20 [00:01<00:00, 10.06it/s]\n",
      "  5%|████▏                                                                              | 1/20 [00:00<00:02,  9.37it/s]"
     ]
    },
    {
     "name": "stdout",
     "output_type": "stream",
     "text": [
      "{'ner': 3.9990791531063583}\n"
     ]
    },
    {
     "name": "stderr",
     "output_type": "stream",
     "text": [
      "100%|██████████████████████████████████████████████████████████████████████████████████| 20/20 [00:02<00:00,  7.07it/s]\n",
      "  5%|████▏                                                                              | 1/20 [00:00<00:02,  9.28it/s]"
     ]
    },
    {
     "name": "stdout",
     "output_type": "stream",
     "text": [
      "{'ner': 4.874458553853785}\n"
     ]
    },
    {
     "name": "stderr",
     "output_type": "stream",
     "text": [
      "100%|██████████████████████████████████████████████████████████████████████████████████| 20/20 [00:03<00:00,  6.65it/s]\n",
      "  5%|████▏                                                                              | 1/20 [00:00<00:02,  7.65it/s]"
     ]
    },
    {
     "name": "stdout",
     "output_type": "stream",
     "text": [
      "{'ner': 5.068100097322104}\n"
     ]
    },
    {
     "name": "stderr",
     "output_type": "stream",
     "text": [
      "100%|██████████████████████████████████████████████████████████████████████████████████| 20/20 [00:03<00:00,  6.65it/s]\n",
      "  5%|████▏                                                                              | 1/20 [00:00<00:02,  9.28it/s]"
     ]
    },
    {
     "name": "stdout",
     "output_type": "stream",
     "text": [
      "{'ner': 1.6225981194937855}\n"
     ]
    },
    {
     "name": "stderr",
     "output_type": "stream",
     "text": [
      "100%|██████████████████████████████████████████████████████████████████████████████████| 20/20 [00:03<00:00,  6.48it/s]\n",
      "  0%|                                                                                           | 0/20 [00:00<?, ?it/s]"
     ]
    },
    {
     "name": "stdout",
     "output_type": "stream",
     "text": [
      "{'ner': 2.0000502344904527}\n"
     ]
    },
    {
     "name": "stderr",
     "output_type": "stream",
     "text": [
      "100%|██████████████████████████████████████████████████████████████████████████████████| 20/20 [00:05<00:00,  3.95it/s]\n",
      "  5%|████▏                                                                              | 1/20 [00:00<00:02,  7.48it/s]"
     ]
    },
    {
     "name": "stdout",
     "output_type": "stream",
     "text": [
      "{'ner': 1.6175157938943574}\n"
     ]
    },
    {
     "name": "stderr",
     "output_type": "stream",
     "text": [
      "100%|██████████████████████████████████████████████████████████████████████████████████| 20/20 [00:02<00:00,  7.90it/s]\n",
      "  0%|                                                                                           | 0/20 [00:00<?, ?it/s]"
     ]
    },
    {
     "name": "stdout",
     "output_type": "stream",
     "text": [
      "{'ner': 0.007616026702366085}\n"
     ]
    },
    {
     "name": "stderr",
     "output_type": "stream",
     "text": [
      "100%|██████████████████████████████████████████████████████████████████████████████████| 20/20 [00:03<00:00,  5.71it/s]\n",
      "  0%|                                                                                           | 0/20 [00:00<?, ?it/s]"
     ]
    },
    {
     "name": "stdout",
     "output_type": "stream",
     "text": [
      "{'ner': 1.7792535806244147}\n"
     ]
    },
    {
     "name": "stderr",
     "output_type": "stream",
     "text": [
      "100%|██████████████████████████████████████████████████████████████████████████████████| 20/20 [00:03<00:00,  5.43it/s]\n",
      "  5%|████▏                                                                              | 1/20 [00:00<00:02,  8.36it/s]"
     ]
    },
    {
     "name": "stdout",
     "output_type": "stream",
     "text": [
      "{'ner': 1.7998161795298466}\n"
     ]
    },
    {
     "name": "stderr",
     "output_type": "stream",
     "text": [
      "100%|██████████████████████████████████████████████████████████████████████████████████| 20/20 [00:03<00:00,  5.91it/s]\n",
      "  0%|                                                                                           | 0/20 [00:00<?, ?it/s]"
     ]
    },
    {
     "name": "stdout",
     "output_type": "stream",
     "text": [
      "{'ner': 0.5027698120791774}\n"
     ]
    },
    {
     "name": "stderr",
     "output_type": "stream",
     "text": [
      "100%|██████████████████████████████████████████████████████████████████████████████████| 20/20 [00:03<00:00,  6.31it/s]\n",
      "  5%|████▏                                                                              | 1/20 [00:00<00:02,  8.36it/s]"
     ]
    },
    {
     "name": "stdout",
     "output_type": "stream",
     "text": [
      "{'ner': 2.3051175546246925}\n"
     ]
    },
    {
     "name": "stderr",
     "output_type": "stream",
     "text": [
      "100%|██████████████████████████████████████████████████████████████████████████████████| 20/20 [00:03<00:00,  5.09it/s]\n",
      "  5%|████▏                                                                              | 1/20 [00:00<00:02,  8.02it/s]"
     ]
    },
    {
     "name": "stdout",
     "output_type": "stream",
     "text": [
      "{'ner': 1.6255623729960873}\n"
     ]
    },
    {
     "name": "stderr",
     "output_type": "stream",
     "text": [
      "100%|██████████████████████████████████████████████████████████████████████████████████| 20/20 [00:03<00:00,  5.45it/s]\n",
      "  0%|                                                                                           | 0/20 [00:00<?, ?it/s]"
     ]
    },
    {
     "name": "stdout",
     "output_type": "stream",
     "text": [
      "{'ner': 3.765684506474108}\n"
     ]
    },
    {
     "name": "stderr",
     "output_type": "stream",
     "text": [
      "100%|██████████████████████████████████████████████████████████████████████████████████| 20/20 [00:03<00:00,  5.29it/s]\n",
      "  0%|                                                                                           | 0/20 [00:00<?, ?it/s]"
     ]
    },
    {
     "name": "stdout",
     "output_type": "stream",
     "text": [
      "{'ner': 3.122519413728764}\n"
     ]
    },
    {
     "name": "stderr",
     "output_type": "stream",
     "text": [
      "100%|██████████████████████████████████████████████████████████████████████████████████| 20/20 [00:03<00:00,  5.52it/s]\n",
      "  5%|████▏                                                                              | 1/20 [00:00<00:02,  7.21it/s]"
     ]
    },
    {
     "name": "stdout",
     "output_type": "stream",
     "text": [
      "{'ner': 1.485594268369381}\n"
     ]
    },
    {
     "name": "stderr",
     "output_type": "stream",
     "text": [
      "100%|██████████████████████████████████████████████████████████████████████████████████| 20/20 [00:03<00:00,  5.78it/s]\n",
      "  5%|████▏                                                                              | 1/20 [00:00<00:01,  9.55it/s]"
     ]
    },
    {
     "name": "stdout",
     "output_type": "stream",
     "text": [
      "{'ner': 1.5173742616080208}\n"
     ]
    },
    {
     "name": "stderr",
     "output_type": "stream",
     "text": [
      "100%|██████████████████████████████████████████████████████████████████████████████████| 20/20 [00:03<00:00,  5.76it/s]\n",
      "  5%|████▏                                                                              | 1/20 [00:00<00:02,  6.73it/s]"
     ]
    },
    {
     "name": "stdout",
     "output_type": "stream",
     "text": [
      "{'ner': 2.0031218111032802}\n"
     ]
    },
    {
     "name": "stderr",
     "output_type": "stream",
     "text": [
      "100%|██████████████████████████████████████████████████████████████████████████████████| 20/20 [00:03<00:00,  5.37it/s]\n",
      "  0%|                                                                                           | 0/20 [00:00<?, ?it/s]"
     ]
    },
    {
     "name": "stdout",
     "output_type": "stream",
     "text": [
      "{'ner': 3.0626952988179026}\n"
     ]
    },
    {
     "name": "stderr",
     "output_type": "stream",
     "text": [
      "100%|██████████████████████████████████████████████████████████████████████████████████| 20/20 [00:04<00:00,  4.89it/s]\n",
      "  5%|████▏                                                                              | 1/20 [00:00<00:03,  5.73it/s]"
     ]
    },
    {
     "name": "stdout",
     "output_type": "stream",
     "text": [
      "{'ner': 3.9115634818986633}\n"
     ]
    },
    {
     "name": "stderr",
     "output_type": "stream",
     "text": [
      "100%|██████████████████████████████████████████████████████████████████████████████████| 20/20 [00:03<00:00,  5.68it/s]\n",
      "  5%|████▏                                                                              | 1/20 [00:00<00:02,  8.43it/s]"
     ]
    },
    {
     "name": "stdout",
     "output_type": "stream",
     "text": [
      "{'ner': 3.155569480219482}\n"
     ]
    },
    {
     "name": "stderr",
     "output_type": "stream",
     "text": [
      "100%|██████████████████████████████████████████████████████████████████████████████████| 20/20 [00:03<00:00,  5.80it/s]\n",
      "  5%|████▏                                                                              | 1/20 [00:00<00:02,  7.77it/s]"
     ]
    },
    {
     "name": "stdout",
     "output_type": "stream",
     "text": [
      "{'ner': 0.31362500312662367}\n"
     ]
    },
    {
     "name": "stderr",
     "output_type": "stream",
     "text": [
      "100%|██████████████████████████████████████████████████████████████████████████████████| 20/20 [00:03<00:00,  5.62it/s]\n",
      "  5%|████▏                                                                              | 1/20 [00:00<00:02,  8.72it/s]"
     ]
    },
    {
     "name": "stdout",
     "output_type": "stream",
     "text": [
      "{'ner': 2.366420036186887}\n"
     ]
    },
    {
     "name": "stderr",
     "output_type": "stream",
     "text": [
      "100%|██████████████████████████████████████████████████████████████████████████████████| 20/20 [00:04<00:00,  4.66it/s]\n",
      "  5%|████▏                                                                              | 1/20 [00:00<00:02,  7.83it/s]"
     ]
    },
    {
     "name": "stdout",
     "output_type": "stream",
     "text": [
      "{'ner': 2.1760228319915087}\n"
     ]
    },
    {
     "name": "stderr",
     "output_type": "stream",
     "text": [
      "100%|██████████████████████████████████████████████████████████████████████████████████| 20/20 [00:03<00:00,  6.07it/s]\n",
      "  0%|                                                                                           | 0/20 [00:00<?, ?it/s]"
     ]
    },
    {
     "name": "stdout",
     "output_type": "stream",
     "text": [
      "{'ner': 0.2693162595204124}\n"
     ]
    },
    {
     "name": "stderr",
     "output_type": "stream",
     "text": [
      "100%|██████████████████████████████████████████████████████████████████████████████████| 20/20 [00:03<00:00,  5.66it/s]\n",
      "  5%|████▏                                                                              | 1/20 [00:00<00:02,  8.43it/s]"
     ]
    },
    {
     "name": "stdout",
     "output_type": "stream",
     "text": [
      "{'ner': 2.000407621560277}\n"
     ]
    },
    {
     "name": "stderr",
     "output_type": "stream",
     "text": [
      "100%|██████████████████████████████████████████████████████████████████████████████████| 20/20 [00:03<00:00,  5.76it/s]\n",
      "  5%|████▏                                                                              | 1/20 [00:00<00:03,  5.70it/s]"
     ]
    },
    {
     "name": "stdout",
     "output_type": "stream",
     "text": [
      "{'ner': 1.5905514871749902}\n"
     ]
    },
    {
     "name": "stderr",
     "output_type": "stream",
     "text": [
      "100%|██████████████████████████████████████████████████████████████████████████████████| 20/20 [00:03<00:00,  5.80it/s]\n",
      "  5%|████▏                                                                              | 1/20 [00:00<00:02,  9.03it/s]"
     ]
    },
    {
     "name": "stdout",
     "output_type": "stream",
     "text": [
      "{'ner': 2.694583986888837}\n"
     ]
    },
    {
     "name": "stderr",
     "output_type": "stream",
     "text": [
      "100%|██████████████████████████████████████████████████████████████████████████████████| 20/20 [00:04<00:00,  4.65it/s]\n",
      "  5%|████▏                                                                              | 1/20 [00:00<00:03,  6.31it/s]"
     ]
    },
    {
     "name": "stdout",
     "output_type": "stream",
     "text": [
      "{'ner': 0.0003740499888089751}\n"
     ]
    },
    {
     "name": "stderr",
     "output_type": "stream",
     "text": [
      "100%|██████████████████████████████████████████████████████████████████████████████████| 20/20 [00:03<00:00,  6.43it/s]\n",
      "  0%|                                                                                           | 0/20 [00:00<?, ?it/s]"
     ]
    },
    {
     "name": "stdout",
     "output_type": "stream",
     "text": [
      "{'ner': 4.499350748671648}\n"
     ]
    },
    {
     "name": "stderr",
     "output_type": "stream",
     "text": [
      "100%|██████████████████████████████████████████████████████████████████████████████████| 20/20 [00:04<00:00,  4.35it/s]"
     ]
    },
    {
     "name": "stdout",
     "output_type": "stream",
     "text": [
      "{'ner': 3.0658130069103864}\n"
     ]
    },
    {
     "name": "stderr",
     "output_type": "stream",
     "text": [
      "\n"
     ]
    }
   ],
   "source": [
    "for _, annotations in TRAIN_DATA:\n",
    "    for ent in annotations.get('entities'):\n",
    "        ner.add_label(ent[2])\n",
    "\n",
    "other_pipes = [pipe for pipe in nlp.pipe_names if pipe != 'ner']\n",
    "with nlp.disable_pipes(*other_pipes):\n",
    "    optimizer = nlp.begin_training()\n",
    "    for itn in range(n_iter):\n",
    "        random.shuffle(TRAIN_DATA)\n",
    "        losses = {}\n",
    "        for text, annotations in tqdm(TRAIN_DATA):\n",
    "            nlp.update(\n",
    "                [text],  \n",
    "                [annotations],  \n",
    "                drop=0.5,  \n",
    "                sgd=optimizer,\n",
    "                losses=losses)\n",
    "        print(losses)"
   ]
  },
  {
   "cell_type": "code",
   "execution_count": 29,
   "metadata": {},
   "outputs": [
    {
     "name": "stdout",
     "output_type": "stream",
     "text": [
      "Entities [('konjac', 'Garnier Organic Konjac Botanical Cleansing Sponge')]\n",
      "Tokens [('i', '', 2), ('was', '', 2), ('really', '', 2), ('excited', '', 2), ('to', '', 2), ('try', '', 2), ('out', '', 2), ('this', '', 2), ('based', '', 2), ('on', '', 2), ('the', '', 2), ('reviews', '', 2), ('that', '', 2), ('konjac', 'Garnier Organic Konjac Botanical Cleansing Sponge', 3), ('sponges', '', 2), ('have', '', 2), ('been', '', 2), ('getting', '', 2), ('.', '', 2), ('i', '', 2), ('love', '', 2), ('the', '', 2), ('lemongrass', '', 2), ('face', '', 2), ('wash', '', 2), ('so', '', 2), ('thought', '', 2), ('together', '', 2), ('these', '', 2), ('products', '', 2), ('would', '', 2), ('be', '', 2), ('amazing', '', 2), ('.', '', 2), ('i', '', 2), ('have', '', 2), ('to', '', 2), ('say', '', 2), ('i', '', 2), ('do', '', 2), ('n’t', '', 2), ('see', '', 2), ('any', '', 2), ('better', '', 2), ('results', '', 2), ('from', '', 2), ('using', '', 2), ('the', '', 2), ('sponge', '', 2), ('too', '', 2), ('.', '', 2), ('it', '', 2), ('has', '', 2), ('only', '', 2), ('been', '', 2), ('a', '', 2), ('few', '', 2), ('days', '', 2), ('so', '', 2), ('perhaps', '', 2), ('i', '', 2), ('am', '', 2), ('judging', '', 2), ('too', '', 2), ('soon', '', 2), ('but', '', 2), ('i', '', 2), ('would', '', 2), ('n’t', '', 2), ('be', '', 2), ('in', '', 2), ('a', '', 2), ('rush', '', 2), ('to', '', 2), ('buy', '', 2), ('another', '', 2), ('when', '', 2), ('this', '', 2), ('is', '', 2), ('done', '', 2), ('.', '', 2)]\n",
      "Entities [('konjac', 'Garnier Organic Konjac Botanical Cleansing Sponge')]\n",
      "Tokens [('i', '', 2), ('use', '', 2), ('my', '', 2), ('konjac', 'Garnier Organic Konjac Botanical Cleansing Sponge', 3), ('sponge', '', 2), ('with', '', 2), ('my', '', 2), ('lemongrass', '', 2), ('gel', '', 2), ('wash', '', 2), ('and', '', 2), ('it', '', 2), ('makes', '', 2), ('my', '', 2), ('face', '', 2), ('feel', '', 2), ('so', '', 2), ('clean', '', 2), ('and', '', 2), ('fresh', '', 2), (',', '', 2), ('the', '', 2), ('shape', '', 2), ('of', '', 2), ('the', '', 2), ('sponge', '', 2), ('is', '', 2), ('perfect', '', 2), ('and', '', 2), ('it', '', 2), ('has', '', 2), ('a', '', 2), ('handy', '', 2), ('little', '', 2), ('string', '', 2), ('to', '', 2), ('hang', '', 2), ('it', '', 2), ('up', '', 2), ('which', '', 2), ('i', '', 2), ('loop', '', 2), ('over', '', 2), ('my', '', 2), ('fingers', '', 2), ('when', '', 2), ('using', '', 2), ('.', '', 2), ('i', '', 2), ('can', '', 2), ('see', '', 2), ('and', '', 2), ('feel', '', 2), ('how', '', 2), ('much', '', 2), ('my', '', 2), ('skin', '', 2), ('has', '', 2), ('been', '', 2), ('detoxed', '', 2), ('after', '', 2), ('washing', '', 2), ('.', '', 2), ('the', '', 2), ('sponge', '', 2), ('make', '', 2), ('the', '', 2), ('gel', '', 2), ('wash', '', 2), ('foam', '', 2), ('up', '', 2), ('lots', '', 2), ('too', '', 2), ('.', '', 2)]\n",
      "Entities [('konjac', 'Garnier Organic Konjac Botanical Cleansing Sponge')]\n",
      "Tokens [('have', '', 2), ('this', '', 2), ('to', '', 2), ('use', '', 2), ('along', '', 2), ('with', '', 2), ('the', '', 2), ('lemongrass', '', 2), ('gel', '', 2), ('wash', '', 2), ('..', '', 2), ('a', '', 2), ('very', '', 2), ('good', '', 2), ('quality', '', 2), ('konjac', 'Garnier Organic Konjac Botanical Cleansing Sponge', 3), ('that', '', 2), ('holds', '', 2), ('product', '', 2), ('well', '', 2), ('on', '', 2), ('the', '', 2), ('surface', '', 2), ('.', '', 2), ('it', '', 2), ('does', '', 2), ('a', '', 2), ('great', '', 2), ('job', '', 2), ('of', '', 2), ('thoroughly', '', 2), ('cleansing', '', 2), (',', '', 2), ('also', '', 2), ('being', '', 2), ('small', '', 2), ('&', '', 2), ('soft', '', 2), ('enough', '', 2), ('to', '', 2), ('get', '', 2), ('in', '', 2), ('the', '', 2), ('crevices', '', 2), ('around', '', 2), ('the', '', 2), ('nose', '', 2), ('.', '', 2), ('do', '', 2), ('n’t', '', 2), ('be', '', 2), ('put', '', 2), ('off', '', 2), ('as', '', 2), ('though', '', 2), ('it', '', 2), ('thoroughly', '', 2), ('cleans', '', 2), ('the', '', 2), ('exfoliation', '', 2), ('is', '', 2), ('super', '', 2), ('gentle', '', 2), ('&', '', 2), ('left', '', 2), ('my', '', 2), ('skin', '', 2), ('really', '', 2), ('soft', '', 2), (',', '', 2), ('smooth', '', 2), ('but', '', 2), ('also', '', 2), ('energised', '', 2), ('.', '', 2)]\n",
      "Entities [('konjac', 'Garnier Organic Konjac Botanical Cleansing Sponge')]\n",
      "Tokens [('these', '', 2), ('are', '', 2), ('lovely', '', 2), ('natural', '', 2), ('garnier', '', 2), ('konjac', 'Garnier Organic Konjac Botanical Cleansing Sponge', 3), ('root', '', 2), ('fiber', '', 2), ('sponge', '', 2), ('.', '', 2), ('great', '', 2), ('new', '', 2), ('way', '', 2), ('to', '', 2), ('cleanse', '', 2), ('face', '', 2), ('and', '', 2), ('body', '', 2), ('.', '', 2), ('the', '', 2), ('sponge', '', 2), ('is', '', 2), ('wonderful', '', 2), ('very', '', 2), ('soft', '', 2), ('and', '', 2), ('suitable', '', 2), ('for', '', 2), ('all', '', 2), ('skin', '', 2), ('types', '', 2), (',', '', 2), ('you', '', 2), ('do', '', 2), (\"n't\", '', 2), ('need', '', 2), ('anything', '', 2), ('just', '', 2), ('add', '', 2), ('water', '', 2), ('.', '', 2), ('konjac', '', 2), ('sponge', '', 2), ('gives', '', 2), ('a', '', 2), ('natural', '', 2), ('skincare', '', 2), ('and', '', 2), ('very', '', 2), ('gently', '', 2), ('skin', '', 2), ('exfoliating', '', 2), ('.', '', 2), ('leaves', '', 2), ('my', '', 2), ('skin', '', 2), ('feeling', '', 2), ('soft', '', 2), ('and', '', 2), ('clean', '', 2), ('.', '', 2), ('great', '', 2), ('for', '', 2), ('removing', '', 2), ('makeup', '', 2), ('really', '', 2), ('does', '', 2), ('what', '', 2), ('it', '', 2), ('claims', '', 2), ('.', '', 2), ('highly', '', 2), ('recommend', '', 2)]\n",
      "Entities [('konjac', 'Garnier Organic Konjac Botanical Cleansing Sponge')]\n",
      "Tokens [('i', '', 2), ('really', '', 2), ('loved', '', 2), ('and', '', 2), ('like', '', 2), ('garnier', '', 2), ('organic', '', 2), ('konjac', 'Garnier Organic Konjac Botanical Cleansing Sponge', 3), ('botanical', '', 2), ('cleansing', '', 2), ('sponge', '', 2), (',', '', 2), ('it', '', 2), ('make', '', 2), ('my', '', 2), ('skin', '', 2), ('felt', '', 2), ('very', '', 2), ('clean', '', 2), ('and', '', 2), ('smooth', '', 2), ('after', '', 2), ('use', '', 2), ('it', '', 2), (',', '', 2), ('you', '', 2), ('could', '', 2), ('hand', '', 2), ('it', '', 2), ('up', '', 2), ('in', '', 2), ('the', '', 2), ('shower', '', 2), ('it', '', 2), ('is', '', 2), ('great', '', 2), ('design', '', 2), ('!', '', 2), ('definitely', '', 2), ('recommend', '', 2), ('this', '', 2), ('product', '', 2), ('.', '', 2)]\n",
      "Entities [('konjac', 'Garnier Organic Konjac Botanical Cleansing Sponge')]\n",
      "Tokens [('i', '', 2), ('was', '', 2), ('really', '', 2), ('impressed', '', 2), ('with', '', 2), ('the', '', 2), ('konjac', 'Garnier Organic Konjac Botanical Cleansing Sponge', 3), ('sponge', '', 2), ('.', '', 2), ('it', '', 2), ('exfoliated', '', 2), ('my', '', 2), ('skin', '', 2), ('and', '', 2), ('made', '', 2), ('it', '', 2), ('feel', '', 2), ('fresher', '', 2), ('and', '', 2), ('cleaner', '', 2), ('without', '', 2), ('feeling', '', 2), ('dry', '', 2), ('or', '', 2), ('‘', '', 2), ('stripped', '', 2), ('’', '', 2), ('.', '', 2)]\n",
      "Entities [('konjac', 'Garnier Organic Konjac Botanical Cleansing Sponge')]\n",
      "Tokens [('i', '', 2), ('have', '', 2), ('never', '', 2), ('used', '', 2), ('a', '', 2), ('konjac', 'Garnier Organic Konjac Botanical Cleansing Sponge', 3), ('sponge', '', 2), (',', '', 2), ('so', '', 2), ('i', '', 2), ('ca', '', 2), (\"n't\", '', 2), ('compare', '', 2), ('it', '', 2), ('other', '', 2), ('sponges', '', 2), ('..', '', 2), ('but', '', 2), ('i', '', 2), ('did', '', 2), (\"n't\", '', 2), ('find', '', 2), ('it', '', 2), ('gave', '', 2), ('much', '', 2), ('exfoliation', '', 2), ('compared', '', 2), ('to', '', 2), ('my', '', 2), ('normal', '', 2), ('routine', '', 2), ('.', '', 2), ('this', '', 2), ('is', '', 2), ('something', '', 2), ('that', '', 2), ('is', '', 2), ('going', '', 2), ('to', '', 2), ('be', '', 2), ('dependent', '', 2), ('on', '', 2), ('your', '', 2), ('preferences', '', 2), (',', '', 2), ('i', '', 2), ('like', '', 2), ('a', '', 2), ('harsh', '', 2), ('exfoliator', '', 2), ('both', '', 2), ('manual', '', 2), ('and', '', 2), ('chemical', '', 2), ('and', '', 2), ('while', '', 2), ('this', '', 2), ('only', '', 2), ('recommends', '', 2), ('to', '', 2), ('be', '', 2), ('use', '', 2), ('a', '', 2), ('few', '', 2), ('times', '', 2), ('a', '', 2), ('week', '', 2), ('-', '', 2), ('for', '', 2), ('me', '', 2), ('it', '', 2), ('is', '', 2), ('something', '', 2), ('i', '', 2), ('would', '', 2), ('use', '', 2), ('on', '', 2), ('the', '', 2), ('in', '', 2), ('between', '', 2), ('days', '', 2), ('my', '', 2), ('other', '', 2), ('products', '', 2), ('and', '', 2), ('not', '', 2), ('instead', '', 2), ('of', '', 2), ('.', '', 2)]\n",
      "Entities [('konjac', 'Garnier Organic Konjac Botanical Cleansing Sponge')]\n",
      "Tokens [('when', '', 2), ('the', '', 2), ('konjac', 'Garnier Organic Konjac Botanical Cleansing Sponge', 3), ('sponge', '', 2), ('arrives', '', 2), (',', '', 2), ('it', '', 2), ('is', '', 2), ('very', '', 2), ('hard', '', 2), ('(', '', 2), ('it', '', 2), ('reminded', '', 2), ('me', '', 2), ('of', '', 2), ('a', '', 2), ('pumice', '', 2), ('stone', '', 2), (')', '', 2), ('.', '', 2), ('after', '', 2), ('soaking', '', 2), ('it', '', 2), ('for', '', 2), ('a', '', 2), ('few', '', 2), ('minutes', '', 2), ('in', '', 2), ('warm', '', 2), ('water', '', 2), ('it', '', 2), ('expands', '', 2), ('and', '', 2), ('becomes', '', 2), ('very', '', 2), ('squidgy', '', 2), ('.', '', 2), ('i', '', 2), ('have', '', 2), ('been', '', 2), ('using', '', 2), ('this', '', 2), ('with', '', 2), ('a', '', 2), ('gel', '', 2), ('cleaner', '', 2), ('which', '', 2), ('i', '', 2), ('massage', '', 2), ('onto', '', 2), ('my', '', 2), ('face', '', 2), ('using', '', 2), ('my', '', 2), ('hands', '', 2), ('and', '', 2), ('then', '', 2), ('go', '', 2), ('over', '', 2), ('it', '', 2), ('with', '', 2), ('the', '', 2), ('sponge', '', 2), ('which', '', 2), ('absorbs', '', 2), ('a', '', 2), ('lot', '', 2), ('of', '', 2), ('the', '', 2), ('product', '', 2), ('making', '', 2), ('it', '', 2), ('easier', '', 2), ('to', '', 2), ('rinse', '', 2), ('my', '', 2), ('face', '', 2), ('.', '', 2), ('i', '', 2), ('have', '', 2), ('found', '', 2), ('this', '', 2), ('to', '', 2), ('be', '', 2), ('a', '', 2), ('nice', '', 2), ('addition', '', 2), ('to', '', 2), ('my', '', 2), ('skincare', '', 2), ('routine', '', 2), ('-', '', 2), ('especially', '', 2), ('when', '', 2), ('i', '', 2), ('do', '', 2), (\"n't\", '', 2), ('want', '', 2), ('to', '', 2), ('use', '', 2), ('a', '', 2), ('flannel', '', 2), ('-', '', 2), ('but', '', 2), ('i', '', 2), ('would', '', 2), (\"n't\", '', 2), ('consider', '', 2), ('it', '', 2), ('a', '', 2), ('must', '', 2), ('-', '', 2), ('have', '', 2), ('tool', '', 2), ('.', '', 2), ('i', '', 2), ('would', '', 2), ('also', '', 2), ('say', '', 2), ('that', '', 2), ('i', '', 2), ('did', '', 2), (\"n't\", '', 2), ('find', '', 2), ('it', '', 2), ('to', '', 2), ('have', '', 2), ('much', '', 2), ('of', '', 2), ('an', '', 2), ('exfoliating', '', 2), ('effect', '', 2), ('on', '', 2), ('my', '', 2), ('skin', '', 2), ('.', '', 2)]\n",
      "Entities [('konjac', 'Garnier Organic Konjac Botanical Cleansing Sponge')]\n",
      "Tokens [('i', '', 2), (\"'ve\", '', 2), ('never', '', 2), ('used', '', 2), ('a', '', 2), ('konjac', 'Garnier Organic Konjac Botanical Cleansing Sponge', 3), ('sponge', '', 2), ('before', '', 2), (',', '', 2), ('so', '', 2), ('i', '', 2), ('was', '', 2), ('n’t', '', 2), ('expecting', '', 2), ('much', '', 2), ('.', '', 2), ('how', '', 2), ('wrong', '', 2), ('was', '', 2), ('i-', '', 2), ('it', '', 2), ('gently', '', 2), ('exfoliates', '', 2), ('when', '', 2), ('i', '', 2), ('use', '', 2), ('a', '', 2), ('foaming', '', 2), ('face', '', 2), ('wash', '', 2), ('with', '', 2), ('it', '', 2), ('.', '', 2), ('i', '', 2), ('do', '', 2), (\"n't\", '', 2), ('like', '', 2), ('face', '', 2), ('scrubs', '', 2), ('as', '', 2), ('they', '', 2), ('make', '', 2), ('my', '', 2), ('face', '', 2), ('sore', '', 2), ('&', '', 2), ('so', '', 2), ('use', '', 2), ('a', '', 2), ('liquid', '', 2), ('exfoliant', '', 2), ('but', '', 2), ('as', '', 2), ('they', '', 2), ('have', '', 2), ('aha', '', 2), (\"'s\", '', 2), (',', '', 2), ('o', '', 2), ('ca', '', 2), ('n’t', '', 2), ('use', '', 2), ('them', '', 2), ('the', '', 2), ('summer', '', 2), ('so', '', 2), ('will', '', 2), ('be', '', 2), ('using', '', 2), ('this', '', 2), ('instead', '', 2), ('!', '', 2), ('!', '', 2), ('a', '', 2), ('great', '', 2), ('find', '', 2), ('that', '', 2), ('left', '', 2), ('my', '', 2), ('skin', '', 2), ('soft', '', 2), ('&', '', 2), ('radiant', '', 2), ('!', '', 2), ('!', '', 2)]\n",
      "Entities [('konjac', 'Garnier Organic Konjac Botanical Cleansing Sponge')]\n",
      "Tokens [('i', '', 2), ('have', '', 2), ('been', '', 2), ('using', '', 2), ('this', '', 2), ('konjac', 'Garnier Organic Konjac Botanical Cleansing Sponge', 3), ('root', '', 2), ('cleansing', '', 2), ('sponge', '', 2), (',', '', 2), ('initially', '', 2), ('it', '', 2), ('felt', '', 2), ('a', '', 2), ('little', '', 2), ('rough', '', 2), ('but', '', 2), ('quickly', '', 2), ('softened', '', 2), ('up', '', 2), ('leaving', '', 2), ('my', '', 2), ('skin', '', 2), ('feeling', '', 2), ('nice', '', 2), ('and', '', 2), ('smooth', '', 2), ('.', '', 2)]\n",
      "Entities [('konjac', 'Garnier Organic Konjac Botanical Cleansing Sponge')]\n",
      "Tokens [('not', '', 2), ('having', '', 2), ('ever', '', 2), ('heard', '', 2), ('of', '', 2), ('a', '', 2), ('konjac', 'Garnier Organic Konjac Botanical Cleansing Sponge', 3), ('sponge', '', 2), ('before', '', 2), (',', '', 2), ('i', '', 2), ('was', '', 2), ('keen', '', 2), ('to', '', 2), ('try', '', 2), ('this', '', 2), ('new', '', 2), ('product', '', 2), ('!', '', 2), ('it', '', 2), (\"'s\", '', 2), ('absolutely', '', 2), ('fantastic', '', 2), ('!', '', 2), ('after', '', 2), ('soaking', '', 2), ('as', '', 2), ('instructed', '', 2), ('i', '', 2), ('used', '', 2), ('this', '', 2), ('on', '', 2), ('my', '', 2), ('skin', '', 2), ('and', '', 2), ('did', '', 2), ('a', '', 2), ('great', '', 2), ('job', '', 2), ('of', '', 2), ('cleaning', '', 2), ('my', '', 2), ('skin', '', 2), ('and', '', 2), ('also', '', 2), ('gently', '', 2), ('exfoliating', '', 2), ('.', '', 2), ('i', '', 2), ('will', '', 2), ('undoubtedly', '', 2), ('continue', '', 2), ('to', '', 2), ('use', '', 2), ('this', '', 2), ('product', '', 2), ('.', '', 2)]\n",
      "Entities [('konjac', 'Garnier Organic Konjac Botanical Cleansing Sponge')]\n",
      "Tokens [('i', '', 2), ('use', '', 2), ('the', '', 2), ('konjac', 'Garnier Organic Konjac Botanical Cleansing Sponge', 3), ('sponge', '', 2), ('with', '', 2), ('the', '', 2), ('garnier', '', 2), ('lemongrass', '', 2), ('detox', '', 2), ('gel', '', 2), ('wash', '', 2), ('and', '', 2), ('double', '', 2), ('cleanse', '', 2), ('.', '', 2), ('i', '', 2), ('normally', '', 2), ('find', '', 2), ('that', '', 2), ('my', '', 2), ('skin', '', 2), ('is', '', 2), ('very', '', 2), ('sensitive', '', 2), ('when', '', 2), ('it', '', 2), ('comes', '', 2), ('to', '', 2), ('washing', '', 2), ('my', '', 2), ('face', '', 2), ('with', '', 2), ('sponges', '', 2), (',', '', 2), ('muslin', '', 2), ('clothes', '', 2), (',', '', 2), ('flannels', '', 2), ('etc', '', 2), ('.', '', 2), ('i', '', 2), ('did', '', 2), (\"n't\", '', 2), ('experience', '', 2), ('any', '', 2), ('sensitivity', '', 2), ('or', '', 2), ('redness', '', 2), ('when', '', 2), ('washing', '', 2), ('my', '', 2), ('face', '', 2), ('with', '', 2), ('the', '', 2), ('konjac', '', 2), ('sponge', '', 2), ('at', '', 2), ('all', '', 2), (',', '', 2), ('which', '', 2), ('is', '', 2), ('quite', '', 2), ('the', '', 2), ('rarity', '', 2), ('.', '', 2), ('i', '', 2), ('use', '', 2), ('the', '', 2), ('sponge', '', 2), ('twice', '', 2), ('in', '', 2), ('the', '', 2), ('morning', '', 2), ('as', '', 2), ('i', '', 2), ('double', '', 2), ('cleanse', '', 2), ('and', '', 2), ('dependent', '', 2), ('on', '', 2), ('my', '', 2), ('evening', '', 2), ('regime', '', 2), ('a', '', 2), ('further', '', 2), ('two', '', 2), ('times', '', 2), ('.', '', 2), ('the', '', 2), ('sponge', '', 2), ('is', '', 2), ('very', '', 2), ('gentle', '', 2), ('on', '', 2), ('the', '', 2), ('face', '', 2), (',', '', 2), ('just', '', 2), ('be', '', 2), ('sure', '', 2), ('to', '', 2), ('soak', '', 2), ('the', '', 2), ('sponge', '', 2), ('to', '', 2), ('soften', '', 2), ('it', '', 2), ('prior', '', 2), ('to', '', 2), ('use', '', 2), ('first', '', 2), ('.', '', 2), ('i', '', 2), (\"'ll\", '', 2), ('definitely', '', 2), ('have', '', 2), ('to', '', 2), ('pick', '', 2), ('up', '', 2), ('another', '', 2), ('sponge', '', 2), ('once', '', 2), ('it', '', 2), (\"'s\", '', 2), ('time', '', 2), ('to', '', 2), ('replace', '', 2), ('my', '', 2), ('current', '', 2), ('one', '', 2)]\n",
      "Entities [('konjac', 'Garnier Organic Konjac Botanical Cleansing Sponge')]\n",
      "Tokens [('when', '', 2), ('the', '', 2), ('konjac', 'Garnier Organic Konjac Botanical Cleansing Sponge', 3), ('sponge', '', 2), ('arrives', '', 2), (',', '', 2), ('it', '', 2), ('is', '', 2), ('very', '', 2), ('hard', '', 2), ('(', '', 2), ('it', '', 2), ('reminded', '', 2), ('me', '', 2), ('of', '', 2), ('a', '', 2), ('pumice', '', 2), ('stone', '', 2), (')', '', 2), ('.', '', 2), ('after', '', 2), ('soaking', '', 2), ('it', '', 2), ('for', '', 2), ('a', '', 2), ('few', '', 2), ('minutes', '', 2), ('in', '', 2), ('warm', '', 2), ('water', '', 2), ('it', '', 2), ('expands', '', 2), ('and', '', 2), ('becomes', '', 2), ('very', '', 2), ('squidgy', '', 2), ('.', '', 2), ('i', '', 2), ('have', '', 2), ('been', '', 2), ('using', '', 2), ('this', '', 2), ('with', '', 2), ('a', '', 2), ('gel', '', 2), ('cleaner', '', 2), ('which', '', 2), ('i', '', 2), ('massage', '', 2), ('onto', '', 2), ('my', '', 2), ('face', '', 2), ('using', '', 2), ('my', '', 2), ('hands', '', 2), ('and', '', 2), ('then', '', 2), ('go', '', 2), ('over', '', 2), ('it', '', 2), ('with', '', 2), ('the', '', 2), ('sponge', '', 2), ('which', '', 2), ('absorbs', '', 2), ('a', '', 2), ('lot', '', 2), ('of', '', 2), ('the', '', 2), ('product', '', 2), ('making', '', 2), ('it', '', 2), ('easier', '', 2), ('to', '', 2), ('rinse', '', 2), ('my', '', 2), ('face', '', 2), ('.', '', 2), ('i', '', 2), ('have', '', 2), ('found', '', 2), ('this', '', 2), ('to', '', 2), ('be', '', 2), ('a', '', 2), ('nice', '', 2), ('addition', '', 2), ('to', '', 2), ('my', '', 2), ('skincare', '', 2), ('routine', '', 2), ('-', '', 2), ('especially', '', 2), ('when', '', 2), ('i', '', 2), ('do', '', 2), (\"n't\", '', 2), ('want', '', 2), ('to', '', 2), ('use', '', 2), ('a', '', 2), ('flannel', '', 2), ('-', '', 2), ('but', '', 2), ('i', '', 2), ('would', '', 2), (\"n't\", '', 2), ('consider', '', 2), ('it', '', 2), ('a', '', 2), ('must', '', 2), ('-', '', 2), ('have', '', 2), ('tool', '', 2), ('.', '', 2), ('i', '', 2), ('would', '', 2), ('also', '', 2), ('say', '', 2), ('that', '', 2), ('i', '', 2), ('did', '', 2), (\"n't\", '', 2), ('find', '', 2), ('it', '', 2), ('to', '', 2), ('have', '', 2), ('much', '', 2), ('of', '', 2), ('an', '', 2), ('exfoliating', '', 2), ('effect', '', 2), ('on', '', 2), ('my', '', 2), ('skin', '', 2), ('.', '', 2)]\n",
      "Entities [('konjac', 'Garnier Organic Konjac Botanical Cleansing Sponge')]\n",
      "Tokens [('this', '', 2), ('is', '', 2), ('a', '', 2), ('good', '', 2), ('little', '', 2), ('sponge', '', 2), ('for', '', 2), ('everyday', '', 2), ('gentle', '', 2), ('cleansing', '', 2), ('-', '', 2), ('sometimes', '', 2), ('i', '', 2), ('use', '', 2), ('it', '', 2), ('with', '', 2), ('face', '', 2), ('wash', '', 2), (',', '', 2), ('and', '', 2), ('sometimes', '', 2), ('just', '', 2), ('with', '', 2), ('water', '', 2), ('.', '', 2), ('it', '', 2), ('does', '', 2), ('smooth', '', 2), ('out', '', 2), ('my', '', 2), ('skin', '', 2), ('more', '', 2), ('than', '', 2), ('if', '', 2), ('i', '', 2), ('had', '', 2), (\"n't\", '', 2), ('used', '', 2), ('it', '', 2), (',', '', 2), ('but', '', 2), ('i', '', 2), ('ca', '', 2), (\"n't\", '', 2), ('see', '', 2), ('a', '', 2), ('difference', '', 2), ('in', '', 2), ('this', '', 2), ('to', '', 2), ('any', '', 2), ('other', '', 2), ('konjac', 'Garnier Organic Konjac Botanical Cleansing Sponge', 3), ('sponge', '', 2), ('on', '', 2), ('the', '', 2), ('market', '', 2), ('.', '', 2)]\n",
      "Entities [('konjac', 'Garnier Organic Konjac Botanical Cleansing Sponge')]\n",
      "Tokens [('i', '', 2), (\"'ve\", '', 2), ('used', '', 2), ('a', '', 2), ('konjac', 'Garnier Organic Konjac Botanical Cleansing Sponge', 3), ('sponge', '', 2), ('in', '', 2), ('the', '', 2), ('past', '', 2), ('but', '', 2), ('it', '', 2), ('contained', '', 2), ('charcoal', '', 2), ('and', '', 2), ('i', '', 2), ('found', '', 2), ('it', '', 2), ('quite', '', 2), ('drying', '', 2), ('on', '', 2), ('my', '', 2), ('combination', '', 2), ('skin', '', 2), (',', '', 2), ('so', '', 2), ('i', '', 2), ('was', '', 2), ('interested', '', 2), ('to', '', 2), ('see', '', 2), ('how', '', 2), ('this', '', 2), ('one', '', 2), ('worked', '', 2), ('out', '', 2), ('.', '', 2), ('i', '', 2), (\"'ve\", '', 2), ('used', '', 2), ('it', '', 2), ('without', '', 2), ('cleanser', '', 2), ('and', '', 2), ('with', '', 2), (',', '', 2), ('to', '', 2), ('judge', '', 2), ('its', '', 2), ('effects', '', 2), ('.', '', 2), ('i', '', 2), ('find', '', 2), ('that', '', 2), ('without', '', 2), ('cleanser', '', 2), ('and', '', 2), ('just', '', 2), ('using', '', 2), ('water', '', 2), (',', '', 2), ('the', '', 2), ('sponge', '', 2), ('still', '', 2), ('somehow', '', 2), ('manages', '', 2), ('to', '', 2), ('remove', '', 2), ('makeup', '', 2), ('like', '', 2), ('magic', '', 2), ('and', '', 2), ('produces', '', 2), ('a', '', 2), ('bubbly', '', 2), ('feeling', '', 2), ('(', '', 2), ('i', '', 2), (\"'m\", '', 2), ('guessing', '', 2), ('something', '', 2), ('to', '', 2), ('do', '', 2), ('with', '', 2), ('all', '', 2), ('the', '', 2), ('air', '', 2), ('in', '', 2), ('those', '', 2), ('hundreds', '', 2), ('of', '', 2), ('little', '', 2), ('holes', '', 2), ('?', '', 2), ('!', '', 2), (')', '', 2), ('.', '', 2), ('however', '', 2), (',', '', 2), ('i', '', 2), ('also', '', 2), ('love', '', 2), ('using', '', 2), ('this', '', 2), ('with', '', 2), ('a', '', 2), ('foaming', '', 2), ('cleanser', '', 2), ('as', '', 2), ('it', '', 2), ('becomes', '', 2), ('super', '', 2), ('foamy', '', 2), ('and', '', 2), ('bubbly', '', 2), ('.', '', 2), ('i', '', 2), ('do', '', 2), ('find', '', 2), ('i', '', 2), ('then', '', 2), ('have', '', 2), ('to', '', 2), ('rinse', '', 2), ('the', '', 2), ('sponge', '', 2), ('several', '', 2), ('times', '', 2), ('and', '', 2), ('repeatedly', '', 2), ('wash', '', 2), ('my', '', 2), ('face', '', 2), ('to', '', 2), ('remove', '', 2), ('the', '', 2), ('cleanser', '', 2), ('thoroughly', '', 2), (',', '', 2), ('but', '', 2), ('after', '', 2), ('this', '', 2), ('i', '', 2), ('feel', '', 2), ('really', '', 2), ('deeply', '', 2), ('cleansed', '', 2), ('and', '', 2), ('refreshed', '', 2), ('.', '', 2), ('the', '', 2), ('little', '', 2), ('string', '', 2), ('attached', '', 2), ('goes', '', 2), ('right', '', 2), ('through', '', 2), ('the', '', 2), ('inside', '', 2), ('of', '', 2), ('the', '', 2), ('sponge', '', 2), ('and', '', 2), ('is', '', 2), ('super', '', 2), ('helpful', '', 2), ('in', '', 2), ('hanging', '', 2), ('it', '', 2), ('up', '', 2), ('to', '', 2), ('dry', '', 2), ('between', '', 2), ('uses', '', 2), ('.', '', 2), ('i', '', 2), ('would', '', 2), ('definitely', '', 2), ('recommend', '', 2), ('this', '', 2), ('natural', '', 2), (',', '', 2), ('bubbly', '', 2), ('little', '', 2), ('sponge', '', 2), ('!', '', 2)]\n",
      "Entities [('konjac', 'Garnier Organic Konjac Botanical Cleansing Sponge')]\n",
      "Tokens [('i', '', 2), ('love', '', 2), ('konjac', 'Garnier Organic Konjac Botanical Cleansing Sponge', 3), ('sponges', '', 2), ('generally', '', 2), ('and', '', 2), ('this', '', 2), ('one', '', 2), ('is', '', 2), ('no', '', 2), ('different', '', 2), ('.', '', 2), ('it', '', 2), ('helps', '', 2), ('provide', '', 2), ('my', '', 2), ('skin', '', 2), ('with', '', 2), ('gentle', '', 2), ('but', '', 2), ('effective', '', 2), ('daily', '', 2), ('exfoliation', '', 2)]\n",
      "Entities [('konjac', 'Garnier Organic Konjac Botanical Cleansing Sponge')]\n",
      "Tokens [('i', '', 2), ('really', '', 2), ('enjoyed', '', 2), ('using', '', 2), ('this', '', 2), ('konjac', 'Garnier Organic Konjac Botanical Cleansing Sponge', 3), ('sponge', '', 2), ('.', '', 2), ('i', '', 2), ('found', '', 2), ('it', '', 2), ('to', '', 2), ('be', '', 2), ('a', '', 2), ('fun', '', 2), ('addition', '', 2), ('to', '', 2), ('my', '', 2), ('usual', '', 2), ('cleansing', '', 2), ('routine', '', 2), ('.', '', 2), ('it', '', 2), ('works', '', 2), ('excellently', '', 2), ('to', '', 2), ('gently', '', 2), ('exfoliate', '', 2), ('my', '', 2), ('skin', '', 2), ('and', '', 2), ('help', '', 2), ('prevent', '', 2), ('break', '', 2), ('outs', '', 2), ('.', '', 2), ('i', '', 2), ('would', '', 2), ('definitely', '', 2), ('recommend', '', 2), ('.', '', 2)]\n",
      "Entities [('konjac', 'Garnier Organic Konjac Botanical Cleansing Sponge')]\n",
      "Tokens [('this', '', 2), ('is', '', 2), ('a', '', 2), ('good', '', 2), ('little', '', 2), ('sponge', '', 2), ('for', '', 2), ('everyday', '', 2), ('gentle', '', 2), ('cleansing', '', 2), ('-', '', 2), ('sometimes', '', 2), ('i', '', 2), ('use', '', 2), ('it', '', 2), ('with', '', 2), ('face', '', 2), ('wash', '', 2), (',', '', 2), ('and', '', 2), ('sometimes', '', 2), ('just', '', 2), ('with', '', 2), ('water', '', 2), ('.', '', 2), ('it', '', 2), ('does', '', 2), ('smooth', '', 2), ('out', '', 2), ('my', '', 2), ('skin', '', 2), ('more', '', 2), ('than', '', 2), ('if', '', 2), ('i', '', 2), ('had', '', 2), (\"n't\", '', 2), ('used', '', 2), ('it', '', 2), (',', '', 2), ('but', '', 2), ('i', '', 2), ('ca', '', 2), (\"n't\", '', 2), ('see', '', 2), ('a', '', 2), ('difference', '', 2), ('in', '', 2), ('this', '', 2), ('to', '', 2), ('any', '', 2), ('other', '', 2), ('konjac', 'Garnier Organic Konjac Botanical Cleansing Sponge', 3), ('sponge', '', 2), ('on', '', 2), ('the', '', 2), ('market', '', 2), ('.', '', 2)]\n",
      "Entities [('konjac', 'Garnier Organic Konjac Botanical Cleansing Sponge')]\n",
      "Tokens [('this', '', 2), ('is', '', 2), ('the', '', 2), ('first', '', 2), ('time', '', 2), ('i', '', 2), ('have', '', 2), ('used', '', 2), ('konjac', 'Garnier Organic Konjac Botanical Cleansing Sponge', 3), ('sponge', '', 2), ('and', '', 2), ('i', '', 2), ('am', '', 2), ('impressed', '', 2), ('with', '', 2), ('the', '', 2), ('results', '', 2), ('.', '', 2), ('it', '', 2), ('is', '', 2), ('gentle', '', 2), ('and', '', 2), ('non', '', 2), ('-', '', 2), ('abrasive', '', 2), ('on', '', 2), ('your', '', 2), ('skin', '', 2), ('making', '', 2), ('it', '', 2), ('smoother', '', 2), ('and', '', 2), ('shinier', '', 2), ('.', '', 2), ('it', '', 2), ('becomes', '', 2), ('soft', '', 2), ('after', '', 2), ('soaking', '', 2), ('and', '', 2), ('is', '', 2), ('very', '', 2), ('easy', '', 2), ('to', '', 2), ('use', '', 2), ('.', '', 2), ('it', '', 2), ('deeply', '', 2), ('cleanses', '', 2), ('and', '', 2), ('exfoliates', '', 2), ('dead', '', 2), ('skin', '', 2), ('making', '', 2), ('it', '', 2), ('radiant', '', 2), ('with', '', 2), ('a', '', 2), ('healthy', '', 2), ('glow', '', 2), ('.', '', 2)]\n",
      "Entities [('konjac', 'Garnier Organic Konjac Botanical Cleansing Sponge')]\n",
      "Tokens [('this', '', 2), ('easy', '', 2), ('to', '', 2), ('use', '', 2), ('polishing', '', 2), ('konjac', 'Garnier Organic Konjac Botanical Cleansing Sponge', 3), ('sponge', '', 2), ('is', '', 2), ('great', '', 2), ('.', '', 2), ('it', '', 2), (\"'s\", '', 2), ('a', '', 2), ('great', '', 2), ('way', '', 2), ('to', '', 2), ('cleanse', '', 2), ('my', '', 2), ('skin', '', 2), ('&', '', 2), ('my', '', 2), ('skin', '', 2), ('feels', '', 2), ('soft', '', 2), ('&', '', 2), ('looks', '', 2), ('glowing', '', 2), ('after', '', 2), ('use', '', 2), ('too', '', 2), ('.', '', 2)]\n"
     ]
    }
   ],
   "source": [
    "for text, _ in TRAIN_DATA:\n",
    "    doc = nlp(text)\n",
    "    print('Entities', [(ent.text, ent.label_) for ent in doc.ents])\n",
    "    print('Tokens', [(t.text, t.ent_type_, t.ent_iob) for t in doc])"
   ]
  },
  {
   "cell_type": "code",
   "execution_count": 30,
   "metadata": {},
   "outputs": [
    {
     "name": "stdout",
     "output_type": "stream",
     "text": [
      "Saved model to C:\\Konjac NER\n"
     ]
    }
   ],
   "source": [
    "if output_dir is not None:\n",
    "    output_dir = Path(output_dir)\n",
    "    if not output_dir.exists():\n",
    "        output_dir.mkdir()\n",
    "    nlp.to_disk(output_dir)\n",
    "    print(\"Saved model to\", output_dir)        "
   ]
  },
  {
   "cell_type": "markdown",
   "metadata": {},
   "source": [
    "## Testing"
   ]
  },
  {
   "cell_type": "code",
   "execution_count": 37,
   "metadata": {},
   "outputs": [
    {
     "name": "stdout",
     "output_type": "stream",
     "text": [
      "Loading from C:\\Konjac NER\n"
     ]
    }
   ],
   "source": [
    "print(\"Loading from\", output_dir)\n",
    "nlp2 = spacy.load(output_dir)"
   ]
  },
  {
   "cell_type": "code",
   "execution_count": 38,
   "metadata": {},
   "outputs": [
    {
     "data": {
      "text/plain": [
       "19"
      ]
     },
     "execution_count": 38,
     "metadata": {},
     "output_type": "execute_result"
    }
   ],
   "source": [
    "test1=\"I never heard of a Konjac sponge before. So, when it’s dry it’s really crisp and hard but once it’s wet it feels just like a sponge even though it’s a completely natural product.. I used it with the lemongrass gel wash. The sponge felt really good on my skin. My face felt soft and smooth afterwards and there is even a small hanging thread so you can hang up the sponge to dry!\"\n",
    "doc = nlp2(test1.lower())\n",
    "test1.lower().find(\"konjac\")"
   ]
  },
  {
   "cell_type": "code",
   "execution_count": 39,
   "metadata": {},
   "outputs": [
    {
     "name": "stdout",
     "output_type": "stream",
     "text": [
      "Entities [('konjac', 'Garnier Organic Konjac Botanical Cleansing Sponge', 19, 25)]\n"
     ]
    }
   ],
   "source": [
    "print('Entities', [(ent.text, ent.label_,ent.start_char,ent.end_char) for ent in doc.ents])"
   ]
  },
  {
   "cell_type": "code",
   "execution_count": 40,
   "metadata": {},
   "outputs": [
    {
     "data": {
      "text/plain": [
       "-1"
      ]
     },
     "execution_count": 40,
     "metadata": {},
     "output_type": "execute_result"
    }
   ],
   "source": [
    "test2=\"This little sponge is perfect for cleansing. It feels so natural on the face and was a perfect fit to hold and get into the tricky areas like the nose and around the eyes. I also used this with the Garnier Organic Fresh Lemongrass Detox Gel Wash, and it was a perfect combination. It felt like my face was getting an even deeper clean. Perfect little sponge to use morning or night to cleanse the face.\"\n",
    "doc=nlp2(test2.lower())\n",
    "test2.lower().find(\"konjac\")"
   ]
  },
  {
   "cell_type": "code",
   "execution_count": 41,
   "metadata": {},
   "outputs": [
    {
     "name": "stdout",
     "output_type": "stream",
     "text": [
      "Entities []\n"
     ]
    }
   ],
   "source": [
    "print('Entities', [(ent.text, ent.label_,ent.start_char,ent.end_char) for ent in doc.ents])"
   ]
  },
  {
   "cell_type": "code",
   "execution_count": 42,
   "metadata": {},
   "outputs": [
    {
     "data": {
      "text/plain": [
       "-1"
      ]
     },
     "execution_count": 42,
     "metadata": {},
     "output_type": "execute_result"
    }
   ],
   "source": [
    "test3=\"First I was surprised by this sponge. I didn’t see why but I tried. So good, it is very soft and exfoliate my skin smoothly, I use it with the toner and it’s just perfect. My son is 16 and I noticed that he uses it as well.\"\n",
    "doc=nlp2(test3.lower())\n",
    "test3.lower().find(\"konjac\")"
   ]
  },
  {
   "cell_type": "code",
   "execution_count": 43,
   "metadata": {},
   "outputs": [
    {
     "name": "stdout",
     "output_type": "stream",
     "text": [
      "Entities []\n"
     ]
    }
   ],
   "source": [
    "print('Entities', [(ent.text, ent.label_,ent.start_char,ent.end_char) for ent in doc.ents])"
   ]
  },
  {
   "cell_type": "code",
   "execution_count": 44,
   "metadata": {},
   "outputs": [
    {
     "data": {
      "text/plain": [
       "277"
      ]
     },
     "execution_count": 44,
     "metadata": {},
     "output_type": "execute_result"
    }
   ],
   "source": [
    "test4=\"I've never used a sponge to wash my face before..or ever written a review about a skincare product!...but this has changed everything!! I love this so much! It has quite a rubbery feel to it but leaves my skin squeaky clean! In the shower so long now just washing my face with Konjac Sponge! Also used it to take face mask off :-)\"\n",
    "doc=nlp2(test4.lower())\n",
    "test4.lower().find(\"konjac\")"
   ]
  },
  {
   "cell_type": "code",
   "execution_count": 45,
   "metadata": {},
   "outputs": [
    {
     "name": "stdout",
     "output_type": "stream",
     "text": [
      "Entities [('konjac', 'Garnier Organic Konjac Botanical Cleansing Sponge', 277, 283)]\n"
     ]
    }
   ],
   "source": [
    "print('Entities', [(ent.text, ent.label_,ent.start_char,ent.end_char) for ent in doc.ents])"
   ]
  },
  {
   "cell_type": "code",
   "execution_count": null,
   "metadata": {},
   "outputs": [],
   "source": []
  }
 ],
 "metadata": {
  "kernelspec": {
   "display_name": "Python 3",
   "language": "python",
   "name": "python3"
  },
  "language_info": {
   "codemirror_mode": {
    "name": "ipython",
    "version": 3
   },
   "file_extension": ".py",
   "mimetype": "text/x-python",
   "name": "python",
   "nbconvert_exporter": "python",
   "pygments_lexer": "ipython3",
   "version": "3.7.4"
  }
 },
 "nbformat": 4,
 "nbformat_minor": 4
}
